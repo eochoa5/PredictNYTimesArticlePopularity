{
 "cells": [
  {
   "cell_type": "markdown",
   "metadata": {},
   "source": [
    "# Predict whether or not NY Times articles will be popular.  6532 articles training, 1870 testing"
   ]
  },
  {
   "cell_type": "markdown",
   "metadata": {},
   "source": [
    "# What the raw data looks like"
   ]
  },
  {
   "cell_type": "code",
   "execution_count": 3,
   "metadata": {},
   "outputs": [
    {
     "data": {
      "text/html": [
       "<div>\n",
       "<style>\n",
       "    .dataframe thead tr:only-child th {\n",
       "        text-align: right;\n",
       "    }\n",
       "\n",
       "    .dataframe thead th {\n",
       "        text-align: left;\n",
       "    }\n",
       "\n",
       "    .dataframe tbody tr th {\n",
       "        vertical-align: top;\n",
       "    }\n",
       "</style>\n",
       "<table border=\"1\" class=\"dataframe\">\n",
       "  <thead>\n",
       "    <tr style=\"text-align: right;\">\n",
       "      <th></th>\n",
       "      <th>NewsDesk</th>\n",
       "      <th>SectionName</th>\n",
       "      <th>SubsectionName</th>\n",
       "      <th>Headline</th>\n",
       "      <th>Snippet</th>\n",
       "      <th>Abstract</th>\n",
       "      <th>WordCount</th>\n",
       "      <th>PubDate</th>\n",
       "      <th>Popular</th>\n",
       "      <th>UniqueID</th>\n",
       "    </tr>\n",
       "  </thead>\n",
       "  <tbody>\n",
       "    <tr>\n",
       "      <th>0</th>\n",
       "      <td>Business</td>\n",
       "      <td>Crosswords/Games</td>\n",
       "      <td>NaN</td>\n",
       "      <td>More School Daze</td>\n",
       "      <td>A puzzle from Ethan Cooper that reminds me tha...</td>\n",
       "      <td>A puzzle from Ethan Cooper that reminds me tha...</td>\n",
       "      <td>508</td>\n",
       "      <td>2014-09-01 22:00:09</td>\n",
       "      <td>1</td>\n",
       "      <td>1</td>\n",
       "    </tr>\n",
       "    <tr>\n",
       "      <th>1</th>\n",
       "      <td>Culture</td>\n",
       "      <td>Arts</td>\n",
       "      <td>NaN</td>\n",
       "      <td>New 96-Page Murakami Work Coming in December</td>\n",
       "      <td>The Strange Library will arrive just three and...</td>\n",
       "      <td>The Strange Library will arrive just three and...</td>\n",
       "      <td>285</td>\n",
       "      <td>2014-09-01 21:14:07</td>\n",
       "      <td>0</td>\n",
       "      <td>2</td>\n",
       "    </tr>\n",
       "    <tr>\n",
       "      <th>2</th>\n",
       "      <td>Business</td>\n",
       "      <td>Business Day</td>\n",
       "      <td>Dealbook</td>\n",
       "      <td>Public Pension Funds Stay Mum on Corporate Expats</td>\n",
       "      <td>Public pension funds have major stakes in Amer...</td>\n",
       "      <td>Public pension funds have major stakes in Amer...</td>\n",
       "      <td>1211</td>\n",
       "      <td>2014-09-01 21:05:36</td>\n",
       "      <td>0</td>\n",
       "      <td>3</td>\n",
       "    </tr>\n",
       "    <tr>\n",
       "      <th>3</th>\n",
       "      <td>Business</td>\n",
       "      <td>Business Day</td>\n",
       "      <td>Dealbook</td>\n",
       "      <td>Boot Camp for Bankers</td>\n",
       "      <td>As they struggle to find new business to bolst...</td>\n",
       "      <td>As they struggle to find new business to bolst...</td>\n",
       "      <td>1405</td>\n",
       "      <td>2014-09-01 20:43:34</td>\n",
       "      <td>1</td>\n",
       "      <td>4</td>\n",
       "    </tr>\n",
       "    <tr>\n",
       "      <th>4</th>\n",
       "      <td>Science</td>\n",
       "      <td>Health</td>\n",
       "      <td>NaN</td>\n",
       "      <td>Of Little Help to Older Knees</td>\n",
       "      <td>Middle-aged and older patients are unlikely to...</td>\n",
       "      <td>Middle-aged and older patients are unlikely to...</td>\n",
       "      <td>181</td>\n",
       "      <td>2014-09-01 18:58:51</td>\n",
       "      <td>1</td>\n",
       "      <td>5</td>\n",
       "    </tr>\n",
       "  </tbody>\n",
       "</table>\n",
       "</div>"
      ],
      "text/plain": [
       "   NewsDesk       SectionName SubsectionName  \\\n",
       "0  Business  Crosswords/Games            NaN   \n",
       "1   Culture              Arts            NaN   \n",
       "2  Business      Business Day       Dealbook   \n",
       "3  Business      Business Day       Dealbook   \n",
       "4   Science            Health            NaN   \n",
       "\n",
       "                                            Headline  \\\n",
       "0                                   More School Daze   \n",
       "1       New 96-Page Murakami Work Coming in December   \n",
       "2  Public Pension Funds Stay Mum on Corporate Expats   \n",
       "3                              Boot Camp for Bankers   \n",
       "4                      Of Little Help to Older Knees   \n",
       "\n",
       "                                             Snippet  \\\n",
       "0  A puzzle from Ethan Cooper that reminds me tha...   \n",
       "1  The Strange Library will arrive just three and...   \n",
       "2  Public pension funds have major stakes in Amer...   \n",
       "3  As they struggle to find new business to bolst...   \n",
       "4  Middle-aged and older patients are unlikely to...   \n",
       "\n",
       "                                            Abstract  WordCount  \\\n",
       "0  A puzzle from Ethan Cooper that reminds me tha...        508   \n",
       "1  The Strange Library will arrive just three and...        285   \n",
       "2  Public pension funds have major stakes in Amer...       1211   \n",
       "3  As they struggle to find new business to bolst...       1405   \n",
       "4  Middle-aged and older patients are unlikely to...        181   \n",
       "\n",
       "               PubDate  Popular  UniqueID  \n",
       "0  2014-09-01 22:00:09        1         1  \n",
       "1  2014-09-01 21:14:07        0         2  \n",
       "2  2014-09-01 21:05:36        0         3  \n",
       "3  2014-09-01 20:43:34        1         4  \n",
       "4  2014-09-01 18:58:51        1         5  "
      ]
     },
     "execution_count": 3,
     "metadata": {},
     "output_type": "execute_result"
    }
   ],
   "source": [
    "import numpy as np\n",
    "import pandas as pd\n",
    "from sklearn.model_selection import train_test_split\n",
    "from sklearn.metrics import accuracy_score\n",
    "from sklearn.model_selection import cross_val_score\n",
    "from sklearn.tree import DecisionTreeClassifier\n",
    "import time\n",
    "import datetime\n",
    "from collections import Counter\n",
    "\n",
    "df = pd.read_csv('../NYTimesBlogTrain.csv')\n",
    "df.head()"
   ]
  },
  {
   "cell_type": "markdown",
   "metadata": {},
   "source": [
    "# Convert PubDate to milliseconds, replace null values with the median value"
   ]
  },
  {
   "cell_type": "code",
   "execution_count": 4,
   "metadata": {
    "collapsed": true
   },
   "outputs": [],
   "source": [
    "y = df['Popular'] \n",
    "\n",
    "# convert date to timestamp (milliseconds, divide by a million to get a more readable decimal)\n",
    "df['PubDate'] = df['PubDate'].apply(lambda x: time.mktime(time.strptime(x, '%Y-%m-%d %H:%M:%S'))/1000000)\n",
    "\n",
    "#replace empty values with the middle most common word\n",
    "\n",
    "def nan_to_meaningful(x, col):\n",
    "    if pd.isnull(x):\n",
    "        mc = Counter(col).most_common(8)\n",
    "        mc = [str(i[0]) for i in mc]\n",
    "        if 'nan' in mc:\n",
    "            mc.remove('nan')\n",
    "        rep = mc.pop((len(mc))//2)\n",
    "        return rep\n",
    "        \n",
    "    return x\n",
    "        \n",
    "my_list = [\"NewsDesk\",\"SectionName\",\"SubsectionName\",\"Headline\",\"Snippet\",\"Abstract\"]\n",
    "\n",
    "for f in my_list: \n",
    "    df[f] = df[f].apply(nan_to_meaningful, args=(df[f],))\n"
   ]
  },
  {
   "cell_type": "markdown",
   "metadata": {},
   "source": [
    "# Convert columns that contain sentences into Series of words, so each word can be a column"
   ]
  },
  {
   "cell_type": "code",
   "execution_count": 5,
   "metadata": {
    "collapsed": true
   },
   "outputs": [],
   "source": [
    "# split sentences into series of words so each word can be a column\n",
    "def string_to_series_of_words(x):    \n",
    "    return pd.Series(x.split(\" \"))\n",
    "\n",
    "\n",
    "for f in my_list[3:]:\n",
    "    df[f] = df[f].apply(string_to_series_of_words)"
   ]
  },
  {
   "cell_type": "markdown",
   "metadata": {},
   "source": [
    "# use get_dummies to make the words in each column a column, print the new columns(features)"
   ]
  },
  {
   "cell_type": "code",
   "execution_count": 6,
   "metadata": {},
   "outputs": [
    {
     "name": "stdout",
     "output_type": "stream",
     "text": [
      "['WordCount', 'PubDate', 'UniqueID', 'NewsDesk_Business', 'NewsDesk_Culture', 'NewsDesk_Foreign', 'NewsDesk_Magazine', 'NewsDesk_Metro', 'NewsDesk_National', 'NewsDesk_OpEd', 'NewsDesk_Science', 'NewsDesk_Sports', 'NewsDesk_Styles', 'NewsDesk_TStyle', 'NewsDesk_Travel', 'SectionName_Arts', 'SectionName_Business Day', 'SectionName_Crosswords/Games', 'SectionName_Health', 'SectionName_Magazine', 'SectionName_Multimedia', 'SectionName_N.Y. / Region', 'SectionName_Open', 'SectionName_Opinion', 'SectionName_Sports', 'SectionName_Style', 'SectionName_Technology', 'SectionName_Travel', 'SectionName_U.S.', 'SectionName_World', 'SubsectionName_Asia Pacific', 'SubsectionName_Dealbook', 'SubsectionName_Education', 'SubsectionName_Fashion & Style', 'SubsectionName_Politics', 'SubsectionName_Room For Debate', 'SubsectionName_Small Business', 'SubsectionName_The Public Editor', 'Headline_', 'Headline_\"An', 'Headline_\"Gigi\"', 'Headline_\"Honey', 'Headline_\"Please', 'Headline_$1', 'Headline_$1.5', 'Headline_$23', 'Headline_$25,000', 'Headline_$40', 'Headline_$400,000', 'Headline_$50,000', 'Headline_&lsquo;A', \"Headline_'Basetrack\", \"Headline_'Big\", \"Headline_'Boardwalk\", \"Headline_'Boyhood'\", \"Headline_'Chanel's\", \"Headline_'Chant\", \"Headline_'Children\", \"Headline_'Color\", \"Headline_'Dalai\", \"Headline_'Dallas'\", \"Headline_'Django\", \"Headline_'Doctor\", \"Headline_'Don't\", \"Headline_'Elephant\", \"Headline_'Every\", \"Headline_'Evil\", \"Headline_'Extreme\", \"Headline_'Finding\", \"Headline_'Follow\", \"Headline_'Frozen'\", \"Headline_'Gone\", \"Headline_'Gotham'\", \"Headline_'Guardians'\", \"Headline_'Hamilton'\", \"Headline_'Hand\", \"Headline_'He's\", \"Headline_'Heidi\", \"Headline_'Home\", \"Headline_'Homeland'\", \"Headline_'Human\", \"Headline_'Hunger\", \"Headline_'Interstellar'\", \"Headline_'Invisible'\", \"Headline_'Jazz\", \"Headline_'Just\", \"Headline_'Kissing\", \"Headline_'Lord\", \"Headline_'Masters\", \"Headline_'Maze\", \"Headline_'Nightcrawler'\", \"Headline_'No\", \"Headline_'Not\", \"Headline_'Obamacare'\", \"Headline_'Off\", \"Headline_'Ouija'\", \"Headline_'Pippin'\", \"Headline_'Pretesting'\", \"Headline_'Redskins'\", \"Headline_'Rodgers\", \"Headline_'Scandal'\", \"Headline_'Shoah's'\", \"Headline_'Signal\", \"Headline_'Sleepy\", \"Headline_'Song\", \"Headline_'Spoofing,'\", \"Headline_'The\", \"Headline_'This\", \"Headline_'Twin\", \"Headline_'Waterfall,'\", \"Headline_'What\", \"Headline_'Where\", \"Headline_'Why\", \"Headline_'Wolf\", 'Headline_1-800-Flowers', 'Headline_10', 'Headline_100', 'Headline_12', 'Headline_1868:', 'Headline_1889:', 'Headline_1892:', 'Headline_19', 'Headline_1906:', 'Headline_1909:', 'Headline_1912:', 'Headline_1913:', 'Headline_1914:', 'Headline_1920', 'Headline_1930:', 'Headline_1936:', 'Headline_1937', 'Headline_1939:', 'Headline_1944', 'Headline_1948', 'Headline_1954', 'Headline_1957', 'Headline_1964', 'Headline_1964:', 'Headline_1965:', 'Headline_1971', 'Headline_1976:', 'Headline_1978', 'Headline_1981:', 'Headline_1983', 'Headline_1985', 'Headline_1989:', 'Headline_1992:', 'Headline_2', 'Headline_20', 'Headline_2000', 'Headline_2001', 'Headline_2011', 'Headline_2014', 'Headline_2015', 'Headline_20th-Century', 'Headline_21', 'Headline_3', 'Headline_4', 'Headline_50', 'Headline_500', 'Headline_53', 'Headline_6', 'Headline_7', 'Headline_8', 'Headline_9', 'Headline_99', 'Headline_A', 'Headline_A.I.G.', 'Headline_A.M.D.', 'Headline_ABN', 'Headline_ACA', 'Headline_APEC', 'Headline_AT&T', 'Headline_AbbVie', \"Headline_AbbVie's\", 'Headline_Abenomics', 'Headline_Abortion,', 'Headline_About', 'Headline_Academic', 'Headline_Acapulco', 'Headline_Ackman', 'Headline_Actavis', 'Headline_Activist', 'Headline_Activists', 'Headline_Ad', 'Headline_Ada', 'Headline_Adam', 'Headline_Adidas', 'Headline_Adopted', 'Headline_Adoptees', 'Headline_Advisory', 'Headline_Advocating', 'Headline_Affordable', 'Headline_Afghan', 'Headline_Afghans', 'Headline_After', 'Headline_Aggressive', 'Headline_Aging', 'Headline_Ah,', 'Headline_Ai', 'Headline_Ailing', 'Headline_Air', 'Headline_Airbus', 'Headline_Airplane', 'Headline_Akin', 'Headline_Al', 'Headline_Alaska', 'Headline_Album', 'Headline_Alec', 'Headline_Alejandro', 'Headline_Alexander', 'Headline_Alibaba', \"Headline_Alibaba's\", 'Headline_Alibaba,', 'Headline_Alice', 'Headline_All', 'Headline_Allergan', 'Headline_Allergan-Valeant', 'Headline_Allianz', 'Headline_Alternative', 'Headline_Altice', 'Headline_Am', 'Headline_Amal', 'Headline_Amazon', 'Headline_Amazon,', 'Headline_American', 'Headline_Americans', \"Headline_Amgen's\", 'Headline_Amy', 'Headline_An', 'Headline_Ana', 'Headline_Analytics:', 'Headline_Anatomy', 'Headline_Ancient', 'Headline_And', 'Headline_Andjela', 'Headline_Andreea', 'Headline_Andreessen', 'Headline_Andrew', 'Headline_Andy', 'Headline_AngloGold', 'Headline_Animal', 'Headline_Ann', 'Headline_Anna', 'Headline_Anne', 'Headline_Anniversary', 'Headline_Another', 'Headline_Answering', 'Headline_Answers', 'Headline_Anti-Government', 'Headline_Antibiotics', 'Headline_Antitrust', 'Headline_Ants', 'Headline_Anya', 'Headline_Apartment', 'Headline_Apax-Linked', 'Headline_Apollo', \"Headline_App's\", 'Headline_Appeals', 'Headline_Apple', \"Headline_Apple's\", 'Headline_Apples', 'Headline_Appreciating', 'Headline_April', 'Headline_Aqua', 'Headline_Archipelago', 'Headline_Are', 'Headline_Argentine', 'Headline_Arguing', 'Headline_Ariana', 'Headline_Ariel', 'Headline_Arizona', 'Headline_Arkansas', 'Headline_Armory', 'Headline_Arrests', 'Headline_Art', 'Headline_ArtPrize', 'Headline_Artfully', 'Headline_Arthur', 'Headline_Artifacts', 'Headline_Artificial', 'Headline_Artist', 'Headline_Artistic', 'Headline_Artists', 'Headline_As', 'Headline_Ask', 'Headline_Asking', 'Headline_Assessing', 'Headline_Assisted-Living', 'Headline_Asymmetric', 'Headline_At', 'Headline_Athleisure-Appropriate', 'Headline_Atlanta', 'Headline_Attorney', 'Headline_Australias', 'Headline_Authors', 'Headline_Autocorrect', 'Headline_Autumn', \"Headline_Auxilium's\", 'Headline_Averting', 'Headline_Aviva', 'Headline_Award-Winning', 'Headline_B.B.', 'Headline_BAM', 'Headline_BB&T', 'Headline_BGC', 'Headline_BHP', 'Headline_BNP', 'Headline_BP', 'Headline_BSkyB', 'Headline_BT', 'Headline_Back', 'Headline_Backing', 'Headline_Bad', 'Headline_Bagel', 'Headline_Bain', 'Headline_Bake', 'Headline_Balagan', \"Headline_Balenciaga's\", 'Headline_Balfour', 'Headline_Ban', 'Headline_Bananas', 'Headline_Banco', 'Headline_Bank', 'Headline_Banker', 'Headline_Bankers', 'Headline_Bankruptcy', 'Headline_Banks', \"Headline_Banks'\", 'Headline_Banksy', 'Headline_Bao', 'Headline_Barack', 'Headline_Barclays', 'Headline_Barriers', 'Headline_Bartending', 'Headline_Battle', 'Headline_Battling', 'Headline_Bayer', 'Headline_Be', 'Headline_Bean', 'Headline_Beating', 'Headline_Beauty', 'Headline_Becoming', 'Headline_Becton', 'Headline_Beer', 'Headline_Before', 'Headline_Behind', 'Headline_Beijing', 'Headline_Ben', 'Headline_Benchmarks:', 'Headline_Beneath', 'Headline_Benjamin', 'Headline_Bennett', 'Headline_Berluti,', 'Headline_Bernanke', 'Headline_Bertrand', 'Headline_Bespoke', 'Headline_Bessie', 'Headline_Best', 'Headline_Better', 'Headline_Betty', 'Headline_Beware', 'Headline_Beyonc&eacute;', \"Headline_Beyonce's\", 'Headline_Beyond', 'Headline_Bhumika', 'Headline_Bhutan:', 'Headline_Biden', 'Headline_Big', 'Headline_Bigger', 'Headline_Biking', 'Headline_Bill', 'Headline_Billions', 'Headline_Billy', 'Headline_Biotech', 'Headline_Birth', 'Headline_Bitcoin', 'Headline_Bittersweet', 'Headline_Black', 'Headline_BlackRock', 'Headline_Blacks,', 'Headline_Blackstone', \"Headline_Blackstone's\", 'Headline_Blackwater', 'Headline_Blake', 'Headline_Blockchain', 'Headline_Bloomberg', 'Headline_Blue', 'Headline_Bob', 'Headline_Boehner', 'Headline_Bollor', 'Headline_Bonding', 'Headline_Bonnie', 'Headline_Bono', 'Headline_Book', 'Headline_Boot', 'Headline_Borrowing', 'Headline_Boston', \"Headline_Bot&iacute;n's\", 'Headline_Both', 'Headline_Botox', 'Headline_Bouquet,', 'Headline_Boutique', 'Headline_Bow', 'Headline_Boy', 'Headline_Boycott', 'Headline_Brad', 'Headline_Bradlee', 'Headline_Brains', 'Headline_Braintree,', 'Headline_Brandishing', \"Headline_Braun's\", 'Headline_Bravo,', \"Headline_Brazil's\", 'Headline_Brazilian', 'Headline_Breaking', 'Headline_Bright', 'Headline_Bringing', 'Headline_Britain', 'Headline_British', 'Headline_Broaden', 'Headline_Broadway', \"Headline_Broadway's\", 'Headline_Brokaw,', 'Headline_Brokers', 'Headline_Brooklyn', 'Headline_Brooklyn,', 'Headline_Brooks', 'Headline_Brown', 'Headline_Bruce', 'Headline_Brutalism,', 'Headline_Bryan', 'Headline_Budget', 'Headline_Buffett', 'Headline_Bugs', 'Headline_Building', \"Headline_Bulgari's\", 'Headline_Bullies', 'Headline_Bunny', \"Headline_Bunny's\", 'Headline_Buoyant', \"Headline_Burberry's\", 'Headline_Burning', 'Headline_Business', 'Headline_Businesses', 'Headline_Butterflies', 'Headline_Buying', 'Headline_By', 'Headline_Bystander', 'Headline_C.D.C.', 'Headline_C.J.', 'Headline_CFDA', 'Headline_CME', 'Headline_CMJ', 'Headline_Cabaret', 'Headline_Cable', 'Headline_Caesarism', 'Headline_Calculating', 'Headline_Calder', 'Headline_Calico,', 'Headline_California', 'Headline_Call', 'Headline_Calle', 'Headline_Calm', 'Headline_Calpers,', 'Headline_Calvin', 'Headline_Campaign', 'Headline_Campus', 'Headline_Can', \"Headline_Can't\", 'Headline_Canada', \"Headline_Canada's\", 'Headline_Canadian', 'Headline_Canary', 'Headline_Candidates', 'Headline_Candy.', 'Headline_Cannes', 'Headline_Capitalized', 'Headline_Capitol', 'Headline_Capping', 'Headline_Cara', 'Headline_Carl', 'Headline_Carlyle', \"Headline_Carlyle's\", 'Headline_Carnegie', 'Headline_Carsten', 'Headline_Carter', 'Headline_CartoDB,', 'Headline_Cash-Stuffed', 'Headline_Cashing', 'Headline_Casino', 'Headline_Casting', 'Headline_Cat', 'Headline_Cat-Sitting', 'Headline_Catarina', 'Headline_Caught', 'Headline_Caught!', 'Headline_Cavalier', 'Headline_Celebrate', 'Headline_Celebrating', 'Headline_Celebrity', 'Headline_Celiac', 'Headline_Center-Stage', 'Headline_Centerview', 'Headline_Central', 'Headline_Certain', 'Headline_Certainties,', 'Headline_Challenged', 'Headline_Challenges', 'Headline_Change', 'Headline_Changes', 'Headline_Changing', 'Headline_Channing', 'Headline_Charge', 'Headline_Charges', 'Headline_Charlatans', 'Headline_Charles', 'Headline_Chasing', 'Headline_Checking', 'Headline_Chef', \"Headline_Chekhov's\", 'Headline_Chelsea', 'Headline_Chemical', 'Headline_Chemistry', 'Headline_Chicago', 'Headline_Chickens', 'Headline_Chief', 'Headline_China', \"Headline_China's\", 'Headline_Chinese', 'Headline_Chiquita', \"Headline_Chiquita's\", 'Headline_Chloe', 'Headline_Choosing', 'Headline_Choreographer', 'Headline_Chris', 'Headline_Christian', 'Headline_Christie', 'Headline_Christopher', 'Headline_Circus', 'Headline_Cisco', 'Headline_Cisco:', \"Headline_Citadel's\", 'Headline_Cities', 'Headline_Citigroup', 'Headline_Citing', 'Headline_Citizens', 'Headline_Civil', 'Headline_Class', 'Headline_ClassDojo', 'Headline_ClassDojo:', 'Headline_Classical', 'Headline_Clay', 'Headline_Clear', 'Headline_Cleveland', 'Headline_Click', 'Headline_Climate', 'Headline_Clinton', \"Headline_Clinton's\", 'Headline_Clintons,', 'Headline_Close', 'Headline_Closing', 'Headline_Cloud', 'Headline_Clouds', 'Headline_Coal', 'Headline_Cocktails', 'Headline_Coco', 'Headline_Coffee', 'Headline_Coinbase', 'Headline_Colin', 'Headline_Collecting', 'Headline_Collection', \"Headline_Colombia's\", 'Headline_Colombians', 'Headline_Colon', 'Headline_Colonial', 'Headline_Color', 'Headline_Colorful', 'Headline_Columbus', 'Headline_Comcast', 'Headline_Coming', 'Headline_Commission', 'Headline_Committee', \"Headline_Commune's\", 'Headline_Communication', 'Headline_Companies', 'Headline_Companions', 'Headline_Company', 'Headline_Composer', 'Headline_Computer', 'Headline_Compuware', 'Headline_Confucian,', 'Headline_Confusingly', 'Headline_Congratulations!', 'Headline_Congress', 'Headline_Congressional', 'Headline_Congressman', \"Headline_Congressman's\", 'Headline_Conical', 'Headline_Connecticut', 'Headline_Consarn', 'Headline_Conservationists', 'Headline_Conservative', 'Headline_Conservatives', 'Headline_Constitutional', 'Headline_Consumer', 'Headline_Consumers', 'Headline_Contractionary', 'Headline_Conversation', 'Headline_Cooking', 'Headline_Cornyn', 'Headline_Corporate', 'Headline_Corporations', 'Headline_Cory', 'Headline_Cosmic', 'Headline_Costume', 'Headline_Cott', 'Headline_Coty', 'Headline_Could', 'Headline_Counting', 'Headline_Court', \"Headline_Court's\", 'Headline_Couscous', 'Headline_Cousin', 'Headline_Covering', 'Headline_Cow', 'Headline_Craftsy,', 'Headline_Craig', 'Headline_Creating', 'Headline_Creature', 'Headline_Creatures', 'Headline_Credit', 'Headline_Creditors', 'Headline_Crimped', 'Headline_Critical', 'Headline_Criticizing', 'Headline_Cross', 'Headline_Crowdfunding', 'Headline_Cruise', 'Headline_Cruises', 'Headline_Cruising', 'Headline_Cruz', 'Headline_Cry', 'Headline_Cults,', 'Headline_Cuomo', \"Headline_Cuomo's\", 'Headline_Cup', 'Headline_Custody', 'Headline_Cyberattack', 'Headline_Cyprus', 'Headline_DHL', 'Headline_DIS', 'Headline_DP', 'Headline_Dag', 'Headline_Daily', 'Headline_Daimler', 'Headline_Dallas', 'Headline_Damien', 'Headline_Dan', 'Headline_Danaher', 'Headline_Dangerous', 'Headline_Daniel', 'Headline_Daphne', 'Headline_Darwin', 'Headline_Daughter', 'Headline_Dave', 'Headline_David', 'Headline_Davis', 'Headline_De', 'Headline_Deadly', 'Headline_Deal', 'Headline_Dean', 'Headline_Dear', 'Headline_Death', 'Headline_Death,', 'Headline_Debating', 'Headline_Debbie', 'Headline_Debts', 'Headline_Deceiving', 'Headline_Deciding', 'Headline_Decline', 'Headline_Deep', 'Headline_Defenders', 'Headline_Demanding', 'Headline_Democratic', 'Headline_Democrats', \"Headline_Democrats'\", 'Headline_Democrats,', 'Headline_Dendreon,', 'Headline_Dengue', 'Headline_Dennis', 'Headline_Denzel', 'Headline_Deporting', 'Headline_Design', 'Headline_Despite', 'Headline_Destination:', 'Headline_Destiny', 'Headline_Details', 'Headline_Detection,', 'Headline_Detroit', \"Headline_Detroit's\", 'Headline_Deutsche', 'Headline_Dia', 'Headline_Diabetes', 'Headline_Diageo', 'Headline_Diamonds', 'Headline_Diana', 'Headline_Diane', 'Headline_Dick', 'Headline_Did', 'Headline_Digging', 'Headline_Digital', 'Headline_Diminishing', 'Headline_Dimon', 'Headline_Dining', 'Headline_Dinner,', 'Headline_Director', 'Headline_Disappointment', 'Headline_Disconnecting', 'Headline_Discouraged', 'Headline_Discussing', 'Headline_Discussion', 'Headline_Disinvestment', 'Headline_Dismay', 'Headline_Disney', 'Headline_Dispute', 'Headline_Diversity,', 'Headline_Diwali,', 'Headline_Do', 'Headline_Doctors', 'Headline_Documentary', 'Headline_Does', 'Headline_Dollar', 'Headline_Domestic', \"Headline_Don't\", 'Headline_Donating', 'Headline_Donmar', 'Headline_Dont', 'Headline_Dow', 'Headline_Down', 'Headline_Downhill', 'Headline_Dr.', 'Headline_Draw', 'Headline_Drawing', 'Headline_Drawn', 'Headline_Dream', 'Headline_Dreamboat', 'Headline_Dreaming', 'Headline_Dreamy', 'Headline_Dressed-Down', 'Headline_Dressing', 'Headline_Drink', 'Headline_Driving', 'Headline_Drones', 'Headline_Drug', 'Headline_Drugs', 'Headline_Duane', 'Headline_Dubai', 'Headline_Duchess', 'Headline_Duracell', 'Headline_During', 'Headline_Dust', \"Headline_Dvorak's\", 'Headline_Dynamic', 'Headline_E.C.B.', 'Headline_E.J.', 'Headline_EBay', \"Headline_EBay's\", 'Headline_EMC', 'Headline_Early', 'Headline_Easing', 'Headline_Eastman', 'Headline_Eat', 'Headline_Eating', 'Headline_Ebola', 'Headline_Ebola,', 'Headline_Ebola:', 'Headline_Eclectic', 'Headline_Economic', 'Headline_Economics', 'Headline_Ed', 'Headline_Eddie', 'Headline_Eight', 'Headline_Eike', 'Headline_Einhorn', 'Headline_Election', 'Headline_Electra', 'Headline_Electricity', 'Headline_Elena', 'Headline_Elisa', 'Headline_Elizabeth', 'Headline_Elle', 'Headline_Ello', 'Headline_Elmore', 'Headline_Elsa', \"Headline_Elvis's\", 'Headline_Email', 'Headline_Embellished', 'Headline_Embracing', 'Headline_Emilio', 'Headline_Emily', \"Headline_Emily's\", 'Headline_Emma', 'Headline_Emoji', 'Headline_Emotion', 'Headline_Emotions', 'Headline_Employee', 'Headline_Encana', 'Headline_Endo', 'Headline_Endorsing', 'Headline_Enforcing', 'Headline_Entering', 'Headline_Enterovirus', 'Headline_Enthusiasm', 'Headline_Epidemics', 'Headline_Epidurals', 'Headline_Eric', 'Headline_Ernesto', 'Headline_Error', 'Headline_Esp&iacute;rito', 'Headline_Espadrille-Style', 'Headline_Espadrilles', 'Headline_Esteban', 'Headline_Estimated', 'Headline_Eton', \"Headline_Etro's\", 'Headline_Eugenia', 'Headline_Eulogy', 'Headline_Euro', 'Headline_Europanic', 'Headline_Europe', 'Headline_Europe&rsquo;s', \"Headline_Europe's\", 'Headline_European', 'Headline_Eurozone', 'Headline_Even', 'Headline_Everyone', 'Headline_Evolution', 'Headline_Ex-Chief', 'Headline_Ex-Currency', 'Headline_Ex-Employee', 'Headline_Ex-Investor', 'Headline_Ex-Prosecutor', 'Headline_Ex-Trader,', 'Headline_Examining', 'Headline_Excluded', 'Headline_Exclusive:', 'Headline_Excursions', 'Headline_Exercise', 'Headline_Exercising', 'Headline_Exhibit', 'Headline_Exhibition', 'Headline_Expanding', 'Headline_Expectations', 'Headline_Expected', 'Headline_Expedia', 'Headline_Exploring', 'Headline_Exponential', 'Headline_Expressions', 'Headline_Exquisite', 'Headline_Extra', 'Headline_F.C.C.', 'Headline_F.T.C.', 'Headline_FMC', 'Headline_Fabio', 'Headline_Facebook', \"Headline_Facebook's\", 'Headline_Faces', 'Headline_Facing', 'Headline_Facts', 'Headline_Failed', 'Headline_Failing', 'Headline_Fair', 'Headline_Fairs', 'Headline_Fairy', 'Headline_Fake', 'Headline_Fall', 'Headline_Fallen', 'Headline_Familiar', 'Headline_Family', 'Headline_Famine', 'Headline_FanDuel,', 'Headline_Fannie', 'Headline_Fannie-Freddie', 'Headline_Fans', 'Headline_Fantex', 'Headline_Far', 'Headline_Farewell', 'Headline_Farm', 'Headline_Fashion', \"Headline_Fashion's\", 'Headline_Fashionistas', 'Headline_Fast', 'Headline_Fearing', 'Headline_Fears', 'Headline_Feather-Trimmed', 'Headline_Fed', \"Headline_Fed's\", 'Headline_Federal', 'Headline_Feeding', 'Headline_Fei', 'Headline_Feit,', 'Headline_Ferguson', 'Headline_Ferguson,', 'Headline_Fertilizer', 'Headline_Fiction', 'Headline_Fidelity', 'Headline_Fight', 'Headline_Fighting', 'Headline_Figuring', 'Headline_Filling', 'Headline_Film', 'Headline_Final', 'Headline_Finalists', 'Headline_Financial', 'Headline_Finding', 'Headline_Fingers', 'Headline_Finishing', \"Headline_Finland's\", 'Headline_Finnish', 'Headline_Finra', 'Headline_Firefighter', 'Headline_Firefox', 'Headline_Firm', 'Headline_First', 'Headline_Fiscal', 'Headline_Five', 'Headline_FiveStars,', 'Headline_Fjord', 'Headline_Flamenco', 'Headline_Flaming', 'Headline_Flattening', 'Headline_Flavors', 'Headline_Flea', 'Headline_Fledgling', 'Headline_Flight', 'Headline_Flights', 'Headline_Flip', 'Headline_Florida', 'Headline_Flower', 'Headline_Fly', 'Headline_Flyaway', 'Headline_Follow', 'Headline_Following', 'Headline_Food', 'Headline_Foot', 'Headline_For', 'Headline_Foreign', 'Headline_Forget', 'Headline_Former', 'Headline_Foul', 'Headline_Found', 'Headline_Founder', 'Headline_Foundry', 'Headline_Four', 'Headline_Franca', 'Headline_France', 'Headline_Francesco', 'Headline_Frank', 'Headline_Franois', 'Headline_Franz', 'Headline_Franzi', 'Headline_Frederic', 'Headline_Freer', 'Headline_Freezing', 'Headline_French', 'Headline_Friday', 'Headline_Frieze', 'Headline_Fringe', 'Headline_From', 'Headline_Fund', 'Headline_Funny', 'Headline_G.E.', 'Headline_G.O.P.', 'Headline_Game', 'Headline_Garance', 'Headline_Gareth', 'Headline_Garmin', 'Headline_Gary', 'Headline_Gas', 'Headline_Gathering', 'Headline_Gatti', 'Headline_Gauging', 'Headline_Gay', 'Headline_Geberit', \"Headline_Gehry's\", 'Headline_Geithner', \"Headline_Geldof's\", 'Headline_Gemma', 'Headline_General', 'Headline_Genetic', 'Headline_George', 'Headline_Georgia', 'Headline_Georgian', 'Headline_German', 'Headline_Get', 'Headline_Getting', 'Headline_Getty', 'Headline_Ghost', 'Headline_Giant', 'Headline_Giddy', 'Headline_Giffords', 'Headline_Gift', 'Headline_Gigya,', 'Headline_Gillespie', 'Headline_Gillian', \"Headline_Gillibrand's\", 'Headline_Gingerbread', 'Headline_Gingham', 'Headline_Girls', 'Headline_GitHub', 'Headline_Give', 'Headline_Giving', 'Headline_Glam-Rock', 'Headline_Glen', \"Headline_Glencore's\", 'Headline_Global', 'Headline_Globalfest', 'Headline_Globe', 'Headline_Glossy', 'Headline_Go', 'Headline_GoPro', 'Headline_Going', 'Headline_Gold', 'Headline_Golden', 'Headline_Goldman', \"Headline_Goldman's\", 'Headline_Goldman,', 'Headline_Gone', 'Headline_Good', 'Headline_Goodbye', 'Headline_Google', \"Headline_Google's\", 'Headline_Gorillas', 'Headline_Gotham', 'Headline_Government', 'Headline_Governor', 'Headline_Grand', 'Headline_Grant', 'Headline_Grasping', 'Headline_Gratitude,', 'Headline_Great', 'Headline_Greece', 'Headline_Greed', 'Headline_Green', 'Headline_Greene', 'Headline_Grimes', 'Headline_Gross', 'Headline_Group', 'Headline_Groupon,', 'Headline_Growing', 'Headline_Grumbling', 'Headline_Grungy', 'Headline_Gstaad:', 'Headline_Guangdong', 'Headline_Guangzhou', \"Headline_Guant&aacute;namo's\", \"Headline_Gucci's\", 'Headline_Guest', 'Headline_Guggenheim', 'Headline_Guided', 'Headline_Guido', 'Headline_Guinness', 'Headline_Gun', \"Headline_Gurlitt's\", 'Headline_Gwyneth', 'Headline_H', 'Headline_HBO', 'Headline_HGGC', 'Headline_HP', 'Headline_HPV', 'Headline_HSBC', \"Headline_HSBC's\", \"Headline_Hackers'\", 'Headline_Hacking', \"Headline_Hagan's\", 'Headline_Hallberg', 'Headline_Halliburton', 'Headline_Halloween', \"Headline_Hamilton's\", 'Headline_Hanks', 'Headline_Happy', 'Headline_Hard', 'Headline_Harry', 'Headline_Has', 'Headline_Hasbro', 'Headline_Hashtag', 'Headline_Hassan', 'Headline_Hats', 'Headline_Have', 'Headline_Having', 'Headline_Hawke,', 'Headline_He', \"Headline_He'll\", 'Headline_Heading', 'Headline_Headlines', 'Headline_Health', 'Headline_Heard', 'Headline_Hedge', 'Headline_Heimatsicherheitsamt', 'Headline_Heineken', 'Headline_Helena', 'Headline_Helene', 'Headline_Hellman', 'Headline_Hello,', 'Headline_Help,', 'Headline_Helping', 'Headline_Henri', 'Headline_Her', \"Headline_Here's\", 'Headline_Heres', 'Headline_Hertz', \"Headline_Hertz's\", 'Headline_Hey', 'Headline_High', 'Headline_High-Frequency', 'Headline_High-Gloss', 'Headline_Higher', 'Headline_Highlights', 'Headline_Hillary', 'Headline_Hindsight,', 'Headline_Hints', 'Headline_Hiring', 'Headline_Historic', 'Headline_Historical', 'Headline_History', 'Headline_Hitting', 'Headline_Hold', 'Headline_Holder', 'Headline_Holding', 'Headline_Hollywood', 'Headline_Home', 'Headline_Homework', 'Headline_Honey', 'Headline_Hong', 'Headline_Honoring', 'Headline_Hood', 'Headline_Hootsuite', 'Headline_Hopes', 'Headline_Hospital', 'Headline_Hotel', 'Headline_Hotel-Room', 'Headline_Hotels', 'Headline_House', 'Headline_Houston,', 'Headline_Hoverboards:', 'Headline_How', 'Headline_Hugo', \"Headline_Humanity's\", 'Headline_Hurd:', 'Headline_I', 'Headline_I.M.F.', 'Headline_I.P.O.', 'Headline_I.S.S.', 'Headline_IBM', \"Headline_IBM's\", 'Headline_ING', 'Headline_ISIS', 'Headline_Ian', 'Headline_Icahn', \"Headline_Icahn's\", 'Headline_Ichabod', 'Headline_Ideas', 'Headline_If', 'Headline_Iggy', 'Headline_Ignited', 'Headline_Ignore', 'Headline_Ilham', 'Headline_Illinois', 'Headline_Illuminating', 'Headline_Imaan', 'Headline_Images', 'Headline_Imaginary', 'Headline_Immigration', 'Headline_In', 'Headline_Incredible', 'Headline_Indelible', 'Headline_Independence', \"Headline_Independents'\", 'Headline_Indiana', 'Headline_Industrial', 'Headline_Inequality', 'Headline_Inez', 'Headline_Inflation', 'Headline_Inflation,', 'Headline_Infographics', 'Headline_Injury', 'Headline_Inner', 'Headline_Inside', 'Headline_Insider', 'Headline_Insomniac,', 'Headline_Intel', 'Headline_Intensive', 'Headline_Interfaith', 'Headline_International', 'Headline_Into', 'Headline_Introducing', 'Headline_Invesco', 'Headline_Investigation', 'Headline_Investment', 'Headline_Investor', 'Headline_Investors', 'Headline_Inviting', 'Headline_Iowa', 'Headline_Iran', 'Headline_Iran&rsquo;s', 'Headline_Iranian', 'Headline_Ireland', 'Headline_Is', 'Headline_Isabel', 'Headline_Isis,', 'Headline_It', 'Headline_It&rsquo;s', \"Headline_It's\", 'Headline_Italian', \"Headline_J.Crew's\", 'Headline_J.W.', 'Headline_JBS', 'Headline_JDS', 'Headline_JPMorgan', 'Headline_Jack', 'Headline_Jacolby', 'Headline_Jaden', 'Headline_James', 'Headline_Jana', 'Headline_Janus', 'Headline_Japan', 'Headline_Japanese', 'Headline_Jasmin', 'Headline_Jason', 'Headline_Jawbone', 'Headline_Jay', 'Headline_Jean', 'Headline_Jeb', 'Headline_Jessica', 'Headline_Jewelry,', 'Headline_Jewels', 'Headline_Jewish', 'Headline_Jiang', 'Headline_Jil', 'Headline_Jimmy', 'Headline_Joan', 'Headline_Job', 'Headline_Jobs', 'Headline_Joe', 'Headline_John', 'Headline_Johnson', 'Headline_Jolie', 'Headline_Jon', 'Headline_Josephine', 'Headline_Josh', 'Headline_Joy', 'Headline_Joyce', 'Headline_Judge', 'Headline_Julia', 'Headline_Julianne', 'Headline_Julien', 'Headline_Juniper', 'Headline_Junk', 'Headline_Just', 'Headline_Justice', 'Headline_Justices', 'Headline_Justin', 'Headline_Justine', 'Headline_K.K.R.', 'Headline_Kansas', 'Headline_Kardashian', 'Headline_Karl', 'Headline_Kate', 'Headline_Kathryn', 'Headline_Katlin', 'Headline_Kean', 'Headline_Keep', 'Headline_Keeping', 'Headline_Keira', 'Headline_Kelsey', 'Headline_Kentucky', \"Headline_Kering's\", 'Headline_Kerry', 'Headline_Kevin', 'Headline_Key', 'Headline_Keynes', 'Headline_Khaki', 'Headline_Kik', 'Headline_Killing', 'Headline_Kim', 'Headline_Kindle', 'Headline_Kindred', 'Headline_Kirkus', 'Headline_Kirsten', 'Headline_Kissing', 'Headline_Klea', 'Headline_Kmart', 'Headline_Knaves,', 'Headline_Knots', 'Headline_Knowing', 'Headline_Koolhaas-Designed', 'Headline_Koons', 'Headline_Kosher', 'Headline_Kutiman', \"Headline_L.A.'s\", 'Headline_La', 'Headline_LaToya', 'Headline_LabCorp', \"Headline_LabCorp's\", \"Headline_Lampert's\", 'Headline_Land', 'Headline_Landrieu', 'Headline_Larry', 'Headline_Lars', 'Headline_Late', 'Headline_Latest', 'Headline_Latinos', 'Headline_Laughs', 'Headline_Laura', 'Headline_Laure', 'Headline_Lawmakers', 'Headline_Lawsuit', 'Headline_Lawsuits', 'Headline_Lawyer', 'Headline_Leaders', \"Headline_Leaders'\", 'Headline_Leadership', 'Headline_Leading', 'Headline_Leahy', 'Headline_Learning', 'Headline_Lecrae,', 'Headline_Legal', 'Headline_Leila', 'Headline_Lena', 'Headline_Lending', 'Headline_Lentils', 'Headline_Leonard', 'Headline_Less', 'Headline_Lessons', 'Headline_Let', \"Headline_Let's\", \"Headline_Letterman's\", 'Headline_Lewinsky', 'Headline_Lexi', 'Headline_Liberals', 'Headline_Libertarian', \"Headline_Library's\", \"Headline_Libya's\", 'Headline_Life', \"Headline_Life's\", 'Headline_Like', 'Headline_Lily', 'Headline_Lincoln', 'Headline_Linen', 'Headline_Lines', 'Headline_Link', 'Headline_Links', 'Headline_Lisa', 'Headline_List', 'Headline_Listening', 'Headline_Little', 'Headline_Live', 'Headline_Living', 'Headline_Lloyds', 'Headline_Loan', 'Headline_Local', 'Headline_Loeb', 'Headline_Lollipop,', 'Headline_London', 'Headline_Lonely', 'Headline_Long', 'Headline_Long-Running', 'Headline_Longtime', 'Headline_Longwood', 'Headline_Looking', 'Headline_Loose', 'Headline_Los', 'Headline_Lost', \"Headline_Louisiana's\", 'Headline_Love', 'Headline_Loving', 'Headline_Low', 'Headline_Low-Level', 'Headline_Low-Tech', 'Headline_Lowdown', 'Headline_Lower', 'Headline_Lower-Frequency', 'Headline_LoyalBlocks', 'Headline_Loyalties', 'Headline_Luck', 'Headline_Lunchtime', 'Headline_Luxe', 'Headline_Luxury', 'Headline_Lydie', 'Headline_Lyft', 'Headline_Lykke', 'Headline_Maastricht', 'Headline_Madison', 'Headline_Magdalena', \"Headline_Magnum's\", 'Headline_Mail.ru', 'Headline_Maine', \"Headline_Maine's\", 'Headline_Maja', 'Headline_Major', 'Headline_Majority', 'Headline_Make', 'Headline_Making', \"Headline_Malaysia's\", 'Headline_Malicious', 'Headline_Malnutrition', 'Headline_Man', 'Headline_Manohla', 'Headline_Manual', 'Headline_Many', 'Headline_Marc', 'Headline_Marcel', 'Headline_Marching', 'Headline_Marco', 'Headline_Marella', 'Headline_Margaret', 'Headline_Margherita', 'Headline_Mariano', \"Headline_Marie-Chantal's\", 'Headline_Marijuana', 'Headline_Marina', 'Headline_Marines', 'Headline_Mark', 'Headline_Market', 'Headline_Markets', 'Headline_Marni', 'Headline_Marquis', 'Headline_Marriott', 'Headline_Marta', 'Headline_Martin', 'Headline_Martoma', 'Headline_Martynka', 'Headline_Mary', 'Headline_Massacre', 'Headline_Math', 'Headline_Mathieu', 'Headline_Matt', 'Headline_Matthew', 'Headline_Mattress', 'Headline_Maya', 'Headline_McCain', 'Headline_McConnell', 'Headline_Me', 'Headline_Me,', 'Headline_Me?', 'Headline_Measuring', 'Headline_Medical', 'Headline_Medtronic', 'Headline_Meet', 'Headline_Meeting', 'Headline_Meg', 'Headline_Mega-Mergers', 'Headline_Melissa', 'Headline_Mememe', 'Headline_Memorial', 'Headline_Mental', 'Headline_Merck', 'Headline_Mercuria', 'Headline_Mercy', 'Headline_Message', 'Headline_MetLife', 'Headline_Metropolitan', \"Headline_Mexico's\", 'Headline_Michael', 'Headline_Michelle', 'Headline_Michigan', 'Headline_Mickalene', 'Headline_Microsoft', \"Headline_Microsoft's\", 'Headline_Microsofts', 'Headline_Middle', 'Headline_Midnight', 'Headline_Midterm', 'Headline_Midterms', 'Headline_Midwest', 'Headline_Migrants,', 'Headline_Mijo', 'Headline_Mike', 'Headline_Mikhail', 'Headline_Milan', 'Headline_Miley', 'Headline_Military', 'Headline_Milk', 'Headline_Miller', 'Headline_Millstein', \"Headline_Milly's\", 'Headline_Minecraft', \"Headline_Minecraft's\", 'Headline_Minnesota', 'Headline_Miranda', 'Headline_Miscellaneous', 'Headline_Miss', \"Headline_Missoni's\", 'Headline_Missoni:', 'Headline_Missouri', 'Headline_Mistakes', 'Headline_Misteaks', 'Headline_Mitch', 'Headline_Mitsubishi', 'Headline_Miu', 'Headline_Mixer', 'Headline_MoMA', 'Headline_Modern', 'Headline_Modern-Day', 'Headline_Modest', 'Headline_Moelis', 'Headline_Moments', 'Headline_Mon', 'Headline_Monarch', 'Headline_Money', 'Headline_Monica', 'Headline_Monster', 'Headline_Montana', 'Headline_Monte', 'Headline_Montserrat', 'Headline_Moon', 'Headline_More', 'Headline_Morgan', 'Headline_Morning', 'Headline_Morten', 'Headline_Most', 'Headline_Motherlode', \"Headline_Motorola's\", 'Headline_Move', 'Headline_Movies', 'Headline_Moving', 'Headline_Moyers', 'Headline_Mr.', 'Headline_Murder,', 'Headline_Murong', 'Headline_Museum', 'Headline_Music', 'Headline_Musical', 'Headline_Musicians', 'Headline_Must-See', 'Headline_Muti', 'Headline_My', 'Headline_N.R.A.', 'Headline_N.S.A.', 'Headline_NASA', 'Headline_NATO', 'Headline_NYTLNreads', 'Headline_Nakedness', 'Headline_Naming', 'Headline_Narendra', 'Headline_Nascar', 'Headline_National', 'Headline_Nature', 'Headline_Nautical', 'Headline_Navy', 'Headline_Nawaz', 'Headline_Neal', 'Headline_Near', 'Headline_Neck', 'Headline_Ned', 'Headline_Neil', 'Headline_Nelson', \"Headline_Nero's\", 'Headline_Nest', 'Headline_Net', 'Headline_Netanyahu', 'Headline_Netflix', \"Headline_Netflix's\", 'Headline_Networks', 'Headline_Never', 'Headline_New', 'Headline_New-Music', 'Headline_New-York', 'Headline_Newly', 'Headline_News', 'Headline_Newspaper', 'Headline_Nicest', 'Headline_Nicholas', 'Headline_Nick', 'Headline_Nike', \"Headline_Nike's\", 'Headline_Nine', 'Headline_No', 'Headline_No,', 'Headline_Nobel', 'Headline_Nobody', 'Headline_Nobu', 'Headline_Nominee', 'Headline_Nomura', 'Headline_Nonclassical,', 'Headline_Normcore', 'Headline_North', 'Headline_Norway', 'Headline_Norwegian', 'Headline_Nostalgia', 'Headline_Nostalgic', 'Headline_Not', 'Headline_Not-So-Breitbart', 'Headline_Not-So-Classic', 'Headline_Notes', 'Headline_Nothing', 'Headline_Nov.', 'Headline_Now', 'Headline_Nucor', 'Headline_Numbers', 'Headline_O.C.D.,', 'Headline_Oaktree', 'Headline_Obama', \"Headline_Obama's\", 'Headline_Obama,', 'Headline_Obamacare', 'Headline_Obese', 'Headline_Obesity', 'Headline_Oct.', 'Headline_October', 'Headline_Oculus', 'Headline_Of', 'Headline_Off', 'Headline_Off-the-Record', 'Headline_Officer', 'Headline_Oh,', 'Headline_Ohio', 'Headline_Okapi', 'Headline_Oktoberfest', 'Headline_Olafur', 'Headline_Old', 'Headline_Olivia', 'Headline_On', 'Headline_Ondria', 'Headline_One', 'Headline_One:', 'Headline_Onex', 'Headline_Online', 'Headline_Only', 'Headline_Oops!', 'Headline_Open', 'Headline_Opening', 'Headline_Opera', \"Headline_Operatives'\", 'Headline_Orange', 'Headline_Ordering', 'Headline_Ordoarithmetic', 'Headline_Oscar', 'Headline_Oscars', 'Headline_Other', 'Headline_Our', 'Headline_Outer', 'Headline_Outgrowing', 'Headline_Outside', 'Headline_Outsourcing', 'Headline_Over-the-Knee,', 'Headline_P2', 'Headline_PCOS:', 'Headline_Pabst', 'Headline_Pagans', 'Headline_Paid', 'Headline_Painted-On', 'Headline_Paintings', 'Headline_Pairing', 'Headline_Pale', 'Headline_Palestinian', \"Headline_Panel's\", 'Headline_Paper', 'Headline_Paradise', 'Headline_Parent', 'Headline_Parental', 'Headline_Parenting', 'Headline_Parents', 'Headline_Paris', \"Headline_Paris's\", 'Headline_Parking', 'Headline_Part', \"Headline_Parties'\", 'Headline_Party', 'Headline_Pas', 'Headline_Pass', 'Headline_Pat', 'Headline_Patterns', 'Headline_Paul', 'Headline_Pauline', 'Headline_Paulson', \"Headline_Paulson's\", 'Headline_Paying', 'Headline_Pearls', 'Headline_Peep', 'Headline_Peering', 'Headline_Peng', 'Headline_Pennsylvania', 'Headline_Pension', 'Headline_People', \"Headline_People's\", 'Headline_Peoples', 'Headline_Perella', 'Headline_Perfect', 'Headline_Performance', 'Headline_Perry', 'Headline_Persistent', 'Headline_Peru', 'Headline_Peter', 'Headline_Pfizer', 'Headline_Pharrell', 'Headline_Phil', 'Headline_Philadelphia', 'Headline_Philharmonic', 'Headline_Philip', 'Headline_Philippine', 'Headline_Philips', 'Headline_Phoebe', 'Headline_Phone', 'Headline_Phoney', 'Headline_Photo:', 'Headline_Photographers', 'Headline_Photos', 'Headline_Phragmites:', 'Headline_Phrases', \"Headline_Piaget's\", 'Headline_Picasso', 'Headline_Pick', 'Headline_Pickling', 'Headline_Picture', 'Headline_Pictures', 'Headline_Piece', 'Headline_Pieces', 'Headline_Piercing', 'Headline_Pierre', 'Headline_Pigeons', 'Headline_Pimco', 'Headline_PineBridge', 'Headline_Pink', 'Headline_Pity', 'Headline_Pizza,', 'Headline_Place', 'Headline_Placebo', 'Headline_Places', 'Headline_Plain', 'Headline_Platform', 'Headline_Play', 'Headline_Playful', 'Headline_Please.', 'Headline_Plowing', 'Headline_Pocketing', 'Headline_Poetic', 'Headline_Poetry', 'Headline_Police', 'Headline_Political', 'Headline_Politicians', 'Headline_Politics', 'Headline_Politics-Minded', 'Headline_Poll', 'Headline_Polls', 'Headline_Pondering', 'Headline_Ponytails', 'Headline_Poodle', 'Headline_Popcast:', 'Headline_Pope', \"Headline_Poroshenko's\", 'Headline_Portraits', 'Headline_Post-Fashion-Month', 'Headline_Post-Lehman,', 'Headline_Postmedia', 'Headline_Pouring', 'Headline_Poverty', 'Headline_Prabal', \"Headline_Prada's\", 'Headline_Praise', 'Headline_Pregnant', 'Headline_Pregnant,', 'Headline_Pregnant?', 'Headline_Premiere', 'Headline_Preparing', 'Headline_Preserving', 'Headline_President', 'Headline_Presidents', 'Headline_Pressure', 'Headline_Price', 'Headline_Priests', 'Headline_Prince', 'Headline_Princess', 'Headline_Printing', 'Headline_Prioritizing', 'Headline_Privacy', 'Headline_Private', 'Headline_Procter', \"Headline_Proctor's\", 'Headline_Proenza', 'Headline_Profit', 'Headline_Programmers', 'Headline_Programming', 'Headline_Promise', 'Headline_Pronouncing', 'Headline_Proposed', 'Headline_Prosecutor', 'Headline_Prosecutors', 'Headline_Prostate', 'Headline_Protecting', 'Headline_Protesting', 'Headline_Protests', 'Headline_Proxy', 'Headline_Psychedelic', 'Headline_Public', 'Headline_Publishing', 'Headline_Puerto', 'Headline_Punished', 'Headline_Punishments', 'Headline_Pursuit', 'Headline_Push', 'Headline_Put', 'Headline_Putin', 'Headline_Putting', 'Headline_Puzzle', 'Headline_Q&A', 'Headline_Q.', 'Headline_Qualcomm', 'Headline_Quality', 'Headline_Quandary', 'Headline_Quandary:', 'Headline_Qubcois', \"Headline_Queen's\", 'Headline_Question', 'Headline_Questions', 'Headline_Quip:', 'Headline_R&B', 'Headline_R.B.S.', 'Headline_R.I.P.', 'Headline_REIT', 'Headline_Rabobank', 'Headline_Race', 'Headline_Race:', 'Headline_Races', 'Headline_Racing', 'Headline_RadioShack', 'Headline_Rage', 'Headline_Raising', 'Headline_Raj', 'Headline_Rakuten', 'Headline_Rand', 'Headline_Random', 'Headline_Rare', 'Headline_Ratmansky', 'Headline_Ravenous', 'Headline_Raver-Style', 'Headline_Reaction', 'Headline_Readers', 'Headline_Reading', 'Headline_Ready', 'Headline_Real-World', 'Headline_Recipes', 'Headline_Reckitt', 'Headline_Reclaiming', 'Headline_Recognizing', 'Headline_Reconsidering', 'Headline_Recording', 'Headline_Red', 'Headline_Reddit', 'Headline_Redford', 'Headline_Regal', 'Headline_Regulator', 'Headline_Regulators', 'Headline_Rehab', 'Headline_Reimagined', 'Headline_Reince', 'Headline_Reindeer', 'Headline_Relational', 'Headline_Relatives', 'Headline_Release', 'Headline_Remembering', 'Headline_Remind', 'Headline_Remind,', 'Headline_Reminder:', 'Headline_Reminiscences', 'Headline_Ren&eacute;e', 'Headline_Renee', 'Headline_Repeat', 'Headline_Replaying', 'Headline_Report', 'Headline_Reporters', \"Headline_Reporters'\", 'Headline_Reporting', 'Headline_Representing', 'Headline_Republican', 'Headline_Republicans', \"Headline_Republicans'\", 'Headline_Required', 'Headline_Responding', 'Headline_Results', 'Headline_Retesting', 'Headline_Rethinking', 'Headline_Retro', 'Headline_Return', 'Headline_Retweet', 'Headline_Revenue', 'Headline_Review', 'Headline_Revised', 'Headline_Revisiting', 'Headline_Richard', 'Headline_Ridley', 'Headline_Rights', 'Headline_Rihanna,', 'Headline_Rio', 'Headline_Robert', 'Headline_Robotic', 'Headline_Rock', 'Headline_Rocket', \"Headline_Rodarte's\", 'Headline_Rogue', 'Headline_Roku,', 'Headline_Rome', 'Headline_Romney', 'Headline_Ron', 'Headline_Rosa', 'Headline_Rosetta', 'Headline_Rothko', 'Headline_Roundabout', 'Headline_Rove', 'Headline_Royal', 'Headline_Rudolph,', 'Headline_Rukmini', 'Headline_Ruling', 'Headline_Rural', 'Headline_Rush', 'Headline_Rushdie', 'Headline_Russia', 'Headline_Russian', 'Headline_Ruth', 'Headline_Ryan', 'Headline_S.', 'Headline_S.&P.', 'Headline_S.E.C.', \"Headline_S.E.C.'s\", 'Headline_SABMillers', 'Headline_SAP', 'Headline_SHV', 'Headline_SIG', 'Headline_SMRT', 'Headline_Safra', 'Headline_Saks', 'Headline_Salesforce', 'Headline_Salesforce.com', 'Headline_Salix', 'Headline_Sam', 'Headline_Same-Sex', 'Headline_Samsung', 'Headline_Samuel', 'Headline_San', 'Headline_Santander', 'Headline_Saturday', 'Headline_Saving', 'Headline_Say', 'Headline_Saying', 'Headline_Scenes', 'Headline_Scholars', 'Headline_Schomburg', 'Headline_School', 'Headline_Schools', 'Headline_Schumer', 'Headline_Schwarzenegger', 'Headline_Scotland', 'Headline_Scotland,', 'Headline_Scott', 'Headline_Sean', 'Headline_Searching', 'Headline_Sears', 'Headline_Season', 'Headline_Seasonal', 'Headline_Seatbelt', 'Headline_Seattle', 'Headline_Secret', 'Headline_Secretary', 'Headline_Security', 'Headline_Seeding', 'Headline_Seeing', 'Headline_Seeking', 'Headline_Select', 'Headline_Selfies', 'Headline_Selling', 'Headline_Senate', 'Headline_Senator', 'Headline_Senior', 'Headline_Sequoia', 'Headline_Serena', 'Headline_Seven', 'Headline_Sex', 'Headline_Sexual', 'Headline_Shaheen', 'Headline_Shaky', 'Headline_Shamed,', 'Headline_Shanghai', 'Headline_Share', 'Headline_Shareholder', 'Headline_Shareholders', 'Headline_Shares', 'Headline_Shawn', 'Headline_She', 'Headline_Shell', 'Headline_Sherborne', 'Headline_Sheri', \"Headline_Sheridan's\", \"Headline_Sherman's\", 'Headline_Shifting', 'Headline_Shipping', 'Headline_Shire', 'Headline_Shivers', 'Headline_Shoefie', 'Headline_Short-Seller', 'Headline_Shortlists', 'Headline_Should', 'Headline_Shouts', 'Headline_Showtime', 'Headline_Shubert', 'Headline_Shunning', 'Headline_Shut', 'Headline_Shutdown', 'Headline_Siemens', 'Headline_Signs', 'Headline_Silver', 'Headline_Simply', 'Headline_Simpson', 'Headline_Sinead', 'Headline_Sing', 'Headline_Sinopec', 'Headline_Sisters', 'Headline_Sit', 'Headline_Six', 'Headline_Skipping', 'Headline_Sky', 'Headline_Sky-High', 'Headline_Slack,', 'Headline_Sleepy', 'Headline_Slicked-Back', 'Headline_Slide', 'Headline_Slouchy', 'Headline_Slow', 'Headline_Slower', 'Headline_Sluggish', 'Headline_Small', 'Headline_Smart', 'Headline_Smithsonian', 'Headline_Smoothies,', 'Headline_Sneak', 'Headline_Snippets', 'Headline_So,', 'Headline_Soaking', 'Headline_Sobbing', 'Headline_Soccer', 'Headline_Socit', 'Headline_SoftBank', 'Headline_Softcore', 'Headline_Solange', 'Headline_SolarCity', 'Headline_Some', 'Headline_Sondheim', 'Headline_Sony', \"Headline_Sony's\", 'Headline_Sonya', 'Headline_Sophie', 'Headline_Sororities:', \"Headline_Sotheby's\", 'Headline_South', 'Headline_Southwest', 'Headline_Spanking', 'Headline_Spending', 'Headline_Sphinx', 'Headline_Spider-Man', 'Headline_Spielberg', 'Headline_Spike', 'Headline_Sports', 'Headline_Spouses', 'Headline_Spring-Season', \"Headline_Sprint's\", 'Headline_Spy', 'Headline_Square', 'Headline_St.', 'Headline_Stand', 'Headline_Stand-Up', 'Headline_Standard', 'Headline_Standing', 'Headline_Staples', 'Headline_Star-Covered', 'Headline_Stars', 'Headline_Start-Up', 'Headline_Stasha', 'Headline_State', 'Headline_States', 'Headline_Statoil', 'Headline_Staying', 'Headline_Steep', 'Headline_Steering', 'Headline_Stefan', 'Headline_Steinhoff', 'Headline_Stella', 'Headline_Step', 'Headline_Stephen', 'Headline_Stepmother:', 'Headline_Steris', 'Headline_Steven', 'Headline_Stevens', 'Headline_Stevie', 'Headline_Steyer', 'Headline_Still', 'Headline_Sting', 'Headline_Stood', 'Headline_Stopping', 'Headline_Story', 'Headline_Strange,', 'Headline_Stratford', 'Headline_Stream', 'Headline_Stressed', 'Headline_Stressed?', 'Headline_Stricter', 'Headline_Strikes', 'Headline_Strolling', 'Headline_Strong', 'Headline_Structural', 'Headline_Student', 'Headline_Students', 'Headline_Study', 'Headline_Sturdy', 'Headline_Submit', 'Headline_Subway', 'Headline_Suddenly,', 'Headline_Suit', 'Headline_Suki', 'Headline_Sulfur', 'Headline_Summer', 'Headline_Summery', 'Headline_SunEdison', 'Headline_Sunday', 'Headline_Support', 'Headline_Supreme', 'Headline_Surface', 'Headline_Surprise', 'Headline_Surrendering', 'Headline_Surround', 'Headline_Survey', 'Headline_Surviving', 'Headline_Susan', 'Headline_Suspect', 'Headline_Susquehanna', 'Headline_Suzanne', 'Headline_Swaths', \"Headline_Sweden's\", 'Headline_Sweet', 'Headline_Swing', 'Headline_Swiss', 'Headline_Switzerland', 'Headline_Symantec', 'Headline_Symphony', 'Headline_Syria', 'Headline_Syrian', \"Headline_T-Mobile's\", 'Headline_TDC', 'Headline_TED', 'Headline_TPG', 'Headline_TRW', 'Headline_TUI', 'Headline_TV', 'Headline_Ta-dah!', 'Headline_Tackling', 'Headline_Taiwan', 'Headline_Taiwanese', 'Headline_Takata', 'Headline_Take', 'Headline_Take-Private', 'Headline_Taking', 'Headline_Tales', 'Headline_Talking', 'Headline_Tall', 'Headline_Tangled', 'Headline_Tanya', 'Headline_Tate', 'Headline_Tatiana', 'Headline_Taubman', 'Headline_Tax', 'Headline_Taxes', 'Headline_Taya', 'Headline_Taylor', \"Headline_Teacher's\", 'Headline_Teaching', 'Headline_Team', 'Headline_Tech', 'Headline_Technicolor', 'Headline_Technip', 'Headline_Ted', 'Headline_Tee', 'Headline_Teenagers', 'Headline_Telecom', 'Headline_Tempest', \"Headline_Tennessee's\", \"Headline_TerraCycle's\", 'Headline_Terrorists', 'Headline_Test', 'Headline_Texas', 'Headline_Text', \"Headline_Texter's\", 'Headline_Thakoon', 'Headline_Thanks', 'Headline_Thanksgiving', 'Headline_That', \"Headline_That's\", 'Headline_The', 'Headline_Theater', 'Headline_Theatrics', 'Headline_Their', 'Headline_Theme', 'Headline_There', \"Headline_There's\", 'Headline_These', 'Headline_They', 'Headline_Thieves', 'Headline_Think', 'Headline_Third', 'Headline_This', 'Headline_Thom', 'Headline_Thomson', 'Headline_Those', 'Headline_Though', 'Headline_Thoughts', 'Headline_Three', 'Headline_Throwback', 'Headline_Thursday', 'Headline_Tianhe', 'Headline_Tibco', 'Headline_Tickets', 'Headline_Tig', 'Headline_Tiger', 'Headline_Tillis', 'Headline_Tim', 'Headline_Timber!', 'Headline_Time', \"Headline_Time's\", 'Headline_Timepieces', 'Headline_Times', 'Headline_Tired', 'Headline_To', 'Headline_Toasting', 'Headline_Today', \"Headline_Today's\", 'Headline_Tom', 'Headline_Tommy', 'Headline_Toni', 'Headline_Tony', 'Headline_Top', 'Headline_Tops', 'Headline_Toronto', 'Headline_Total', 'Headline_Tough', 'Headline_Tough-Yet-Summery', 'Headline_Tougher', 'Headline_Toward', 'Headline_Tracey', 'Headline_Tracing', 'Headline_Tracking', 'Headline_Trading', 'Headline_Trailer', 'Headline_Training', 'Headline_TransCanada', 'Headline_Travel', 'Headline_Traveling', 'Headline_Travelport', 'Headline_Traversing', 'Headline_Tray', 'Headline_Treasury', 'Headline_Treating', 'Headline_Trey', 'Headline_Triad', 'Headline_Trick-or-Treating', 'Headline_Tricked-Out', 'Headline_Troubled', 'Headline_Troubles', 'Headline_Truce', 'Headline_Truecaller,', 'Headline_Truest', 'Headline_Trustee', 'Headline_Truth-Tellers', 'Headline_Trying', 'Headline_Tune', 'Headline_Tunisia:', 'Headline_Turkish', 'Headline_Turn', 'Headline_Turning', 'Headline_Twilio', 'Headline_Twin', 'Headline_Twists', 'Headline_Twitter', \"Headline_Twitter's\", 'Headline_Two', 'Headline_Ty', 'Headline_Tyne', 'Headline_Type(writer)', 'Headline_U.N.', 'Headline_U.S.', 'Headline_U.S.-Backed', 'Headline_U2', 'Headline_UBM', 'Headline_UBS', \"Headline_UBS's\", 'Headline_Uber', \"Headline_Uber's\", 'Headline_Ugly', 'Headline_Ukraine', \"Headline_Ukraine's\", 'Headline_Ultrasound', 'Headline_Umbrellas', 'Headline_Unanswered', 'Headline_Unconventional', 'Headline_Under', 'Headline_Unesco', 'Headline_UniCredit', 'Headline_Unicef', 'Headline_University', 'Headline_Unlawful', 'Headline_Unpacking', 'Headline_Unseemly', 'Headline_Unsigned', 'Headline_Untold', 'Headline_Unwrapping', 'Headline_Up', 'Headline_Updates', 'Headline_Upgrading', 'Headline_Uprooted', 'Headline_Upstart', 'Headline_Used-Car', 'Headline_Useless', 'Headline_Using', 'Headline_Valeant', \"Headline_Valeant's\", 'Headline_Valentino', \"Headline_Valentino's\", 'Headline_Valentino:', 'Headline_Valerie', 'Headline_Valuable', 'Headline_Valuing', 'Headline_Vamo', 'Headline_Vamp', 'Headline_Vandal', 'Headline_Vandals', 'Headline_Vanessa', 'Headline_Vanita', 'Headline_Varied', 'Headline_Variety:', 'Headline_Vebatim:', 'Headline_Vegetarian', 'Headline_Venezuela', 'Headline_Venture', 'Headline_Venturing', 'Headline_Verbatim:', 'Headline_Verifying', 'Headline_Verizon', 'Headline_Vets', 'Headline_Via', 'Headline_Viber', 'Headline_Vice', 'Headline_Victory', 'Headline_Video', 'Headline_Video:', 'Headline_Vienna', \"Headline_Vietnam's\", 'Headline_Viewing', 'Headline_Vintage', 'Headline_Violence', 'Headline_Virgin', 'Headline_Virginia', 'Headline_Visa', 'Headline_Vista', 'Headline_Vitamin', 'Headline_Vivendi', 'Headline_Vivian', 'Headline_Voice', 'Headline_Volatility', 'Headline_Vote', 'Headline_Voter', 'Headline_Voters', 'Headline_Vulnerability', 'Headline_W', 'Headline_W.', 'Headline_W.N.B.A.', \"Headline_WD-50's\", 'Headline_WNYC', \"Headline_WNYC's\", 'Headline_Wages', 'Headline_Wait,', 'Headline_Waiting', 'Headline_Waleska', 'Headline_Walkabout:', 'Headline_Wall', 'Headline_Walls', \"Headline_Walmart's\", 'Headline_Walt', 'Headline_Want', 'Headline_Wanted:', 'Headline_War', 'Headline_Warburg', 'Headline_Warner', 'Headline_Warren', \"Headline_Warren's\", 'Headline_Was', 'Headline_Washington', 'Headline_Wasted', 'Headline_Watch', 'Headline_Watch:', 'Headline_Watching', 'Headline_Watercolor', 'Headline_We', \"Headline_We'd\", \"Headline_We're\", 'Headline_Weakness', 'Headline_Wealthy', 'Headline_Web', 'Headline_Website', 'Headline_Weekend', 'Headline_Weekly', 'Headline_Weighing', 'Headline_Well,', 'Headline_Wells', 'Headline_Welsh', 'Headline_Western', 'Headline_What', 'Headline_What&rsquo;s', \"Headline_What's\", 'Headline_WhatsApp', 'Headline_Wheelchair', 'Headline_When', 'Headline_Where', 'Headline_While', 'Headline_Whit', 'Headline_White', 'Headline_Who', \"Headline_Who's\", 'Headline_Whose', 'Headline_Why', 'Headline_Wicker', 'Headline_Wild', 'Headline_Wildlife', 'Headline_Will', 'Headline_Willie', 'Headline_Wine', 'Headline_Winners', \"Headline_Winners'\", 'Headline_Winter', 'Headline_Wise', 'Headline_With', 'Headline_Woman', 'Headline_Women', \"Headline_Women's\", 'Headline_Word', 'Headline_Words', 'Headline_Work', 'Headline_Workday', 'Headline_Workers', 'Headline_Working', 'Headline_World', 'Headline_Worried,', 'Headline_Would', 'Headline_Wrapping', 'Headline_Writer,', 'Headline_Writing', 'Headline_Wu-Tang', 'Headline_Xi', 'Headline_Xiao', \"Headline_Xiaomi's\", 'Headline_Xinhua', 'Headline_Y', 'Headline_Yahoo', 'Headline_Yara', 'Headline_Yayoi', 'Headline_Ye', 'Headline_Yellen', 'Headline_Yes', 'Headline_Yes,', 'Headline_Yet', 'Headline_Yik', 'Headline_Yildiz', 'Headline_Yodlee,', 'Headline_Yogurt', 'Headline_Yoko', 'Headline_Yoncheva', 'Headline_You', \"Headline_You'd\", 'Headline_YouTube', 'Headline_Young', 'Headline_Your', 'Headline_Yowza!', 'Headline_Yusuf,', 'Headline_Yves', 'Headline_ZZ', 'Headline_Zac', 'Headline_Zadan', 'Headline_Zalando', 'Headline_Zandra', 'Headline_Zap!', 'Headline_ZenPayroll', 'Headline_Zines', 'Headline_Zoetis', 'Headline_Zoetis,', 'Headline_iPhones,', 'Snippet_', 'Snippet_&', 'Snippet_5,680', 'Snippet_A', 'Snippet_A.', 'Snippet_ABN', 'Snippet_AT&T', 'Snippet_AT&Ts', 'Snippet_AbbVie', 'Snippet_Abiah', 'Snippet_Abigail', 'Snippet_Abnormal', 'Snippet_About', 'Snippet_Accepting', 'Snippet_Access', 'Snippet_According', 'Snippet_Acquiring', 'Snippet_Across', 'Snippet_Across-the-pond', 'Snippet_Activist', 'Snippet_Adam', 'Snippet_Adding', 'Snippet_Adidas', 'Snippet_Adner', 'Snippet_Adolescents', 'Snippet_Adolf', 'Snippet_Adrian', 'Snippet_Advanced', 'Snippet_Advent', 'Snippet_Advertising', 'Snippet_Advice', 'Snippet_Affluent', 'Snippet_Afresheet', 'Snippet_African-Americans', 'Snippet_After', 'Snippet_Aftertastes,', 'Snippet_Ahead', 'Snippet_Airbnb,', 'Snippet_Airline', 'Snippet_Airshow', 'Snippet_Akshaya', 'Snippet_Alan', 'Snippet_Albert', 'Snippet_Albertsons', 'Snippet_Alex', 'Snippet_Alexei', 'Snippet_Alexis', 'Snippet_Alibaba', 'Snippet_Alibabas', 'Snippet_Alicia', 'Snippet_Alison', 'Snippet_All', 'Snippet_Allergan', 'Snippet_Allergan,', 'Snippet_Almost', 'Snippet_Already,', 'Snippet_Alshon', 'Snippet_Also', 'Snippet_Altering', 'Snippet_Although', 'Snippet_Alzheimers', 'Snippet_Am', 'Snippet_Amalie', 'Snippet_Amanda', 'Snippet_Amazon', 'Snippet_Amazons', 'Snippet_American', 'Snippet_Americans', 'Snippet_Amid', 'Snippet_Among', 'Snippet_Amras', 'Snippet_Amrica', 'Snippet_Amy', 'Snippet_An', 'Snippet_Ana', 'Snippet_Analysts', 'Snippet_And', 'Snippet_Andr', 'Snippet_Andrea', 'Snippet_Andreas', 'Snippet_Andrew', 'Snippet_Anecdotal', 'Snippet_Anemona', 'Snippet_Angelina', 'Snippet_AngloGold', 'Snippet_Ann', 'Snippet_Anna', 'Snippet_Annalisa', 'Snippet_Anne', 'Snippet_Anomaly,', 'Snippet_Anonymous', 'Snippet_Another', 'Snippet_Anthem', 'Snippet_Anticorruption', 'Snippet_Antioxidant', 'Snippet_Antonia', 'Snippet_Any', 'Snippet_Apollo', 'Snippet_Apple', 'Snippet_Apple,', 'Snippet_Apples', 'Snippet_Apps', 'Snippet_Archaelogists', 'Snippet_Archival', 'Snippet_Are', 'Snippet_Argentina', 'Snippet_Arguably', 'Snippet_Around', 'Snippet_Art', 'Snippet_Arthur', 'Snippet_Articles', 'Snippet_As', 'Snippet_Asexuality', 'Snippet_Ash', 'Snippet_Ashkan', 'Snippet_Assembling', 'Snippet_Assuming', 'Snippet_At', 'Snippet_Attention', 'Snippet_Attorney', 'Snippet_Attributing', 'Snippet_Aurelien', 'Snippet_Austerity,', 'Snippet_Average', 'Snippet_Azam', 'Snippet_BB&T', 'Snippet_BCA,', 'Snippet_BGC', 'Snippet_BHP', 'Snippet_BNP', 'Snippet_Backers', 'Snippet_Backstage,', 'Snippet_Bad', 'Snippet_Ban', 'Snippet_Banco', 'Snippet_Bank', 'Snippet_Bankers,', 'Snippet_Banks', 'Snippet_Banning', 'Snippet_Bao', 'Snippet_Barbara', 'Snippet_Barry', 'Snippet_Based', 'Snippet_Basically,', 'Snippet_Because', 'Snippet_Beetroots,', 'Snippet_Before', 'Snippet_Beginning', 'Snippet_Beijing', 'Snippet_Being', 'Snippet_Believe', 'Snippet_Below', 'Snippet_Ben', 'Snippet_Berkshire', 'Snippet_Bernard', 'Snippet_Best', 'Snippet_Better', 'Snippet_Big', 'Snippet_Big-name', 'Snippet_Bill', 'Snippet_Bills', 'Snippet_Bitter', 'Snippet_BlackBerry', 'Snippet_BlackRock', 'Snippet_Blitz', 'Snippet_Bloomberg', 'Snippet_Blue', 'Snippet_Bluefish,', 'Snippet_Bob', 'Snippet_Bonnie', 'Snippet_Boom', 'Snippet_Boot', 'Snippet_Both', 'Snippet_Boy', 'Snippet_Bracing', 'Snippet_Bradley', 'Snippet_Breaking', 'Snippet_Breezy', 'Snippet_Brendan', 'Snippet_Brian', 'Snippet_Britains', 'Snippet_Brittney', 'Snippet_Broadway', 'Snippet_Brooks', 'Snippet_Bruce', 'Snippet_Brussels-based', 'Snippet_Bubble,', 'Snippet_Burial,', 'Snippet_Business', 'Snippet_But', 'Snippet_By', 'Snippet_C.H.C.M.,', 'Snippet_C.J.', 'Snippet_CGG', 'Snippet_CSX', 'Snippet_Cable', 'Snippet_Cake', 'Snippet_California', 'Snippet_California,', 'Snippet_Californias', 'Snippet_Called', 'Snippet_Can', 'Snippet_Canadas', 'Snippet_Canadian', 'Snippet_Canadians', 'Snippet_Cancer', 'Snippet_Candidates', 'Snippet_Carefully', 'Snippet_Carl', 'Snippet_Carnegie', 'Snippet_Carrie,', 'Snippet_Carsten', 'Snippet_Cartiers', 'Snippet_CartoDB', 'Snippet_Casios', 'Snippet_Catalan', 'Snippet_Catching', 'Snippet_Cedric', 'Snippet_Cees', 'Snippet_Celebrate', 'Snippet_Celebrities', 'Snippet_Central', 'Snippet_Cermaq,', 'Snippet_Certain', 'Snippet_Chances', 'Snippet_Channon', 'Snippet_Charles', 'Snippet_Charles-Henri', 'Snippet_Charlie', 'Snippet_Check', 'Snippet_Chef', 'Snippet_Cher', 'Snippet_Cheyne', 'Snippet_Chic', 'Snippet_Chicken', 'Snippet_Childhood', 'Snippet_Children', 'Snippet_China', 'Snippet_China,', 'Snippet_Chinas', 'Snippet_Chinese', 'Snippet_Chiquita', 'Snippet_Chiquita,', 'Snippet_Chris', 'Snippet_Christine', 'Snippet_Christmas', 'Snippet_Christopher', 'Snippet_Cisco', 'Snippet_Cities', 'Snippet_Citigroup', 'Snippet_Citigroups', 'Snippet_City', 'Snippet_Clara', 'Snippet_Claudia', 'Snippet_Clay', 'Snippet_Clearly', 'Snippet_Climate', 'Snippet_Clines', 'Snippet_Clothes', 'Snippet_Cloud', 'Snippet_Cognizant,', 'Snippet_Coinbase,', 'Snippet_Coincidentally,', 'Snippet_Cokes', 'Snippet_College', 'Snippet_Colleges', 'Snippet_Colorados', 'Snippet_Colorful', 'Snippet_Comcast', 'Snippet_Comments', 'Snippet_Companies', 'Snippet_Company', 'Snippet_Competing', 'Snippet_Compuware', 'Snippet_Concerns', 'Snippet_Conditions', 'Snippet_Confidential', 'Snippet_Congress', 'Snippet_Congressional', 'Snippet_Conservatives', 'Snippet_Construction', 'Snippet_Consumers', 'Snippet_Container', 'Snippet_Continuuity,', 'Snippet_Contributors', 'Snippet_Convictions!', 'Snippet_Corporate', 'Snippet_Corporations,', 'Snippet_Corrupt', 'Snippet_Cory', 'Snippet_Cosmopolitan,', 'Snippet_Could', 'Snippet_Count', 'Snippet_Court', 'Snippet_Courtney', 'Snippet_Coverage', 'Snippet_Covering', 'Snippet_Cozy,', 'Snippet_Craftsy,', 'Snippet_Cranberries,', 'Snippet_Create', 'Snippet_Creating', 'Snippet_Creative', 'Snippet_Credit', 'Snippet_Creditors', 'Snippet_Criminals', 'Snippet_Critics', 'Snippet_Crowds', 'Snippet_Cuba', 'Snippet_Cuban', 'Snippet_D.J.', 'Snippet_Daily', 'Snippet_Damien', 'Snippet_Damon', 'Snippet_Dan', 'Snippet_Daniel', 'Snippet_Daniele', 'Snippet_Darden', 'Snippet_Darren', 'Snippet_Dassault', 'Snippet_Data', 'Snippet_Data-driven', 'Snippet_David', 'Snippet_Dawn', 'Snippet_Day', 'Snippet_De', 'Snippet_Dealogic', 'Snippet_Dean', 'Snippet_Death', 'Snippet_Debi', 'Snippet_Defense', 'Snippet_Delta', 'Snippet_Demand', 'Snippet_Democratic', 'Snippet_Democrats', 'Snippet_Democrats,', 'Snippet_Dendreon', 'Snippet_Denis', 'Snippet_Dennis', 'Snippet_Dental', 'Snippet_Denver', 'Snippet_Deployed', 'Snippet_Derek', 'Snippet_Designers', 'Snippet_Despite', 'Snippet_Details', 'Snippet_Detroit', 'Snippet_Deutsche', 'Snippet_Developers', 'Snippet_Devocin,', 'Snippet_Diageo', 'Snippet_Did', 'Snippet_Direct', 'Snippet_Disagreements', 'Snippet_Discarded', 'Snippet_Discussing', 'Snippet_Disney', 'Snippet_Dispensing', 'Snippet_Dizzied', 'Snippet_Do', 'Snippet_Doctors', 'Snippet_Documents', 'Snippet_Does', 'Snippet_Dollar', 'Snippet_Domingo', 'Snippet_Dont', 'Snippet_Doreen', 'Snippet_Doubled', 'Snippet_Doug', 'Snippet_Douglas', 'Snippet_Dov', 'Snippet_Draghis', 'Snippet_Dreams', 'Snippet_Duffles', 'Snippet_Duncan', 'Snippet_During', 'Snippet_Dwight', 'Snippet_E-commerce', 'Snippet_E.J.', 'Snippet_Each', 'Snippet_Eager', 'Snippet_Early', 'Snippet_Early-year', 'Snippet_Earnings', 'Snippet_Eating', 'Snippet_Ebola', 'Snippet_Echoing', 'Snippet_Eczema', 'Snippet_Ed', 'Snippet_Edgewise', 'Snippet_Editors', 'Snippet_Eduardo', 'Snippet_Education', 'Snippet_Edward', 'Snippet_Eight', 'Snippet_Eike', 'Snippet_Election', 'Snippet_Electra', 'Snippet_Electrifying', 'Snippet_Eleven', 'Snippet_Eli', 'Snippet_Elizabeth', 'Snippet_Ellen', 'Snippet_Ello', 'Snippet_Elsa,', 'Snippet_Emaar', 'Snippet_Emilio', 'Snippet_Emily', 'Snippet_Emilys', 'Snippet_Empathy', 'Snippet_Employers', 'Snippet_Encourage', 'Snippet_Endo', 'Snippet_Energy', 'Snippet_Engineers', 'Snippet_Enrollment', 'Snippet_Enthusiasm', 'Snippet_Environmental', 'Snippet_Eric', 'Snippet_Erik', 'Snippet_Especially', 'Snippet_Esprito', 'Snippet_Europes', 'Snippet_Evan', 'Snippet_Evans', 'Snippet_Even', 'Snippet_Ever', 'Snippet_Every', 'Snippet_Everybody,', 'Snippet_Everyone', 'Snippet_Evidence?', 'Snippet_Examining', 'Snippet_Executive', 'Snippet_Exercise', 'Snippet_Exhibit', 'Snippet_Expiring', 'Snippet_Exposed,', 'Snippet_Exposure', 'Snippet_Extremely', 'Snippet_FLEXN', 'Snippet_Facebook', 'Snippet_Facing', 'Snippet_Fall', 'Snippet_Falls', 'Snippet_False', 'Snippet_Family', 'Snippet_FanDuel', 'Snippet_Fashion', 'Snippet_Fashions', 'Snippet_Favorite', 'Snippet_Fed', 'Snippet_Federal', 'Snippet_Female', 'Snippet_Festival', 'Snippet_Few', 'Snippet_Fiat', 'Snippet_Field', 'Snippet_Fill', 'Snippet_Finally', 'Snippet_Finally,', 'Snippet_Financial', 'Snippet_Finding', 'Snippet_Finish', 'Snippet_Firearm', 'Snippet_Firefighters', 'Snippet_Fiscal', 'Snippet_Fitting', 'Snippet_Five', 'Snippet_FiveStars,', 'Snippet_Flags', 'Snippet_Flight', 'Snippet_Follow', 'Snippet_Followers', 'Snippet_Following', 'Snippet_Food', 'Snippet_Football', 'Snippet_For', 'Snippet_Fordham', 'Snippet_Foreign', 'Snippet_Former', 'Snippet_Forty', 'Snippet_Fossils', 'Snippet_Fosun', 'Snippet_Founded', 'Snippet_Four', 'Snippet_Four,', 'Snippet_Fran', 'Snippet_Frank', 'Snippet_Fraud', 'Snippet_Fred', 'Snippet_Free', 'Snippet_French', 'Snippet_Fresh', 'Snippet_Friday', 'Snippet_Friday:', 'Snippet_Fridays', 'Snippet_Friends', 'Snippet_Frigid', 'Snippet_Fringed,', 'Snippet_From', 'Snippet_Fun', 'Snippet_Fun,', 'Snippet_Fund-raising', 'Snippet_Funds', 'Snippet_G', 'Snippet_Gabor', 'Snippet_Gabrielle', 'Snippet_Gallup', 'Snippet_Gareth', 'Snippet_Gary', 'Snippet_Gas', 'Snippet_Gay', 'Snippet_Geese', 'Snippet_General', 'Snippet_Geometric', 'Snippet_Georg', 'Snippet_George', 'Snippet_Georgia', 'Snippet_Gerard', 'Snippet_Gerry', 'Snippet_Get', 'Snippet_Getting', 'Snippet_Gillibrands', 'Snippet_Glen', 'Snippet_Glencore', 'Snippet_Global', 'Snippet_Gnther', 'Snippet_GoPro', 'Snippet_Godard,', 'Snippet_Going', 'Snippet_Goldman', 'Snippet_Gone', 'Snippet_Good', 'Snippet_Goodbye', 'Snippet_Google', 'Snippet_Google,', 'Snippet_Googles', 'Snippet_Gordon', 'Snippet_Goucher', 'Snippet_Gov.', 'Snippet_Grand', 'Snippet_Gray', 'Snippet_Greene', 'Snippet_Greg', 'Snippet_Gremlins', 'Snippet_Gretchen', 'Snippet_Groupe', 'Snippet_Groups', 'Snippet_Grown,', 'Snippet_Guangdong,', 'Snippet_Guests', 'Snippet_Gunnison,', 'Snippet_Gwyneth', 'Snippet_Gyms', 'Snippet_HSBC', 'Snippet_Hackers', 'Snippet_Had', 'Snippet_Half', 'Snippet_Halliburton', 'Snippet_Hampton', 'Snippet_Hand', 'Snippet_Handing', 'Snippet_Hands', 'Snippet_Handwritten', 'Snippet_Happy', 'Snippet_Harry', 'Snippet_Has', 'Snippet_Hasbro', 'Snippet_Hate-reads', 'Snippet_Havana', 'Snippet_Have', 'Snippet_Having', 'Snippet_Hctor', 'Snippet_He', 'Snippet_Health', 'Snippet_Heath', 'Snippet_Heaven,', 'Snippet_Heavenly', 'Snippet_Hebei', 'Snippet_Hedge', 'Snippet_Held', 'Snippet_Helene', 'Snippet_Henry', 'Snippet_Her', 'Snippet_Herbalifes', 'Snippet_Here', 'Snippet_Here,', 'Snippet_Heres', 'Snippet_Hertford', 'Snippet_Hes', 'Snippet_Hewlett-Packard', 'Snippet_Highlights', 'Snippet_Hillary', 'Snippet_Hipmunk', 'Snippet_His', 'Snippet_Hit', 'Snippet_Holder', 'Snippet_Holly', 'Snippet_Home', 'Snippet_Homeland', 'Snippet_Hong', 'Snippet_Hootsuite', 'Snippet_Hopper', 'Snippet_Horror', 'Snippet_Hotel', 'Snippet_Hotels', 'Snippet_Hotels,', 'Snippet_House', 'Snippet_How', 'Snippet_Hudsons', 'Snippet_Hugh', 'Snippet_Hundreds', 'Snippet_I', 'Snippet_I.S.S.', 'Snippet_IBM', 'Snippet_IBMs', 'Snippet_ISIS', 'Snippet_Ian', 'Snippet_Icahn', 'Snippet_Ideas,', 'Snippet_If', 'Snippet_Ill', 'Snippet_Im', 'Snippet_Immigrant', 'Snippet_Immigration', 'Snippet_Imposing', 'Snippet_Improved', 'Snippet_In', 'Snippet_Incidences', 'Snippet_Including', 'Snippet_Incompetent', 'Snippet_Increasingly', 'Snippet_Independent', 'Snippet_Industry', 'Snippet_Inflated', 'Snippet_Infographics', 'Snippet_Insider', 'Snippet_Instead', 'Snippet_Institutional', 'Snippet_Intel', 'Snippet_Intels', 'Snippet_Interviewers', 'Snippet_Investments', 'Snippet_Investors', 'Snippet_Is', 'Snippet_Isnt', 'Snippet_It', 'Snippet_Items', 'Snippet_Itinerant', 'Snippet_Its', 'Snippet_Ivan', 'Snippet_Ivy', 'Snippet_J.W.', 'Snippet_JDS', 'Snippet_JPMorgan', 'Snippet_Jack', 'Snippet_Jacob', 'Snippet_Jacqueline', 'Snippet_Jacques', 'Snippet_Jagged', 'Snippet_James', 'Snippet_Jana', 'Snippet_Janet', 'Snippet_Janskas', 'Snippet_Janus', 'Snippet_Japans', 'Snippet_Jason', 'Snippet_Javier', 'Snippet_Jawohl', 'Snippet_Jeb', 'Snippet_Jeff', 'Snippet_Jeffrey', 'Snippet_Jenn,', 'Snippet_Jenna', 'Snippet_Jennifer', 'Snippet_Jesse', 'Snippet_Jessie', 'Snippet_JetBlue', 'Snippet_Jiang', 'Snippet_Jill', 'Snippet_Jim', 'Snippet_Jimson', 'Snippet_Joan', 'Snippet_Joao', 'Snippet_Job', 'Snippet_Jobs', 'Snippet_Joe', 'Snippet_Joel', 'Snippet_John', 'Snippet_Jon', 'Snippet_Jonathan', 'Snippet_Joni', 'Snippet_Joseph', 'Snippet_Josh', 'Snippet_Joshua', 'Snippet_Journalists', 'Snippet_Jrgen', 'Snippet_Judge', 'Snippet_Juice', 'Snippet_Julia', 'Snippet_Julian', 'Snippet_Julianna', 'Snippet_Julie', 'Snippet_Jump-start', 'Snippet_Juniper', 'Snippet_Just', 'Snippet_Justice', 'Snippet_Jvlivs/Erving', 'Snippet_K.K.R.s', 'Snippet_Karen', 'Snippet_Karl', 'Snippet_Kering', 'Snippet_Kevin', 'Snippet_Kim', 'Snippet_Kmart', 'Snippet_Koch', 'Snippet_Kosher', 'Snippet_Kraken,', 'Snippet_Kung', 'Snippet_Kurt', 'Snippet_Kyle', 'Snippet_LVMH', 'Snippet_La', 'Snippet_LaToya', 'Snippet_Lace', 'Snippet_Language', 'Snippet_Large', 'Snippet_Larry', 'Snippet_Last', 'Snippet_Latest', 'Snippet_Lawmakers', 'Snippet_Lawrence', 'Snippet_Lawyers', 'Snippet_Le', 'Snippet_Leadership', 'Snippet_Leading', 'Snippet_Leaving', 'Snippet_Led', 'Snippet_Lena', 'Snippet_Lending', 'Snippet_Less', 'Snippet_Lessons', 'Snippet_Let', 'Snippet_Lets', 'Snippet_Letter', 'Snippet_Leviathan,', 'Snippet_Levin', 'Snippet_Libyas', 'Snippet_Life', 'Snippet_Lift', 'Snippet_Lights', 'Snippet_Like', 'Snippet_Lincoln', 'Snippet_Lincolns', 'Snippet_Liquidity', 'Snippet_Lisa', 'Snippet_Listed', 'Snippet_Literary', 'Snippet_Little', 'Snippet_Live', 'Snippet_Lively,', 'Snippet_Living', 'Snippet_Liz', 'Snippet_Lloyds,', 'Snippet_Local', 'Snippet_Locks', 'Snippet_Loewes', 'Snippet_London', 'Snippet_Londons', 'Snippet_Long', 'Snippet_Long,', 'Snippet_Longwood', 'Snippet_Look', 'Snippet_Looking', 'Snippet_Lookout,', 'Snippet_Loren', 'Snippet_Los', 'Snippet_Lots', 'Snippet_Louise', 'Snippet_Louisiana', 'Snippet_Low', 'Snippet_Low-income', 'Snippet_Lubavitch', 'Snippet_Lunch', 'Snippet_Macys', 'Snippet_Madeleine', 'Snippet_Mahmoud', 'Snippet_Maine', 'Snippet_Make', 'Snippet_Making', 'Snippet_Malcolm', 'Snippet_Maman', 'Snippet_Many', 'Snippet_Marc', 'Snippet_Marcel', 'Snippet_Marcus', 'Snippet_Margaret', 'Snippet_Margrethe', 'Snippet_Marijuana', 'Snippet_Marilynne', 'Snippet_Mario', 'Snippet_Marion', 'Snippet_Marissa', 'Snippet_Mark', 'Snippet_Marley', 'Snippet_Maroon', 'Snippet_Martha', 'Snippet_Martin', 'Snippet_Marvel', 'Snippet_Mary', 'Snippet_Mary-Kate', 'Snippet_Maryland', 'Snippet_Masks,', 'Snippet_Math', 'Snippet_Mathew', 'Snippet_Matt', 'Snippet_Maurice', 'Snippet_Maurizio', 'Snippet_Max', 'Snippet_Maybe', 'Snippet_Mayday', 'Snippet_Mayor', 'Snippet_McGraw', 'Snippet_Medtronic', 'Snippet_Meet', 'Snippet_Meghan', 'Snippet_Melissa', 'Snippet_Members', 'Snippet_Memorizing', 'Snippet_Menus', 'Snippet_Mercuria', 'Snippet_Merger', 'Snippet_Messy', 'Snippet_MetLifes', 'Snippet_Metallica', 'Snippet_Metlife', 'Snippet_Metropolitan', 'Snippet_Mexico', 'Snippet_Mexico,', 'Snippet_Mia', 'Snippet_Michael', 'Snippet_Michelle', 'Snippet_Micro', 'Snippet_Microsoft', 'Snippet_Microsofts', 'Snippet_Middle', 'Snippet_Middle-aged', 'Snippet_Migraine', 'Snippet_Mile', 'Snippet_Military', 'Snippet_Military-friendly', 'Snippet_Millions', 'Snippet_Millstein', 'Snippet_Minutes', 'Snippet_Miranda', 'Snippet_Mitch', 'Snippet_Mitt', 'Snippet_Mixed-metal', 'Snippet_Models', 'Snippet_Mohammad', 'Snippet_Monday', 'Snippet_Monday:', 'Snippet_Money', 'Snippet_Mong', 'Snippet_Monica', 'Snippet_Monk', 'Snippet_Monster,', 'Snippet_Monsters', 'Snippet_Montblancs', 'Snippet_Monte', 'Snippet_More', 'Snippet_Morten', 'Snippet_Mosi', 'Snippet_Mosquitoes', 'Snippet_Most', 'Snippet_Motorolas', 'Snippet_Moves', 'Snippet_Mr.', 'Snippet_Ms.', 'Snippet_Much', 'Snippet_Municipalities', 'Snippet_Musicians', 'Snippet_My', 'Snippet_NBC', 'Snippet_Nadav', 'Snippet_Naomi', 'Snippet_Narayan', 'Snippet_Narciso', 'Snippet_Natasha', 'Snippet_Nate', 'Snippet_Nathan', 'Snippet_Nathaniel', 'Snippet_Nearly', 'Snippet_Neil', 'Snippet_Neither', 'Snippet_Net', 'Snippet_Netflix', 'Snippet_Neuroscience', 'Snippet_Never', 'Snippet_New', 'Snippet_News', 'Snippet_Newsha', 'Snippet_Next', 'Snippet_Nighttime', 'Snippet_Nine', 'Snippet_No', 'Snippet_No,', 'Snippet_NoMoRobo,', 'Snippet_Noah', 'Snippet_Noel', 'Snippet_None', 'Snippet_Nordic', 'Snippet_Norfolk', 'Snippet_Northern', 'Snippet_Not', 'Snippet_Notes', 'Snippet_Nothing', 'Snippet_November', 'Snippet_Now', 'Snippet_Nucor', 'Snippet_Numbers', 'Snippet_Obama', 'Snippet_Obamacare', 'Snippet_Obese', 'Snippet_Objects', 'Snippet_Observers', 'Snippet_Obsessive', 'Snippet_Ocean', 'Snippet_Of', 'Snippet_Off', 'Snippet_Officials', 'Snippet_Oh,', 'Snippet_Older', 'Snippet_Oliver,', 'Snippet_On', 'Snippet_Once', 'Snippet_Once,', 'Snippet_One', 'Snippet_Only', 'Snippet_Open', 'Snippet_Opening-weekend', 'Snippet_Operators', 'Snippet_Or', 'Snippet_Organizations', 'Snippet_Organizers', 'Snippet_Osanna', 'Snippet_Oscar', 'Snippet_Ostensibly', 'Snippet_Other', 'Snippet_Others', 'Snippet_Our', 'Snippet_Outside', 'Snippet_Outsourcing', 'Snippet_Outtakes', 'Snippet_Over', 'Snippet_Overall,', 'Snippet_Oy,', 'Snippet_Paid', 'Snippet_Paintings', 'Snippet_Paloma', 'Snippet_Pamela', 'Snippet_Par', 'Snippet_Parent', 'Snippet_Parental', 'Snippet_Parents', 'Snippet_Paris', 'Snippet_Party', 'Snippet_Patricia', 'Snippet_Patrick', 'Snippet_Paul', 'Snippet_Pawel', 'Snippet_Pay', 'Snippet_PayPals', 'Snippet_Peking', 'Snippet_Penguin', 'Snippet_Penn', 'Snippet_People', 'Snippet_Peoples', 'Snippet_Perhaps', 'Snippet_Periodic', 'Snippet_Peter', 'Snippet_Petronas', 'Snippet_Phil', 'Snippet_Philip', 'Snippet_Philosophers', 'Snippet_Phish', 'Snippet_Phone', 'Snippet_Photographs', 'Snippet_Photos', 'Snippet_Physical', 'Snippet_Physicians', 'Snippet_Pimco', 'Snippet_Pings', 'Snippet_Plus,', 'Snippet_Plus:', 'Snippet_Point72', 'Snippet_Politicians', 'Snippet_Politics', 'Snippet_Polls', 'Snippet_Polycystic', 'Snippet_Popular', 'Snippet_Portugals', 'Snippet_Post-Ferguson,', 'Snippet_Post-McCutcheon,', 'Snippet_Postcards', 'Snippet_Pour', 'Snippet_Premiering', 'Snippet_Preparations', 'Snippet_Preschoolers', 'Snippet_Presenters', 'Snippet_President', 'Snippet_Preston', 'Snippet_Prime', 'Snippet_Prince', 'Snippet_Prize', 'Snippet_Pro-democracy', 'Snippet_Producers', 'Snippet_Professional', 'Snippet_Programs', 'Snippet_Project', 'Snippet_Promising', 'Snippet_Proposed', 'Snippet_Prosecutors', 'Snippet_Protest', 'Snippet_Protesters', 'Snippet_Protestors', 'Snippet_Protests', 'Snippet_Provisional', 'Snippet_Public', 'Snippet_Publicis', 'Snippet_Putting', 'Snippet_Quarries', 'Snippet_Quinn', 'Snippet_Quip,', 'Snippet_REEF,', 'Snippet_Races', 'Snippet_Rachel', 'Snippet_Radical', 'Snippet_RadioShack,', 'Snippet_Rafael', 'Snippet_Rahua', 'Snippet_Rainforest', 'Snippet_Raising', 'Snippet_Ralph', 'Snippet_Rand', 'Snippet_Rare', 'Snippet_Ray', 'Snippet_Reacting', 'Snippet_Reaction', 'Snippet_Reactions', 'Snippet_Read', 'Snippet_Readers', 'Snippet_Reading', 'Snippet_Ready', 'Snippet_Really', 'Snippet_Reassurances', 'Snippet_Recalcitrant', 'Snippet_Recent', 'Snippet_Recently,', 'Snippet_Recommended', 'Snippet_Red', 'Snippet_Redolent', 'Snippet_Referendum-day', 'Snippet_Refusal', 'Snippet_Regal,', 'Snippet_Regular', 'Snippet_Regulators', 'Snippet_Relais', 'Snippet_Relational', 'Snippet_Relations', 'Snippet_Remarks', 'Snippet_Remembered', 'Snippet_Remembering', 'Snippet_Ren', 'Snippet_Renewed', 'Snippet_Rengan', 'Snippet_Renzo', 'Snippet_Repercussions', 'Snippet_Reporters', 'Snippet_Reporting', 'Snippet_Representative', 'Snippet_Representatives', 'Snippet_Republican', 'Snippet_Republicans', 'Snippet_Research', 'Snippet_Researchers', 'Snippet_Resignation', 'Snippet_Restaurants', 'Snippet_Results', 'Snippet_Revenue', 'Snippet_Reviewing', 'Snippet_Revisiting', 'Snippet_Revolution', 'Snippet_Rhizome,', 'Snippet_Riccardo', 'Snippet_Richard', 'Snippet_Right', 'Snippet_Rita', 'Snippet_Rite', 'Snippet_Robert', 'Snippet_Robin', 'Snippet_Robots', 'Snippet_Robyn', 'Snippet_Rock', 'Snippet_Rodarte', 'Snippet_Ron', 'Snippet_Ronald', 'Snippet_Rosalie', 'Snippet_Rose', 'Snippet_Runoffs,', 'Snippet_Rush', 'Snippet_Russia,', 'Snippet_Russian', 'Snippet_Russians', 'Snippet_Russias', 'Snippet_Ryan', 'Snippet_SIG', 'Snippet_SMRT,', 'Snippet_Sage', 'Snippet_Sahm', 'Snippet_Salad', 'Snippet_Sales', 'Snippet_Salesforce', 'Snippet_Salman', 'Snippet_Sam', 'Snippet_Same', 'Snippet_Same-Sex', 'Snippet_Samuel', 'Snippet_Samuji,', 'Snippet_Sandell', 'Snippet_Santander', 'Snippet_Sara', 'Snippet_Sarah', 'Snippet_Saturday', 'Snippet_Satya', 'Snippet_Saving', 'Snippet_Saying', 'Snippet_Scandalous', 'Snippet_Scenes', 'Snippet_Scholarly', 'Snippet_School', 'Snippet_Scientists', 'Snippet_Scotland', 'Snippet_Scotlands', 'Snippet_Scott', 'Snippet_Sears', 'Snippet_Season', 'Snippet_Sebastien', 'Snippet_Secret', 'Snippet_Secretary', 'Snippet_Secrets', 'Snippet_Secular', 'Snippet_Security', 'Snippet_SeedInvest', 'Snippet_Seeing', 'Snippet_Seeking', 'Snippet_Senate', 'Snippet_Senator', 'Snippet_Serena', 'Snippet_Set', 'Snippet_Seven', 'Snippet_Seven-day', 'Snippet_Seventy-one', 'Snippet_Several', 'Snippet_Sex', 'Snippet_Sexual', 'Snippet_Shakespeare,', 'Snippet_Shakespeares', 'Snippet_Shambling', 'Snippet_Shares', 'Snippet_Sharifa', 'Snippet_Sharing', 'Snippet_Shayne', 'Snippet_She', 'Snippet_Sheila', 'Snippet_Shelly', 'Snippet_Sheri', 'Snippet_Shes', 'Snippet_Shifts', 'Snippet_Shinolas', 'Snippet_Shonda', 'Snippet_Shortly', 'Snippet_Shot', 'Snippet_Should', 'Snippet_Shows', 'Snippet_Shun', 'Snippet_Shutdown', 'Snippet_Sickle', 'Snippet_Sigmund', 'Snippet_Significant', 'Snippet_Sigurjon', 'Snippet_Silicon', 'Snippet_Simon', 'Snippet_Simone', 'Snippet_Since', 'Snippet_Singapores', 'Snippet_Siri', 'Snippet_Sisters,', 'Snippet_Six', 'Snippet_Sixteen', 'Snippet_SkyTeam,', 'Snippet_Slashing', 'Snippet_Sleep', 'Snippet_Small', 'Snippet_Snark', 'Snippet_So', 'Snippet_Social', 'Snippet_Sofitel', 'Snippet_SoftBank', 'Snippet_Solving', 'Snippet_Some', 'Snippet_Someone', 'Snippet_Sometimes', 'Snippet_Songbird', 'Snippet_Sonic,', 'Snippet_Sony', 'Snippet_Soon', 'Snippet_Soothes', 'Snippet_Sorority', 'Snippet_Sothebys', 'Snippet_South', 'Snippet_Spain,', 'Snippet_Spanish', 'Snippet_Spatchcock.', 'Snippet_Speaker', 'Snippet_Speculation', 'Snippet_Spend', 'Snippet_Spike', 'Snippet_Sprouts', 'Snippet_Spurred', 'Snippet_Standard', 'Snippet_Stanley', 'Snippet_Start-ups', 'Snippet_Starting', 'Snippet_Statement', 'Snippet_Statements', 'Snippet_Statistical', 'Snippet_Stefan', 'Snippet_Step', 'Snippet_Stephan', 'Snippet_Stephanie', 'Snippet_Stephen', 'Snippet_Steve', 'Snippet_Steven', 'Snippet_Stocking', 'Snippet_Stories,', 'Snippet_Strains', 'Snippet_Strong', 'Snippet_Students', 'Snippet_Stylish', 'Snippet_Sub-Saharan', 'Snippet_Submit', 'Snippet_Subprime', 'Snippet_Substitute', 'Snippet_Success', 'Snippet_Suffering', 'Snippet_SugarScience.org,', 'Snippet_Sugary', 'Snippet_Sukkahs', 'Snippet_Sulzer,', 'Snippet_SunEdison', 'Snippet_Sunday', 'Snippet_Surpluses', 'Snippet_Survivors', 'Snippet_Susan', 'Snippet_Susanna', 'Snippet_Sympathetic', 'Snippet_Syrias', 'Snippet_T', 'Snippet_Taiwans', 'Snippet_Take-private', 'Snippet_Taking', 'Snippet_Talk', 'Snippet_Talking', 'Snippet_Talks', 'Snippet_Tamar', 'Snippet_Tamara', 'Snippet_Taminco,', 'Snippet_Taobao,', 'Snippet_Taste', 'Snippet_Tate', 'Snippet_Tavi', 'Snippet_Taylor', 'Snippet_Teachers', 'Snippet_Tech', 'Snippet_Ted', 'Snippet_Teenage', 'Snippet_Teenagers', 'Snippet_Tell', 'Snippet_Telling', 'Snippet_Ten', 'Snippet_Tennessee', 'Snippet_Terminal', 'Snippet_Terrence', 'Snippet_Test', 'Snippet_Thackery', 'Snippet_Thanks', 'Snippet_Thanksgiving', 'Snippet_That', 'Snippet_The', 'Snippet_Theater', 'Snippet_Their', 'Snippet_There', 'Snippet_Theres', 'Snippet_These', 'Snippet_They', 'Snippet_Theyre', 'Snippet_Thieves', 'Snippet_Things', 'Snippet_Think', 'Snippet_Thirty-five', 'Snippet_This', 'Snippet_Thom', 'Snippet_Thomas', 'Snippet_Those', 'Snippet_Though', 'Snippet_Thought', 'Snippet_Thoughts', 'Snippet_Thread', 'Snippet_Three', 'Snippet_Through', 'Snippet_Thursday', 'Snippet_Thursday:', 'Snippet_Ticket', 'Snippet_Tight', 'Snippet_Tim', 'Snippet_Time,', 'Snippet_Timepieces', 'Snippet_Times', 'Snippet_Timothy', 'Snippet_Tired', 'Snippet_Titled', 'Snippet_To', 'Snippet_Today', 'Snippet_Today,', 'Snippet_Todays', 'Snippet_Todd', 'Snippet_Together,', 'Snippet_Tom', 'Snippet_Tomas', 'Snippet_Tomorrow', 'Snippet_Too', 'Snippet_Top', 'Snippet_Tory', 'Snippet_Total,', 'Snippet_Touring', 'Snippet_Tracy', 'Snippet_Traditionally', 'Snippet_Traer', 'Snippet_Transit', 'Snippet_Translucent,', 'Snippet_Transparent,', 'Snippet_Travelers', 'Snippet_Travelport', 'Snippet_Treating', 'Snippet_Trian', 'Snippet_Tripr,', 'Snippet_Troi', 'Snippet_Ts', 'Snippet_Tsu', 'Snippet_Tuesday:', 'Snippet_Turkey', 'Snippet_Turquoise', 'Snippet_Twelve', 'Snippet_Twitter', 'Snippet_Two', 'Snippet_U.S.', 'Snippet_Uber', 'Snippet_Ukraine', 'Snippet_Unbreakable', 'Snippet_Under', 'Snippet_Understanding', 'Snippet_UniCredits', 'Snippet_United', 'Snippet_Universa', 'Snippet_Unlike', 'Snippet_Until', 'Snippet_Updates', 'Snippet_Urban', 'Snippet_Using', 'Snippet_Ustin,', 'Snippet_Vacant', 'Snippet_Valeant', 'Snippet_Valerie', 'Snippet_Vanessa', 'Snippet_Vape', 'Snippet_Vegan', 'Snippet_Vegans', 'Snippet_Vegetable', 'Snippet_Venezuela', 'Snippet_VetConnect,', 'Snippet_Via', 'Snippet_Viber', 'Snippet_Vice', 'Snippet_Victoria', 'Snippet_Vigorous', 'Snippet_Vincent', 'Snippet_Virtual', 'Snippet_Virtually', 'Snippet_Visitors', 'Snippet_Vitamin', 'Snippet_Vivian', 'Snippet_Vivienne', 'Snippet_Volatility', 'Snippet_Volunteers', 'Snippet_Vote', 'Snippet_Voter', 'Snippet_Voters', 'Snippet_W', 'Snippet_Wall', 'Snippet_Walmart', 'Snippet_Walter', 'Snippet_Wanted:', 'Snippet_Warned', 'Snippet_Warren', 'Snippet_Was', 'Snippet_Washington', 'Snippet_Waterfall,', 'Snippet_Waze,', 'Snippet_We', 'Snippet_Wednesday', 'Snippet_Wednesday:', 'Snippet_Weeks', 'Snippet_Wei', 'Snippet_Welcome', 'Snippet_Well', 'Snippet_Wendy', 'Snippet_Were', 'Snippet_Wessel', 'Snippet_Weve', 'Snippet_What', \"Snippet_What's\", 'Snippet_Whatever', 'Snippet_Whats', 'Snippet_When', 'Snippet_Where', 'Snippet_Whether', 'Snippet_Which', 'Snippet_While', 'Snippet_White', 'Snippet_Who', 'Snippet_Whos', 'Snippet_Why', 'Snippet_Will', 'Snippet_William', 'Snippet_Wilma', 'Snippet_Wireless', 'Snippet_Wisconsin', 'Snippet_With', 'Snippet_Within', 'Snippet_Without', 'Snippet_Women', 'Snippet_Wonk', 'Snippet_Words', 'Snippet_Working', 'Snippet_Works', 'Snippet_World', 'Snippet_Worn', 'Snippet_Would', 'Snippet_Wrapped', 'Snippet_Wrestling', 'Snippet_Xi', 'Snippet_Yahoo', 'Snippet_Year-end', 'Snippet_Yelp', 'Snippet_Yes,', 'Snippet_Yesterday,', 'Snippet_Yildiz,', 'Snippet_Yodlee', 'Snippet_You', 'Snippet_YouTubes', 'Snippet_Young', 'Snippet_Your', 'Snippet_Youre', 'Snippet_Yunghi', 'Snippet_Yusuf,', 'Snippet_Zachary', 'Snippet_Zombies', 'Snippet_Zun', 'Snippet_letter', 'Abstract_', 'Abstract_&', 'Abstract_5,680', 'Abstract_<a', 'Abstract_A', 'Abstract_A.', 'Abstract_ABN', 'Abstract_AT&T', 'Abstract_AT&Ts', 'Abstract_AbbVie', 'Abstract_Abiah', 'Abstract_Abigail', 'Abstract_Abnormal', 'Abstract_About', 'Abstract_Accepting', 'Abstract_Access', 'Abstract_According', 'Abstract_Acquiring', 'Abstract_Across', 'Abstract_Across-the-pond', 'Abstract_Activist', 'Abstract_Adam', 'Abstract_Adding', 'Abstract_Adidas', 'Abstract_Adner', 'Abstract_Adolescents', 'Abstract_Adolf', 'Abstract_Adrian', 'Abstract_Advanced', 'Abstract_Advent', 'Abstract_Advertising', 'Abstract_Advice', 'Abstract_Affluent', 'Abstract_Afresheet', 'Abstract_African-Americans', 'Abstract_After', 'Abstract_Aftertastes,', 'Abstract_Ahead', 'Abstract_Airbnb,', 'Abstract_Airline', 'Abstract_Airshow', 'Abstract_Akshaya', 'Abstract_Alan', 'Abstract_Albert', 'Abstract_Albertsons', 'Abstract_Alex', 'Abstract_Alexei', 'Abstract_Alexis', 'Abstract_Alibaba', 'Abstract_Alibabas', 'Abstract_Alicia', 'Abstract_Alison', 'Abstract_All', 'Abstract_Allergan', 'Abstract_Allergan,', 'Abstract_Almost', 'Abstract_Already,', 'Abstract_Alshon', 'Abstract_Also', 'Abstract_Altering', 'Abstract_Although', 'Abstract_Alzheimers', 'Abstract_Am', 'Abstract_Amalie', 'Abstract_Amanda', 'Abstract_Amazon', 'Abstract_Amazons', 'Abstract_American', 'Abstract_Americans', 'Abstract_Amid', 'Abstract_Among', 'Abstract_Amras', 'Abstract_Amrica', 'Abstract_Amy', 'Abstract_An', 'Abstract_Ana', 'Abstract_Analysts', 'Abstract_And', 'Abstract_Andr', 'Abstract_Andrea', 'Abstract_Andreas', 'Abstract_Andrew', 'Abstract_Anecdotal', 'Abstract_Anemona', 'Abstract_Angelina', 'Abstract_AngloGold', 'Abstract_Ann', 'Abstract_Anna', 'Abstract_Annalisa', 'Abstract_Anne', 'Abstract_Anomaly,', 'Abstract_Anonymous', 'Abstract_Another', 'Abstract_Anthem', 'Abstract_Anticorruption', 'Abstract_Antioxidant', 'Abstract_Antonia', 'Abstract_Any', 'Abstract_Apollo', 'Abstract_Apple', 'Abstract_Apple,', 'Abstract_Apples', 'Abstract_Apps', 'Abstract_Archaelogists', 'Abstract_Archival', 'Abstract_Are', 'Abstract_Argentina', 'Abstract_Arguably', 'Abstract_Around', 'Abstract_Art', 'Abstract_Arthur', 'Abstract_Articles', 'Abstract_As', 'Abstract_Asexuality', 'Abstract_Ash', 'Abstract_Ashkan', 'Abstract_Assembling', 'Abstract_Assuming', 'Abstract_At', 'Abstract_Attention', 'Abstract_Attorney', 'Abstract_Attributing', 'Abstract_Aurelien', 'Abstract_Austerity,', 'Abstract_Average', 'Abstract_Azam', 'Abstract_BB&T', 'Abstract_BCA,', 'Abstract_BGC', 'Abstract_BHP', 'Abstract_BNP', 'Abstract_Backers', 'Abstract_Backstage,', 'Abstract_Bad', 'Abstract_Ban', 'Abstract_Banco', 'Abstract_Bank', 'Abstract_Bankers,', 'Abstract_Banks', 'Abstract_Banning', 'Abstract_Bao', 'Abstract_Barbara', 'Abstract_Barry', 'Abstract_Based', 'Abstract_Basically,', 'Abstract_Because', 'Abstract_Beetroots,', 'Abstract_Before', 'Abstract_Beginning', 'Abstract_Beijing', 'Abstract_Being', 'Abstract_Believe', 'Abstract_Below', 'Abstract_Ben', 'Abstract_Berkshire', 'Abstract_Bernard', 'Abstract_Best', 'Abstract_Better', 'Abstract_Big', 'Abstract_Big-name', 'Abstract_Bill', 'Abstract_Bills', 'Abstract_Bitter', 'Abstract_BlackBerry', 'Abstract_BlackRock', 'Abstract_Blitz', 'Abstract_Bloomberg', 'Abstract_Blue', 'Abstract_Bluefish,', 'Abstract_Bob', 'Abstract_Bonnie', 'Abstract_Boom', 'Abstract_Boot', 'Abstract_Both', 'Abstract_Boy', 'Abstract_Bracing', 'Abstract_Bradley', 'Abstract_Breaking', 'Abstract_Breezy', 'Abstract_Brendan', 'Abstract_Brian', 'Abstract_Britains', 'Abstract_Brittney', 'Abstract_Broadway', 'Abstract_Brooks', 'Abstract_Bruce', 'Abstract_Brussels-based', 'Abstract_Bubble,', 'Abstract_Burial,', 'Abstract_Business', 'Abstract_But', 'Abstract_By', 'Abstract_C.H.C.M.,', 'Abstract_C.J.', 'Abstract_CGG', 'Abstract_CSX', 'Abstract_Cable', 'Abstract_Cake', 'Abstract_California', 'Abstract_California,', 'Abstract_Californias', 'Abstract_Called', 'Abstract_Can', 'Abstract_Canadas', 'Abstract_Canadian', 'Abstract_Canadians', 'Abstract_Cancer', 'Abstract_Candidates', 'Abstract_Carefully', 'Abstract_Carl', 'Abstract_Carnegie', 'Abstract_Carrie,', 'Abstract_Carsten', 'Abstract_Cartiers', 'Abstract_CartoDB', 'Abstract_Casios', 'Abstract_Catalan', 'Abstract_Catching', 'Abstract_Cedric', 'Abstract_Cees', 'Abstract_Celebrate', 'Abstract_Celebrities', 'Abstract_Central', 'Abstract_Cermaq,', 'Abstract_Certain', 'Abstract_Chances', 'Abstract_Channon', 'Abstract_Charles', 'Abstract_Charles-Henri', 'Abstract_Charlie', 'Abstract_Check', 'Abstract_Chef', 'Abstract_Cher', 'Abstract_Cheyne', 'Abstract_Chic', 'Abstract_Chicken', 'Abstract_Childhood', 'Abstract_Children', 'Abstract_China', 'Abstract_China,', 'Abstract_Chinas', 'Abstract_Chinese', 'Abstract_Chiquita', 'Abstract_Chiquita,', 'Abstract_Chris', 'Abstract_Christine', 'Abstract_Christmas', 'Abstract_Christopher', 'Abstract_Cisco', 'Abstract_Cities', 'Abstract_Citigroup', 'Abstract_Citigroups', 'Abstract_City', 'Abstract_Clara', 'Abstract_Claudia', 'Abstract_Clay', 'Abstract_Clearly', 'Abstract_Climate', 'Abstract_Clines', 'Abstract_Clothes', 'Abstract_Cloud', 'Abstract_Cognizant,', 'Abstract_Coinbase,', 'Abstract_Coincidentally,', 'Abstract_Cokes', 'Abstract_College', 'Abstract_Colleges', 'Abstract_Colorados', 'Abstract_Colorful', 'Abstract_Comcast', 'Abstract_Comments', 'Abstract_Companies', 'Abstract_Company', 'Abstract_Competing', 'Abstract_Compuware', 'Abstract_Concerns', 'Abstract_Conditions', 'Abstract_Confidential', 'Abstract_Congress', 'Abstract_Congressional', 'Abstract_Conservatives', 'Abstract_Construction', 'Abstract_Consumers', 'Abstract_Container', 'Abstract_Continuuity,', 'Abstract_Contributors', 'Abstract_Convictions!', 'Abstract_Corporate', 'Abstract_Corporations,', 'Abstract_Corrupt', 'Abstract_Cory', 'Abstract_Cosmopolitan,', 'Abstract_Could', 'Abstract_Count', 'Abstract_Court', 'Abstract_Courtney', 'Abstract_Coverage', 'Abstract_Covering', 'Abstract_Cozy,', 'Abstract_Craftsy,', 'Abstract_Cranberries,', 'Abstract_Create', 'Abstract_Creating', 'Abstract_Creative', 'Abstract_Credit', 'Abstract_Creditors', 'Abstract_Criminals', 'Abstract_Critics', 'Abstract_Crowds', 'Abstract_Cuba', 'Abstract_Cuban', 'Abstract_D.J.', 'Abstract_Daily', 'Abstract_Damien', 'Abstract_Damon', 'Abstract_Dan', 'Abstract_Daniel', 'Abstract_Daniele', 'Abstract_Darden', 'Abstract_Darren', 'Abstract_Dassault', 'Abstract_Data', 'Abstract_Data-driven', 'Abstract_David', 'Abstract_Dawn', 'Abstract_Day', 'Abstract_De', 'Abstract_Dealogic', 'Abstract_Dean', 'Abstract_Death', 'Abstract_Debi', 'Abstract_Defense', 'Abstract_Delta', 'Abstract_Demand', 'Abstract_Democratic', 'Abstract_Democrats', 'Abstract_Democrats,', 'Abstract_Dendreon', 'Abstract_Denis', 'Abstract_Dennis', 'Abstract_Dental', 'Abstract_Denver', 'Abstract_Deployed', 'Abstract_Derek', 'Abstract_Designers', 'Abstract_Despite', 'Abstract_Details', 'Abstract_Detroit', 'Abstract_Deutsche', 'Abstract_Developers', 'Abstract_Devocin,', 'Abstract_Diageo', 'Abstract_Did', 'Abstract_Direct', 'Abstract_Disagreements', 'Abstract_Discarded', 'Abstract_Discussing', 'Abstract_Disney', 'Abstract_Dispensing', 'Abstract_Dizzied', 'Abstract_Do', 'Abstract_Doctors', 'Abstract_Documents', 'Abstract_Does', 'Abstract_Dollar', 'Abstract_Domingo', 'Abstract_Dont', 'Abstract_Doreen', 'Abstract_Doubled', 'Abstract_Doug', 'Abstract_Douglas', 'Abstract_Dov', 'Abstract_Draghis', 'Abstract_Dreams', 'Abstract_Duffles', 'Abstract_Duncan', 'Abstract_During', 'Abstract_Dwight', 'Abstract_E-commerce', 'Abstract_E.J.', 'Abstract_Each', 'Abstract_Eager', 'Abstract_Early', 'Abstract_Early-year', 'Abstract_Earnings', 'Abstract_Eating', 'Abstract_Ebola', 'Abstract_Echoing', 'Abstract_Eczema', 'Abstract_Ed', 'Abstract_Edgewise', 'Abstract_Editors', 'Abstract_Eduardo', 'Abstract_Education', 'Abstract_Edward', 'Abstract_Eight', 'Abstract_Eike', 'Abstract_Election', 'Abstract_Electra', 'Abstract_Electrifying', 'Abstract_Eleven', 'Abstract_Eli', 'Abstract_Elizabeth', 'Abstract_Ellen', 'Abstract_Ello', 'Abstract_Elsa,', 'Abstract_Emaar', 'Abstract_Emilio', 'Abstract_Emily', 'Abstract_Emilys', 'Abstract_Empathy', 'Abstract_Employers', 'Abstract_Encourage', 'Abstract_Endo', 'Abstract_Energy', 'Abstract_Engineers', 'Abstract_Enrollment', 'Abstract_Enthusiasm', 'Abstract_Environmental', 'Abstract_Eric', 'Abstract_Erik', 'Abstract_Especially', 'Abstract_Esprito', 'Abstract_Europes', 'Abstract_Evan', 'Abstract_Evans', 'Abstract_Even', 'Abstract_Ever', 'Abstract_Every', 'Abstract_Everybody,', 'Abstract_Everyone', 'Abstract_Evidence?', 'Abstract_Examining', 'Abstract_Executive', 'Abstract_Exercise', 'Abstract_Exhibit', 'Abstract_Expiring', 'Abstract_Exposed,', 'Abstract_Exposure', 'Abstract_Extremely', 'Abstract_FLEXN', 'Abstract_Facebook', 'Abstract_Facing', 'Abstract_Fall', 'Abstract_Falls', 'Abstract_False', 'Abstract_Family', 'Abstract_FanDuel', 'Abstract_Fashion', 'Abstract_Fashions', 'Abstract_Favorite', 'Abstract_Fed', 'Abstract_Federal', 'Abstract_Female', 'Abstract_Festival', 'Abstract_Few', 'Abstract_Fiat', 'Abstract_Field', 'Abstract_Fill', 'Abstract_Finally', 'Abstract_Finally,', 'Abstract_Financial', 'Abstract_Finding', 'Abstract_Finish', 'Abstract_Firearm', 'Abstract_Firefighters', 'Abstract_Fiscal', 'Abstract_Fitting', 'Abstract_Five', 'Abstract_FiveStars,', 'Abstract_Flags', 'Abstract_Flight', 'Abstract_Follow', 'Abstract_Followers', 'Abstract_Following', 'Abstract_Food', 'Abstract_Football', 'Abstract_For', 'Abstract_Fordham', 'Abstract_Foreign', 'Abstract_Former', 'Abstract_Forty', 'Abstract_Fossils', 'Abstract_Fosun', 'Abstract_Founded', 'Abstract_Four', 'Abstract_Four,', 'Abstract_Fran', 'Abstract_Frank', 'Abstract_Fraud', 'Abstract_Fred', 'Abstract_Free', 'Abstract_French', 'Abstract_Fresh', 'Abstract_Friday', 'Abstract_Friday:', 'Abstract_Fridays', 'Abstract_Friends', 'Abstract_Frigid', 'Abstract_Fringed,', 'Abstract_From', 'Abstract_Fun', 'Abstract_Fun,', 'Abstract_Fund-raising', 'Abstract_Funds', 'Abstract_G', 'Abstract_Gabor', 'Abstract_Gabrielle', 'Abstract_Gallup', 'Abstract_Gareth', 'Abstract_Gary', 'Abstract_Gas', 'Abstract_Gay', 'Abstract_Geese', 'Abstract_General', 'Abstract_Geometric', 'Abstract_Georg', 'Abstract_George', 'Abstract_Georgia', 'Abstract_Gerard', 'Abstract_Gerry', 'Abstract_Get', 'Abstract_Getting', 'Abstract_Gillibrands', 'Abstract_Glen', 'Abstract_Glencore', 'Abstract_Global', 'Abstract_Gnther', 'Abstract_GoPro', 'Abstract_Godard,', 'Abstract_Going', 'Abstract_Goldman', 'Abstract_Gone', 'Abstract_Good', 'Abstract_Goodbye', 'Abstract_Google', 'Abstract_Google,', 'Abstract_Googles', 'Abstract_Gordon', 'Abstract_Goucher', 'Abstract_Gov.', 'Abstract_Grand', 'Abstract_Gray', 'Abstract_Greene', 'Abstract_Greg', 'Abstract_Gremlins', 'Abstract_Gretchen', 'Abstract_Groupe', 'Abstract_Groups', 'Abstract_Grown,', 'Abstract_Guangdong,', 'Abstract_Guests', 'Abstract_Gunnison,', 'Abstract_Gwyneth', 'Abstract_Gyms', 'Abstract_HSBC', 'Abstract_Hackers', 'Abstract_Had', 'Abstract_Half', 'Abstract_Halliburton', 'Abstract_Hampton', 'Abstract_Hand', 'Abstract_Handing', 'Abstract_Hands', 'Abstract_Handwritten', 'Abstract_Happy', 'Abstract_Harry', 'Abstract_Has', 'Abstract_Hasbro', 'Abstract_Hate-reads', 'Abstract_Havana', 'Abstract_Have', 'Abstract_Having', 'Abstract_Hctor', 'Abstract_He', 'Abstract_Health', 'Abstract_Heath', 'Abstract_Heaven,', 'Abstract_Heavenly', 'Abstract_Hebei', 'Abstract_Hedge', 'Abstract_Held', 'Abstract_Helene', 'Abstract_Henry', 'Abstract_Her', 'Abstract_Herbalifes', 'Abstract_Here', 'Abstract_Here,', 'Abstract_Heres', 'Abstract_Hertford', 'Abstract_Hes', 'Abstract_Hewlett-Packard', 'Abstract_Highlights', 'Abstract_Hillary', 'Abstract_Hipmunk', 'Abstract_His', 'Abstract_Hit', 'Abstract_Holder', 'Abstract_Holly', 'Abstract_Home', 'Abstract_Homeland', 'Abstract_Hong', 'Abstract_Hootsuite', 'Abstract_Hopper', 'Abstract_Horror', 'Abstract_Hotel', 'Abstract_Hotels', 'Abstract_Hotels,', 'Abstract_House', 'Abstract_How', 'Abstract_Hudsons', 'Abstract_Hugh', 'Abstract_Hundreds', 'Abstract_I', 'Abstract_I.S.S.', 'Abstract_IBM', 'Abstract_IBMs', 'Abstract_ISIS', 'Abstract_Ian', 'Abstract_Icahn', 'Abstract_Ideas,', 'Abstract_If', 'Abstract_Ill', 'Abstract_Im', 'Abstract_Immigrant', 'Abstract_Immigration', 'Abstract_Imposing', 'Abstract_Improved', 'Abstract_In', 'Abstract_Incidences', 'Abstract_Including', 'Abstract_Incompetent', 'Abstract_Increasingly', 'Abstract_Independent', 'Abstract_Industry', 'Abstract_Inflated', 'Abstract_Infographics', 'Abstract_Insider', 'Abstract_Instead', 'Abstract_Institutional', 'Abstract_Intel', 'Abstract_Intels', 'Abstract_Interviewers', 'Abstract_Investments', 'Abstract_Investors', 'Abstract_Is', 'Abstract_Isnt', 'Abstract_It', 'Abstract_Items', 'Abstract_Itinerant', 'Abstract_Its', 'Abstract_Ivan', 'Abstract_Ivy', 'Abstract_J.W.', 'Abstract_JDS', 'Abstract_JPMorgan', 'Abstract_Jack', 'Abstract_Jacob', 'Abstract_Jacqueline', 'Abstract_Jacques', 'Abstract_Jagged', 'Abstract_James', 'Abstract_Jana', 'Abstract_Janet', 'Abstract_Janskas', 'Abstract_Janus', 'Abstract_Japans', 'Abstract_Jason', 'Abstract_Javier', 'Abstract_Jawohl', 'Abstract_Jeb', 'Abstract_Jeff', 'Abstract_Jeffrey', 'Abstract_Jenn,', 'Abstract_Jenna', 'Abstract_Jennifer', 'Abstract_Jesse', 'Abstract_Jessie', 'Abstract_JetBlue', 'Abstract_Jiang', 'Abstract_Jill', 'Abstract_Jim', 'Abstract_Jimson', 'Abstract_Joan', 'Abstract_Joao', 'Abstract_Job', 'Abstract_Jobs', 'Abstract_Joe', 'Abstract_Joel', 'Abstract_John', 'Abstract_Jon', 'Abstract_Jonathan', 'Abstract_Joni', 'Abstract_Joseph', 'Abstract_Josh', 'Abstract_Joshua', 'Abstract_Journalists', 'Abstract_Jrgen', 'Abstract_Judge', 'Abstract_Juice', 'Abstract_Julia', 'Abstract_Julian', 'Abstract_Julianna', 'Abstract_Julie', 'Abstract_Jump-start', 'Abstract_Juniper', 'Abstract_Just', 'Abstract_Justice', 'Abstract_Jvlivs/Erving', 'Abstract_K.K.R.s', 'Abstract_Karen', 'Abstract_Karl', 'Abstract_Kering', 'Abstract_Kevin', 'Abstract_Kim', 'Abstract_Kmart', 'Abstract_Koch', 'Abstract_Kosher', 'Abstract_Kraken,', 'Abstract_Kung', 'Abstract_Kurt', 'Abstract_Kyle', 'Abstract_LVMH', 'Abstract_La', 'Abstract_LaToya', 'Abstract_Lace', 'Abstract_Language', 'Abstract_Large', 'Abstract_Larry', 'Abstract_Last', 'Abstract_Latest', 'Abstract_Lawmakers', 'Abstract_Lawrence', 'Abstract_Lawyers', 'Abstract_Le', 'Abstract_Leadership', 'Abstract_Leading', 'Abstract_Leaving', 'Abstract_Led', 'Abstract_Lena', 'Abstract_Lending', 'Abstract_Less', 'Abstract_Lessons', 'Abstract_Let', 'Abstract_Lets', 'Abstract_Letter', 'Abstract_Leviathan,', 'Abstract_Levin', 'Abstract_Libyas', 'Abstract_Life', 'Abstract_Lift', 'Abstract_Lights', 'Abstract_Like', 'Abstract_Lincoln', 'Abstract_Lincolns', 'Abstract_Liquidity', 'Abstract_Lisa', 'Abstract_Listed', 'Abstract_Literary', 'Abstract_Little', 'Abstract_Live', 'Abstract_Lively,', 'Abstract_Living', 'Abstract_Liz', 'Abstract_Lloyds,', 'Abstract_Local', 'Abstract_Locks', 'Abstract_Loewes', 'Abstract_London', 'Abstract_Londons', 'Abstract_Long', 'Abstract_Long,', 'Abstract_Longwood', 'Abstract_Look', 'Abstract_Looking', 'Abstract_Lookout,', 'Abstract_Loren', 'Abstract_Los', 'Abstract_Lots', 'Abstract_Louise', 'Abstract_Louisiana', 'Abstract_Low', 'Abstract_Low-income', 'Abstract_Lubavitch', 'Abstract_Lunch', 'Abstract_Macys', 'Abstract_Madeleine', 'Abstract_Mahmoud', 'Abstract_Maine', 'Abstract_Make', 'Abstract_Making', 'Abstract_Malcolm', 'Abstract_Maman', 'Abstract_Many', 'Abstract_Marc', 'Abstract_Marcel', 'Abstract_Marcus', 'Abstract_Margaret', 'Abstract_Margrethe', 'Abstract_Marijuana', 'Abstract_Marilynne', 'Abstract_Mario', 'Abstract_Marion', 'Abstract_Marissa', 'Abstract_Mark', 'Abstract_Marley', 'Abstract_Maroon', 'Abstract_Martha', 'Abstract_Martin', 'Abstract_Marvel', 'Abstract_Mary', 'Abstract_Mary-Kate', 'Abstract_Maryland', 'Abstract_Masks,', 'Abstract_Math', 'Abstract_Mathew', 'Abstract_Matt', 'Abstract_Maurice', 'Abstract_Maurizio', 'Abstract_Max', 'Abstract_Maybe', 'Abstract_Mayday', 'Abstract_Mayor', 'Abstract_McGraw', 'Abstract_Medtronic', 'Abstract_Meet', 'Abstract_Meghan', 'Abstract_Melissa', 'Abstract_Members', 'Abstract_Memorizing', 'Abstract_Menus', 'Abstract_Mercuria', 'Abstract_Merger', 'Abstract_Messy', 'Abstract_MetLifes', 'Abstract_Metallica', 'Abstract_Metlife', 'Abstract_Metropolitan', 'Abstract_Mexico', 'Abstract_Mexico,', 'Abstract_Mia', 'Abstract_Michael', 'Abstract_Michelle', 'Abstract_Micro', 'Abstract_Microsoft', 'Abstract_Microsofts', 'Abstract_Middle', 'Abstract_Middle-aged', 'Abstract_Migraine', 'Abstract_Mile', 'Abstract_Military', 'Abstract_Military-friendly', 'Abstract_Millions', 'Abstract_Millstein', 'Abstract_Minutes', 'Abstract_Miranda', 'Abstract_Mitch', 'Abstract_Mitt', 'Abstract_Mixed-metal', 'Abstract_Models', 'Abstract_Mohammad', 'Abstract_Monday', 'Abstract_Monday:', 'Abstract_Money', 'Abstract_Mong', 'Abstract_Monica', 'Abstract_Monk', 'Abstract_Monster,', 'Abstract_Monsters', 'Abstract_Montblancs', 'Abstract_Monte', 'Abstract_More', 'Abstract_Morten', 'Abstract_Mosi', 'Abstract_Mosquitoes', 'Abstract_Most', 'Abstract_Motorolas', 'Abstract_Moves', 'Abstract_Mr.', 'Abstract_Ms.', 'Abstract_Much', 'Abstract_Municipalities', 'Abstract_Musicians', 'Abstract_My', 'Abstract_NBC', 'Abstract_Nadav', 'Abstract_Naomi', 'Abstract_Narayan', 'Abstract_Narciso', 'Abstract_Natasha', 'Abstract_Nate', 'Abstract_Nathan', 'Abstract_Nathaniel', 'Abstract_Nearly', 'Abstract_Neil', 'Abstract_Neither', 'Abstract_Net', 'Abstract_Netflix', 'Abstract_Neuroscience', 'Abstract_Never', 'Abstract_New', 'Abstract_News', 'Abstract_Newsha', 'Abstract_Next', 'Abstract_Nighttime', 'Abstract_Nine', 'Abstract_No', 'Abstract_No,', 'Abstract_NoMoRobo,', 'Abstract_Noah', 'Abstract_Noel', 'Abstract_None', 'Abstract_Nordic', 'Abstract_Norfolk', 'Abstract_Northern', 'Abstract_Not', 'Abstract_Notes', 'Abstract_Nothing', 'Abstract_November', 'Abstract_Now', 'Abstract_Nucor', 'Abstract_Numbers', 'Abstract_Obama', 'Abstract_Obamacare', 'Abstract_Obese', 'Abstract_Objects', 'Abstract_Observers', 'Abstract_Obsessive', 'Abstract_Ocean', 'Abstract_Of', 'Abstract_Off', 'Abstract_Officials', 'Abstract_Oh,', 'Abstract_Older', 'Abstract_Oliver,', 'Abstract_On', 'Abstract_Once', 'Abstract_Once,', 'Abstract_One', 'Abstract_Only', 'Abstract_Open', 'Abstract_Opening-weekend', 'Abstract_Operators', 'Abstract_Or', 'Abstract_Organizations', 'Abstract_Organizers', 'Abstract_Osanna', 'Abstract_Oscar', 'Abstract_Ostensibly', 'Abstract_Other', 'Abstract_Others', 'Abstract_Our', 'Abstract_Outside', 'Abstract_Outsourcing', 'Abstract_Outtakes', 'Abstract_Over', 'Abstract_Overall,', 'Abstract_Oy,', 'Abstract_Paid', 'Abstract_Paintings', 'Abstract_Paloma', 'Abstract_Pamela', 'Abstract_Par', 'Abstract_Parent', 'Abstract_Parental', 'Abstract_Parents', 'Abstract_Paris', 'Abstract_Party', 'Abstract_Patricia', 'Abstract_Patrick', 'Abstract_Paul', 'Abstract_Pawel', 'Abstract_Pay', 'Abstract_PayPals', 'Abstract_Peking', 'Abstract_Penguin', 'Abstract_Penn', 'Abstract_People', 'Abstract_Peoples', 'Abstract_Perhaps', 'Abstract_Periodic', 'Abstract_Peter', 'Abstract_Petronas', 'Abstract_Phil', 'Abstract_Philip', 'Abstract_Philosophers', 'Abstract_Phish', 'Abstract_Phone', 'Abstract_Photographs', 'Abstract_Photos', 'Abstract_Physical', 'Abstract_Physicians', 'Abstract_Pimco', 'Abstract_Pings', 'Abstract_Plus,', 'Abstract_Plus:', 'Abstract_Point72', 'Abstract_Politicians', 'Abstract_Politics', 'Abstract_Polls', 'Abstract_Polycystic', 'Abstract_Popular', 'Abstract_Portugals', 'Abstract_Post-Ferguson,', 'Abstract_Post-McCutcheon,', 'Abstract_Postcards', 'Abstract_Pour', 'Abstract_Premiering', 'Abstract_Preparations', 'Abstract_Preschoolers', 'Abstract_Presenters', 'Abstract_President', 'Abstract_Preston', 'Abstract_Prime', 'Abstract_Prince', 'Abstract_Prize', 'Abstract_Pro-democracy', 'Abstract_Producers', 'Abstract_Professional', 'Abstract_Programs', 'Abstract_Project', 'Abstract_Promising', 'Abstract_Proposed', 'Abstract_Prosecutors', 'Abstract_Protest', 'Abstract_Protesters', 'Abstract_Protestors', 'Abstract_Protests', 'Abstract_Provisional', 'Abstract_Public', 'Abstract_Publicis', 'Abstract_Putting', 'Abstract_Quarries', 'Abstract_Quinn', 'Abstract_Quip,', 'Abstract_REEF,', 'Abstract_Races', 'Abstract_Rachel', 'Abstract_Radical', 'Abstract_RadioShack,', 'Abstract_Rafael', 'Abstract_Rahua', 'Abstract_Rainforest', 'Abstract_Raising', 'Abstract_Ralph', 'Abstract_Rand', 'Abstract_Rare', 'Abstract_Ray', 'Abstract_Reacting', 'Abstract_Reaction', 'Abstract_Reactions', 'Abstract_Read', 'Abstract_Readers', 'Abstract_Reading', 'Abstract_Ready', 'Abstract_Really', 'Abstract_Reassurances', 'Abstract_Recalcitrant', 'Abstract_Recent', 'Abstract_Recently,', 'Abstract_Recommended', 'Abstract_Red', 'Abstract_Redolent', 'Abstract_Referendum-day', 'Abstract_Refusal', 'Abstract_Regal,', 'Abstract_Regular', 'Abstract_Regulators', 'Abstract_Relais', 'Abstract_Relational', 'Abstract_Relations', 'Abstract_Remarks', 'Abstract_Remembered', 'Abstract_Remembering', 'Abstract_Ren', 'Abstract_Renewed', 'Abstract_Rengan', 'Abstract_Renzo', 'Abstract_Repercussions', 'Abstract_Reporters', 'Abstract_Reporting', 'Abstract_Representative', 'Abstract_Representatives', 'Abstract_Republican', 'Abstract_Republicans', 'Abstract_Research', 'Abstract_Researchers', 'Abstract_Resignation', 'Abstract_Restaurants', 'Abstract_Results', 'Abstract_Revenue', 'Abstract_Reviewing', 'Abstract_Revisiting', 'Abstract_Revolution', 'Abstract_Rhizome,', 'Abstract_Riccardo', 'Abstract_Richard', 'Abstract_Right', 'Abstract_Rita', 'Abstract_Rite', 'Abstract_Robert', 'Abstract_Robin', 'Abstract_Robots', 'Abstract_Robyn', 'Abstract_Rock', 'Abstract_Rodarte', 'Abstract_Ron', 'Abstract_Ronald', 'Abstract_Rosalie', 'Abstract_Rose', 'Abstract_Runoffs,', 'Abstract_Rush', 'Abstract_Russia,', 'Abstract_Russian', 'Abstract_Russians', 'Abstract_Russias', 'Abstract_Ryan', 'Abstract_SIG', 'Abstract_SMRT,', 'Abstract_Sage', 'Abstract_Sahm', 'Abstract_Salad', 'Abstract_Sales', 'Abstract_Salesforce', 'Abstract_Salman', 'Abstract_Sam', 'Abstract_Same', 'Abstract_Same-Sex', 'Abstract_Samuel', 'Abstract_Samuji,', 'Abstract_Sandell', 'Abstract_Santander', 'Abstract_Sara', 'Abstract_Sarah', 'Abstract_Saturday', 'Abstract_Satya', 'Abstract_Saving', 'Abstract_Saying', 'Abstract_Scandalous', 'Abstract_Scenes', 'Abstract_Scholarly', 'Abstract_School', 'Abstract_Scientists', 'Abstract_Scotland', 'Abstract_Scotlands', 'Abstract_Scott', 'Abstract_Sears', 'Abstract_Season', 'Abstract_Sebastien', 'Abstract_Secret', 'Abstract_Secretary', 'Abstract_Secrets', 'Abstract_Secular', 'Abstract_Security', 'Abstract_SeedInvest', 'Abstract_Seeing', 'Abstract_Seeking', 'Abstract_Senate', 'Abstract_Senator', 'Abstract_Serena', 'Abstract_Set', 'Abstract_Seven', 'Abstract_Seven-day', 'Abstract_Seventy-one', 'Abstract_Several', 'Abstract_Sex', 'Abstract_Sexual', 'Abstract_Shakespeare,', 'Abstract_Shakespeares', 'Abstract_Shambling', 'Abstract_Shares', 'Abstract_Sharifa', 'Abstract_Sharing', 'Abstract_Shayne', 'Abstract_She', 'Abstract_Sheila', 'Abstract_Shelly', 'Abstract_Sheri', 'Abstract_Shes', 'Abstract_Shifts', 'Abstract_Shinolas', 'Abstract_Shonda', 'Abstract_Shortly', 'Abstract_Shot', 'Abstract_Should', 'Abstract_Shows', 'Abstract_Shun', 'Abstract_Shutdown', 'Abstract_Sickle', 'Abstract_Sigmund', 'Abstract_Significant', 'Abstract_Sigurjon', 'Abstract_Silicon', 'Abstract_Simon', 'Abstract_Simone', 'Abstract_Since', 'Abstract_Singapores', 'Abstract_Siri', 'Abstract_Sisters,', 'Abstract_Six', 'Abstract_Sixteen', 'Abstract_SkyTeam,', 'Abstract_Slashing', 'Abstract_Sleep', 'Abstract_Small', 'Abstract_Snark', 'Abstract_So', 'Abstract_Social', 'Abstract_Sofitel', 'Abstract_SoftBank', 'Abstract_Solving', 'Abstract_Some', 'Abstract_Someone', 'Abstract_Sometimes', 'Abstract_Songbird', 'Abstract_Sonic,', 'Abstract_Sony', 'Abstract_Soon', 'Abstract_Soothes', 'Abstract_Sorority', 'Abstract_Sothebys', 'Abstract_South', 'Abstract_Spain,', 'Abstract_Spanish', 'Abstract_Spatchcock.', 'Abstract_Speaker', 'Abstract_Speculation', 'Abstract_Spend', 'Abstract_Spike', 'Abstract_Sprouts', 'Abstract_Spurred', 'Abstract_Standard', 'Abstract_Stanley', 'Abstract_Start-ups', 'Abstract_Starting', 'Abstract_Statement', 'Abstract_Statements', 'Abstract_Statistical', 'Abstract_Stefan', 'Abstract_Step', 'Abstract_Stephan', 'Abstract_Stephanie', 'Abstract_Stephen', 'Abstract_Steve', 'Abstract_Steven', 'Abstract_Stocking', 'Abstract_Stories,', 'Abstract_Strains', 'Abstract_Strong', 'Abstract_Students', 'Abstract_Stylish', 'Abstract_Sub-Saharan', 'Abstract_Submit', 'Abstract_Subprime', 'Abstract_Substitute', 'Abstract_Success', 'Abstract_Suffering', 'Abstract_SugarScience.org,', 'Abstract_Sugary', 'Abstract_Sukkahs', 'Abstract_Sulzer,', 'Abstract_SunEdison', 'Abstract_Sunday', 'Abstract_Surpluses', 'Abstract_Survivors', 'Abstract_Susan', 'Abstract_Susanna', 'Abstract_Sympathetic', 'Abstract_Syrias', 'Abstract_T', 'Abstract_Taiwans', 'Abstract_Take-private', 'Abstract_Taking', 'Abstract_Talk', 'Abstract_Talking', 'Abstract_Talks', 'Abstract_Tamar', 'Abstract_Tamara', 'Abstract_Taminco,', 'Abstract_Taobao,', 'Abstract_Taste', 'Abstract_Tate', 'Abstract_Tavi', 'Abstract_Taylor', 'Abstract_Teachers', 'Abstract_Tech', 'Abstract_Ted', 'Abstract_Teenage', 'Abstract_Teenagers', 'Abstract_Tell', 'Abstract_Telling', 'Abstract_Ten', 'Abstract_Tennessee', 'Abstract_Terminal', 'Abstract_Terrence', 'Abstract_Test', 'Abstract_Thackery', 'Abstract_Thanks', 'Abstract_Thanksgiving', 'Abstract_That', 'Abstract_The', 'Abstract_Theater', 'Abstract_Their', 'Abstract_There', 'Abstract_Theres', 'Abstract_These', 'Abstract_They', 'Abstract_Theyre', 'Abstract_Thieves', 'Abstract_Things', 'Abstract_Think', 'Abstract_Thirty-five', 'Abstract_This', 'Abstract_Thom', 'Abstract_Thomas', 'Abstract_Those', 'Abstract_Though', 'Abstract_Thought', 'Abstract_Thoughts', 'Abstract_Thread', 'Abstract_Three', 'Abstract_Through', 'Abstract_Thursday', 'Abstract_Thursday:', 'Abstract_Ticket', 'Abstract_Tight', 'Abstract_Tim', 'Abstract_Time,', 'Abstract_Timepieces', 'Abstract_Times', 'Abstract_Timothy', 'Abstract_Tired', 'Abstract_Titled', 'Abstract_To', 'Abstract_Today', 'Abstract_Today,', 'Abstract_Todays', 'Abstract_Todd', 'Abstract_Together,', 'Abstract_Tom', 'Abstract_Tomas', 'Abstract_Tomorrow', 'Abstract_Too', 'Abstract_Top', 'Abstract_Tory', 'Abstract_Total,', 'Abstract_Touring', 'Abstract_Tracy', 'Abstract_Traditionally', 'Abstract_Traer', 'Abstract_Transit', 'Abstract_Translucent,', 'Abstract_Transparent,', 'Abstract_Travelers', 'Abstract_Travelport', 'Abstract_Treating', 'Abstract_Trian', 'Abstract_Tripr,', 'Abstract_Troi', 'Abstract_Ts', 'Abstract_Tsu', 'Abstract_Tuesday:', 'Abstract_Turkey', 'Abstract_Turquoise', 'Abstract_Twelve', 'Abstract_Twitter', 'Abstract_Two', 'Abstract_U.S.', 'Abstract_Uber', 'Abstract_Ukraine', 'Abstract_Unbreakable', 'Abstract_Under', 'Abstract_Understanding', 'Abstract_UniCredits', 'Abstract_United', 'Abstract_Universa', 'Abstract_Unlike', 'Abstract_Until', 'Abstract_Updates', 'Abstract_Urban', 'Abstract_Using', 'Abstract_Ustin,', 'Abstract_Vacant', 'Abstract_Valeant', 'Abstract_Valerie', 'Abstract_Vanessa', 'Abstract_Vape', 'Abstract_Vegan', 'Abstract_Vegans', 'Abstract_Vegetable', 'Abstract_Venezuela', 'Abstract_VetConnect,', 'Abstract_Via', 'Abstract_Viber', 'Abstract_Vice', 'Abstract_Victoria', 'Abstract_Vigorous', 'Abstract_Vincent', 'Abstract_Virtual', 'Abstract_Virtually', 'Abstract_Visitors', 'Abstract_Vitamin', 'Abstract_Vivian', 'Abstract_Vivienne', 'Abstract_Volatility', 'Abstract_Volunteers', 'Abstract_Vote', 'Abstract_Voter', 'Abstract_Voters', 'Abstract_W', 'Abstract_Wall', 'Abstract_Walmart', 'Abstract_Walter', 'Abstract_Wanted:', 'Abstract_Warned', 'Abstract_Warren', 'Abstract_Was', 'Abstract_Washington', 'Abstract_Waterfall,', 'Abstract_Waze,', 'Abstract_We', 'Abstract_Wednesday', 'Abstract_Wednesday:', 'Abstract_Weeks', 'Abstract_Wei', 'Abstract_Welcome', 'Abstract_Well', 'Abstract_Wendy', 'Abstract_Were', 'Abstract_Wessel', 'Abstract_Weve', 'Abstract_What', \"Abstract_What's\", 'Abstract_Whatever', 'Abstract_Whats', 'Abstract_When', 'Abstract_Where', 'Abstract_Whether', 'Abstract_Which', 'Abstract_While', 'Abstract_White', 'Abstract_Who', 'Abstract_Whos', 'Abstract_Why', 'Abstract_Will', 'Abstract_William', 'Abstract_Wilma', 'Abstract_Wireless', 'Abstract_Wisconsin', 'Abstract_With', 'Abstract_Within', 'Abstract_Without', 'Abstract_Women', 'Abstract_Wonk', 'Abstract_Words', 'Abstract_Working', 'Abstract_Works', 'Abstract_World', 'Abstract_Worn', 'Abstract_Would', 'Abstract_Wrapped', 'Abstract_Wrestling', 'Abstract_Xi', 'Abstract_Yahoo', 'Abstract_Year-end', 'Abstract_Yelp', 'Abstract_Yes,', 'Abstract_Yesterday,', 'Abstract_Yildiz,', 'Abstract_Yodlee', 'Abstract_You', 'Abstract_YouTubes', 'Abstract_Young', 'Abstract_Your', 'Abstract_Youre', 'Abstract_Yunghi', 'Abstract_Yusuf,', 'Abstract_Zachary', 'Abstract_Zombies', 'Abstract_Zun', 'Abstract_letter']\n",
      "\n",
      "Total features:  5452\n"
     ]
    }
   ],
   "source": [
    "df=pd.get_dummies(df,columns=[\"NewsDesk\",\"SectionName\",\"SubsectionName\", \"Headline\",\"Snippet\",\"Abstract\"],\n",
    "                  drop_first=False)\n",
    "\n",
    "new_features = list(df.dtypes.index)\n",
    "new_features.remove('Popular')\n",
    "\n",
    "X = df[new_features]\n",
    "\n",
    "print(new_features)\n",
    "\n",
    "#originally 9, now 5452\n",
    "\n",
    "print(\"\\nTotal features: \", len(new_features))"
   ]
  },
  {
   "cell_type": "markdown",
   "metadata": {},
   "source": [
    "# Random forest"
   ]
  },
  {
   "cell_type": "code",
   "execution_count": 5,
   "metadata": {},
   "outputs": [
    {
     "name": "stdout",
     "output_type": "stream",
     "text": [
      "\n",
      "Accuracy:  0.915902140673\n"
     ]
    }
   ],
   "source": [
    "from sklearn.ensemble import RandomForestClassifier\n",
    "\n",
    "X_train, X_test, y_train, y_test = train_test_split(X, y, test_size=0.1, random_state=1)\n",
    "rf =  RandomForestClassifier(n_estimators = 50, bootstrap = True, random_state=0, criterion='entropy')\n",
    "rf.fit(X_train, y_train)\n",
    "\n",
    "y_predict_randF = rf.predict(X_test)\n",
    "\n",
    "accuracy = accuracy_score(y_test, y_predict_randF)\n",
    "\n",
    "print(\"\\nAccuracy: \", accuracy) "
   ]
  },
  {
   "cell_type": "markdown",
   "metadata": {},
   "source": [
    "# DecisionTreeClassifier"
   ]
  },
  {
   "cell_type": "code",
   "execution_count": 6,
   "metadata": {},
   "outputs": [
    {
     "name": "stdout",
     "output_type": "stream",
     "text": [
      "\n",
      "Accuracy Decision Tree:  0.906727828746\n"
     ]
    }
   ],
   "source": [
    "decTree =  DecisionTreeClassifier(criterion='entropy', min_samples_split=4, random_state=0)\n",
    "decTree.fit(X_train, y_train)\n",
    "y_predict_decTree = decTree.predict(X_test)\n",
    "\n",
    "accuracy_decTree = accuracy_score(y_test, y_predict_decTree)\n",
    "\n",
    "print(\"\\nAccuracy Decision Tree: \", accuracy_decTree) "
   ]
  },
  {
   "cell_type": "markdown",
   "metadata": {},
   "source": [
    "# ExtraTreesClassifier"
   ]
  },
  {
   "cell_type": "code",
   "execution_count": 7,
   "metadata": {},
   "outputs": [
    {
     "name": "stdout",
     "output_type": "stream",
     "text": [
      "\n",
      "Accuracy ExtraTreesClassifier:  0.915902140673\n"
     ]
    }
   ],
   "source": [
    "from sklearn.ensemble import ExtraTreesClassifier\n",
    "\n",
    "etc = ExtraTreesClassifier(n_estimators=52, max_depth=None, min_samples_split=5, random_state=0, criterion='entropy')\n",
    "etc.fit(X_train,y_train)\n",
    "\n",
    "predictions_etc = etc.predict(X_test)\n",
    "accuracy_etc = accuracy_score(y_test, predictions_etc)\n",
    "\n",
    "print(\"\\nAccuracy ExtraTreesClassifier: \", accuracy_etc) "
   ]
  },
  {
   "cell_type": "markdown",
   "metadata": {},
   "source": [
    "# Combining the results of the best classifiers"
   ]
  },
  {
   "cell_type": "code",
   "execution_count": 8,
   "metadata": {},
   "outputs": [
    {
     "name": "stdout",
     "output_type": "stream",
     "text": [
      "\n",
      " Combined Accuracy:  0.920489296636\n"
     ]
    }
   ],
   "source": [
    "combined_predictions=pd.DataFrame([y_predict_randF, y_predict_decTree, predictions_etc])\n",
    "\n",
    "consolidated_predictions = list(combined_predictions.mode().values[0])\n",
    "\n",
    "acc= accuracy_score(y_test, consolidated_predictions)\n",
    "\n",
    "print(\"\\n Combined Accuracy: \", acc) "
   ]
  },
  {
   "cell_type": "markdown",
   "metadata": {},
   "source": [
    "# Additional classifiers tried"
   ]
  },
  {
   "cell_type": "markdown",
   "metadata": {},
   "source": [
    "# Gradient Boosting Classifier"
   ]
  },
  {
   "cell_type": "code",
   "execution_count": 9,
   "metadata": {},
   "outputs": [
    {
     "name": "stdout",
     "output_type": "stream",
     "text": [
      "Accuracy by Gradient Boosting Classifier:  0.899082568807\n"
     ]
    }
   ],
   "source": [
    "#Gradient Boosting Classifier\n",
    "from sklearn.ensemble import GradientBoostingClassifier\n",
    "clf = GradientBoostingClassifier(n_estimators=100, learning_rate=1.0, max_depth=1)\n",
    "clf.fit(X_train, y_train)\n",
    "prediction = clf.predict(X_test)\n",
    "acc_score = accuracy_score(y_test, prediction)\n",
    "print(\"Accuracy by Gradient Boosting Classifier: \", acc_score)"
   ]
  },
  {
   "cell_type": "markdown",
   "metadata": {},
   "source": [
    "# Ada boost"
   ]
  },
  {
   "cell_type": "code",
   "execution_count": 10,
   "metadata": {},
   "outputs": [
    {
     "name": "stdout",
     "output_type": "stream",
     "text": [
      "Accuracy by Ada Boost Classifier:  0.888379204893\n"
     ]
    }
   ],
   "source": [
    "#Ada boost\n",
    "from sklearn.ensemble import AdaBoostClassifier\n",
    "dt = DecisionTreeClassifier()\n",
    "clf = AdaBoostClassifier(n_estimators=100, base_estimator=dt,learning_rate=1)\n",
    "clf.fit(X_train, y_train)\n",
    "prediction = clf.predict(X_test)\n",
    "acc_score = accuracy_score(y_test, prediction)\n",
    "print(\"Accuracy by Ada Boost Classifier: \", acc_score)"
   ]
  },
  {
   "cell_type": "markdown",
   "metadata": {},
   "source": [
    "# LogisticRegression"
   ]
  },
  {
   "cell_type": "code",
   "execution_count": 11,
   "metadata": {},
   "outputs": [
    {
     "name": "stdout",
     "output_type": "stream",
     "text": [
      "Logistic Regression:  0.892966360856\n"
     ]
    }
   ],
   "source": [
    "from sklearn.linear_model import LogisticRegression\n",
    "\n",
    "logreg = LogisticRegression()\n",
    "\n",
    "# training\n",
    "logreg.fit(X_train, y_train)\n",
    "\n",
    "# predict label\n",
    "y_predict_lr = logreg.predict(X_test)\n",
    "\n",
    "# calculate accuracy\n",
    "log_accuracy = accuracy_score(y_test, y_predict_lr)\n",
    "\n",
    "print('Logistic Regression: ', log_accuracy)"
   ]
  },
  {
   "cell_type": "code",
   "execution_count": 14,
   "metadata": {},
   "outputs": [
    {
     "name": "stdout",
     "output_type": "stream",
     "text": [
      "[  6.07161535e-02   7.91690684e-02   9.20909147e-04   8.54781394e-01\n",
      "   2.52585705e-02   7.62810530e-02   1.08469148e-02   2.23960179e-03\n",
      "   2.71778927e-01   6.06265631e-03   5.11123155e-03   8.81559370e-01\n",
      "   1.24169881e-02   6.71553634e-01   7.31361289e-02   9.57799143e-01\n",
      "   1.10816467e-01   7.22150475e-02   9.29598059e-02   8.68861525e-03\n",
      "   4.05668389e-02   3.56319269e-02   9.61511814e-01   5.45767444e-03\n",
      "   7.19496360e-03   1.14040411e-02   1.29580777e-02   1.91174298e-02\n",
      "   1.14108608e-02   1.65998726e-01   5.59379672e-02   1.39993238e-02\n",
      "   3.54766781e-03   6.61469467e-03   1.50613910e-01   3.82711134e-03\n",
      "   2.95322252e-02   3.58728358e-02   7.66425520e-01   2.13085167e-02\n",
      "   1.85596463e-02   3.67637601e-03   1.41094517e-02   3.67681631e-03\n",
      "   4.96791111e-02   1.81340677e-02   9.50974507e-03   4.33279791e-02\n",
      "   5.08942645e-04   4.15246560e-02   1.39245624e-01   9.89876513e-02\n",
      "   4.16110090e-03   7.31046778e-01   3.92172969e-01   4.93908426e-02\n",
      "   4.33329468e-02   7.81352870e-01   1.51220202e-02   5.84850228e-03\n",
      "   2.27935114e-01   9.76207838e-02   4.97444739e-02   7.20789288e-01\n",
      "   8.79342176e-02   4.74225451e-02   4.78641953e-02   5.25781552e-03\n",
      "   7.85996796e-02   1.12668773e-02   9.01386376e-02   4.36173687e-03\n",
      "   1.34547146e-02   9.42280084e-02   2.69205610e-02   1.99919376e-02\n",
      "   6.97015552e-02   1.16964964e-01   5.25435371e-02   9.18535914e-02\n",
      "   3.97265605e-03   5.20862202e-03   2.43827784e-01   8.94286871e-01\n",
      "   9.22770278e-04   5.02438945e-03   3.47229997e-02   4.33143704e-01\n",
      "   8.36334290e-02   5.89489665e-02   9.26509741e-03   4.57062682e-01\n",
      "   4.69048846e-02   6.23287708e-03   3.78160121e-02   1.05834362e-01\n",
      "   9.26391533e-02   8.35758776e-02   2.97260825e-03   2.91676917e-02\n",
      "   5.18115570e-03   4.27451321e-02   3.84900506e-03   6.12193100e-02\n",
      "   2.32165842e-01   4.34878321e-03   5.33855838e-03   5.28954256e-03\n",
      "   8.81832696e-04   9.71718735e-02   5.80733791e-01   3.40604389e-02\n",
      "   1.56367674e-02   9.15867895e-01   3.72734981e-03   7.59260660e-01\n",
      "   6.24052864e-02   7.26604659e-02   6.10645135e-02   3.06413652e-02\n",
      "   7.58760894e-01   6.23819321e-02   3.90715571e-03   5.54478505e-03\n",
      "   1.09522564e-02   5.64283984e-02   2.00072938e-02   1.30096800e-02\n",
      "   3.90056541e-02   6.91738668e-01   1.55865958e-03   2.83518618e-02\n",
      "   7.21708980e-01   7.85767046e-02   1.72862503e-03   5.96383005e-02\n",
      "   9.60301474e-01   6.57864682e-01   5.24823272e-03   6.79663252e-02\n",
      "   1.02584607e-01   4.53098283e-03   6.42532056e-02   7.53503566e-02\n",
      "   3.04919205e-01   1.90783842e-02   7.35713097e-01   5.01049796e-03\n",
      "   6.91752499e-01   6.32272955e-02   4.07538474e-03   5.78898393e-02\n",
      "   4.25038685e-03   8.00322622e-01   3.74334266e-02   1.42590696e-02\n",
      "   4.57539792e-02   6.09391253e-03   1.15533485e-02   6.06769394e-02\n",
      "   1.88552770e-01   9.95471161e-03   4.60132021e-02   8.91368706e-02\n",
      "   2.27585607e-02   1.75374040e-02   8.99805783e-02   1.29669997e-02\n",
      "   8.13095741e-02   5.96493245e-01   9.16435084e-02   9.35455885e-02\n",
      "   4.98917398e-01   7.79846799e-02   1.04966534e-01   3.13868032e-02\n",
      "   9.72450618e-02   2.83943438e-02   8.49024475e-02   9.43027283e-02\n",
      "   6.62966457e-01   2.19682347e-01   3.08679151e-02   6.25623483e-03\n",
      "   7.89817740e-01   5.08646836e-04   1.90810361e-01   1.56415114e-03\n",
      "   2.11088384e-02   8.72551233e-01   5.06641902e-02   4.56382302e-02\n",
      "   1.10936637e-01   9.98357640e-01   9.70154104e-02   8.24863144e-01\n",
      "   8.70941851e-02   7.55614732e-01   2.56939109e-02   1.08071390e-02\n",
      "   7.43624161e-01   1.51700608e-01   8.97678648e-02   2.35201941e-02\n",
      "   5.66529031e-03   8.18096574e-02   2.62596313e-02   5.37811338e-03\n",
      "   5.56746089e-02   8.11022801e-03   9.48058515e-03   9.58243362e-01\n",
      "   2.66131794e-02   1.52271903e-02   4.20522699e-02   8.11102420e-01\n",
      "   6.43550894e-01   4.28256365e-03   1.24445366e-02   1.11680489e-02\n",
      "   2.55844395e-02   3.83520112e-03   1.15835517e-02   1.66439196e-01\n",
      "   1.27215682e-02   6.70006892e-01   2.87628825e-02   7.89966964e-02\n",
      "   1.39780346e-01   1.60427654e-02   4.29865570e-03   4.58331273e-01\n",
      "   4.50432439e-03   8.23247872e-03   8.38278025e-01   6.37015524e-01\n",
      "   1.17292292e-01   6.23703128e-03   3.28475393e-02   7.76624960e-02\n",
      "   1.39839688e-03   4.88149875e-02   3.64212144e-01   5.77992340e-02\n",
      "   6.74960310e-03   5.78799035e-01   1.19012614e-02   8.75675588e-01\n",
      "   5.04362344e-02   6.36887110e-02   6.68988114e-01   6.72012606e-02\n",
      "   5.22348543e-02   8.95571460e-02   3.59763573e-02   8.87841468e-02\n",
      "   1.37170984e-01   9.12039749e-03   1.28331828e-01   3.96667320e-02\n",
      "   7.83201146e-03   2.43590999e-01   9.07265308e-02   8.30293092e-01\n",
      "   1.59476802e-01   2.00881037e-02   2.14849250e-01   6.96250318e-02\n",
      "   4.29290561e-02   3.73148522e-03   3.15133076e-02   3.46557376e-02\n",
      "   1.55048810e-01   8.39293548e-02   5.63544171e-01   4.68285926e-02\n",
      "   5.42673371e-04   2.62169753e-03   2.47379896e-02   1.86712046e-02\n",
      "   1.08932811e-02   4.97306716e-02   5.41989681e-02   7.21814801e-01\n",
      "   1.05440396e-01   1.10513022e-01   7.66135933e-03   1.03161065e-01\n",
      "   7.79757398e-02   6.17254600e-02   6.65374833e-03   1.29865938e-02\n",
      "   1.23946836e-02   2.53385325e-03   9.52454260e-01   2.42404319e-01\n",
      "   5.19305480e-02   1.67572719e-02   1.08662953e-01   6.75391642e-02\n",
      "   5.38549136e-02   2.09879019e-01   3.53472849e-02   3.45526785e-02\n",
      "   4.69125266e-02   6.73756862e-02   2.67429450e-01   5.02476747e-03\n",
      "   2.51661199e-01   4.55269381e-03   1.15792829e-01   4.31643365e-03\n",
      "   1.52737711e-03   1.19918756e-01   3.36039361e-01   8.85935143e-01\n",
      "   2.12723632e-01   2.36583345e-02   1.13585198e-02   8.85434428e-02\n",
      "   7.71038285e-02   3.25292249e-02   1.21736483e-01   1.01590352e-02\n",
      "   7.70821868e-03   9.68748303e-03   5.02462771e-04   6.01658362e-03\n",
      "   7.83618905e-01   3.94922271e-02   1.17234974e-02   1.86869250e-02\n",
      "   3.47725966e-03   5.13397488e-03   4.61797161e-03   2.56915028e-02\n",
      "   1.51983931e-02   5.39974741e-02   1.89753892e-01   6.06138197e-02\n",
      "   6.31590224e-02   2.61094320e-02   1.86430133e-02   4.92700929e-03\n",
      "   1.50817687e-01   4.53470474e-02   5.12782233e-03   3.99702549e-02\n",
      "   4.96538358e-02   6.00481211e-02   5.29551230e-02   2.97512508e-02\n",
      "   5.24190370e-02   2.74978875e-01   2.08403310e-02   1.95589819e-01\n",
      "   6.43467458e-02   7.48436221e-03   1.86624150e-01   8.79404591e-01\n",
      "   1.61820033e-03   7.44564790e-03   6.32253245e-02   5.18211100e-01\n",
      "   2.72463497e-03   4.20595228e-02   4.39916041e-01   4.78131165e-01\n",
      "   1.32218683e-01   2.90561256e-02   6.43235639e-03   5.26993037e-03\n",
      "   1.40730754e-02   1.01995940e-02   7.12318293e-02   9.73635785e-01\n",
      "   1.82427358e-02   2.96473242e-02   5.09131620e-04   3.58440543e-03\n",
      "   9.30780710e-02   3.13691329e-03   1.17076438e-01   4.69284932e-03\n",
      "   5.17259986e-03   9.69600049e-02   3.40854358e-02   6.66716510e-02\n",
      "   1.59407261e-01   1.32578324e-02   8.32715389e-01   5.92367687e-03\n",
      "   1.16175601e-01   4.64477300e-02   6.82205237e-02   2.50592246e-02\n",
      "   2.03389496e-02   1.22876785e-02   6.06504299e-03   5.38873068e-02\n",
      "   1.65884674e-02   3.67108690e-01   4.75321562e-02   1.00576719e-01\n",
      "   5.99629031e-01   4.31978201e-02   6.20268235e-02   1.04688273e-02\n",
      "   4.27044274e-02   3.73817862e-03   5.59763875e-02   7.04527686e-02\n",
      "   1.70650918e-01   3.35104457e-02   1.40905109e-01   1.46428628e-01\n",
      "   5.26133222e-02   7.74893009e-02   2.30181484e-01   2.44621706e-01\n",
      "   1.55071545e-03   6.91482602e-02   4.39200605e-02   1.41218271e-01\n",
      "   9.19527930e-01   2.15601558e-03   1.51586775e-01   3.60553476e-02\n",
      "   3.62091837e-04   1.40476094e-02   3.23730530e-02   3.54020092e-02\n",
      "   1.30616393e-01   4.05771739e-04   3.61889649e-02   9.53182116e-02\n",
      "   4.92891676e-03   5.37525898e-03   1.32331968e-01   6.12802442e-02\n",
      "   4.24690214e-02   1.05554956e-02   1.02750926e-01   5.49228985e-02\n",
      "   5.59837702e-02   9.54702849e-01   5.88850000e-01   5.44523782e-02\n",
      "   1.72306474e-03   4.78237633e-02   2.34725532e-01   3.09595581e-02\n",
      "   3.62067930e-02   3.16058061e-02   3.25977363e-02   2.32361897e-02\n",
      "   6.84645309e-03   8.08003118e-04   1.57059813e-02   6.84642910e-02\n",
      "   3.40732687e-02   7.83708638e-02   4.56090117e-02   5.46764058e-01\n",
      "   3.67867779e-02   1.02312206e-01   4.77671050e-01   4.11338193e-01\n",
      "   2.44974729e-01   6.54205765e-02   4.67365820e-02   6.99827333e-01\n",
      "   4.15007807e-02   8.12538689e-02   9.89591154e-02   1.45681618e-03\n",
      "   1.96520509e-02   2.25616214e-01   4.79848212e-02   6.97116598e-01\n",
      "   4.93761018e-02   5.14711805e-03   3.80252078e-03   1.17625968e-01\n",
      "   6.27941899e-03   1.08302097e-01   7.50992435e-03   5.74640959e-02\n",
      "   9.98321865e-02   3.12792952e-02   3.92759306e-02   1.54916455e-01\n",
      "   8.89410181e-02   6.14014552e-01   4.00110950e-02   7.81102336e-01\n",
      "   3.09141182e-02   1.04440185e-01   2.57750876e-01   6.27692633e-02\n",
      "   6.27868906e-01   1.55818907e-03   1.17178807e-01   5.60494329e-02\n",
      "   3.38267166e-03   8.19528941e-01   2.85405115e-01   6.39367093e-01\n",
      "   1.39440360e-02   6.47929299e-01   9.42126038e-01   2.01932098e-02\n",
      "   5.37653281e-02   6.95131353e-01   2.09186296e-01   6.13668299e-03\n",
      "   5.45727653e-02   7.76646619e-03   4.36396558e-03   2.87780849e-01\n",
      "   2.79032133e-03   5.32845619e-02   2.82417842e-02   5.96788007e-02\n",
      "   5.58008033e-02   4.54254661e-02   3.37000310e-02   4.59833983e-02\n",
      "   5.69413312e-02   6.45007225e-02   8.36149871e-03   2.48304818e-01\n",
      "   2.79934206e-01   1.43315336e-03   1.85385166e-02   5.28414100e-01\n",
      "   4.40775544e-02   6.43650456e-02   4.48853867e-03   8.73997433e-02\n",
      "   1.22192401e-02   5.43549304e-03   8.71152521e-01   1.62760207e-01\n",
      "   1.48198587e-02   4.24386315e-03   2.64524318e-02   4.72104464e-03\n",
      "   1.73601846e-01   3.32710424e-02   6.84202181e-02   1.23121571e-01\n",
      "   9.66396007e-02   4.49795268e-03   4.01323213e-03   4.48439098e-02\n",
      "   5.38731531e-01   7.40159566e-01   2.37537571e-01   2.81188631e-01\n",
      "   1.00872110e-01   7.02025719e-02   4.53716110e-02   9.77141395e-01\n",
      "   2.12772567e-02   7.95109259e-02   3.29675726e-02   3.82505331e-02\n",
      "   6.70372049e-01   2.48405431e-02   1.64375345e-01   8.18966447e-02\n",
      "   1.10746821e-01   2.20079518e-01   7.08158489e-02   1.33974968e-02\n",
      "   9.65805115e-02   3.07817492e-01   4.89272063e-02   4.47524970e-01\n",
      "   4.59516020e-02   6.36994035e-01   5.55470462e-02   8.45857491e-01\n",
      "   7.59762149e-01   1.55993751e-03   5.62368549e-01   9.78692758e-01\n",
      "   4.42865826e-03   1.65454846e-01   7.50340800e-02   6.78127814e-02\n",
      "   4.88618997e-03   4.92918688e-02   4.34317145e-01   4.88780842e-03\n",
      "   5.73577682e-01   7.46465798e-01   1.21088306e-01   6.19319735e-02\n",
      "   6.06487209e-03   1.09070933e-02   4.43076846e-03   2.04001503e-02\n",
      "   5.06891750e-03   5.18783757e-03   7.42980849e-01   3.50298989e-02\n",
      "   5.44690939e-02   4.97596407e-03   4.47843512e-02   1.07868223e-02\n",
      "   2.25289540e-03   1.42283273e-02   4.49267185e-03   1.35006326e-01\n",
      "   3.08468721e-03   9.68482237e-02   6.82174605e-02   4.16885438e-01\n",
      "   6.47832579e-01   4.63536495e-01   4.88959750e-02   5.22205645e-02\n",
      "   3.82649782e-02   6.25431152e-03   1.67511915e-02   1.13346037e-02\n",
      "   1.91421925e-01   6.02314844e-02   2.59011048e-02   4.39449807e-02\n",
      "   1.74769495e-01   1.67879281e-03   4.08054075e-02   4.56632395e-01\n",
      "   3.22152809e-01   4.37261614e-02   2.03931239e-01   5.18162197e-02\n",
      "   1.75659568e-01   3.12066130e-02   6.13232087e-01   9.08651013e-03\n",
      "   2.87957343e-02   6.00222997e-02   1.22745962e-02   5.45386883e-02\n",
      "   2.96905220e-02   5.40557781e-03   5.94292748e-03   5.17395360e-02\n",
      "   2.45843559e-01   2.55644750e-01]\n",
      "AUC:  0.932850770137\n"
     ]
    }
   ],
   "source": [
    "y_predict_prob_lr = logreg.predict_proba(X_test)\n",
    "\n",
    "print(y_predict_prob_lr[:  ,1])\n",
    "\n",
    "\n",
    "# calculate AUC\n",
    "fpr, tpr, thresholds = metrics.roc_curve(y_test, y_predict_prob_lr[:,1], pos_label=1)\n",
    "AUC = metrics.auc(fpr, tpr)\n",
    "print('AUC: ',AUC)"
   ]
  },
  {
   "cell_type": "code",
   "execution_count": 15,
   "metadata": {},
   "outputs": [
    {
     "data": {
      "image/png": "[encoded data removed]",
      "text/plain": [
       "<matplotlib.figure.Figure at 0x6bdc8e85f8>"
      ]
     },
     "metadata": {},
     "output_type": "display_data"
    }
   ],
   "source": [
    "from sklearn import metrics\n",
    "import matplotlib.pyplot as plt\n",
    "%matplotlib inline\n",
    "\n",
    "plt.figure()\n",
    "\n",
    "# Roc Curve:\n",
    "plt.plot(fpr, tpr, color='red', lw=2, \n",
    "         label='ROC Curve (area = %0.2f)' % AUC)\n",
    "\n",
    "# Random Guess line:\n",
    "plt.plot([0, 1], [0, 1], color='blue', lw=1, linestyle='--')\n",
    "\n",
    "# Define X-Axis and Y-Axis:\n",
    "plt.xlim([-0.005, 1.005])\n",
    "plt.ylim([0.0, 1.01])\n",
    "\n",
    "# Labels, Title, Legend:\n",
    "plt.xlabel('False Positive Rate')\n",
    "plt.ylabel('True Positive Rate')\n",
    "\n",
    "plt.legend(loc=\"lower right\")\n",
    "\n",
    "plt.show()"
   ]
  },
  {
   "cell_type": "markdown",
   "metadata": {},
   "source": [
    "# K - Nearest Neighbors"
   ]
  },
  {
   "cell_type": "code",
   "execution_count": 16,
   "metadata": {},
   "outputs": [
    {
     "name": "stdout",
     "output_type": "stream",
     "text": [
      "Accuracy using KNN 0.833163265306\n"
     ]
    }
   ],
   "source": [
    "from sklearn.neighbors import KNeighborsClassifier\n",
    "\n",
    "k=27\n",
    "y = df['Popular'] \n",
    "X_train, X_test, y_train, y_test = train_test_split(X, y, test_size = 0.3, random_state=0)\n",
    "my_knn = KNeighborsClassifier(n_neighbors=k)\n",
    "my_knn.fit(X_train, y_train)\n",
    "y_predict = my_knn.predict(X_test)\n",
    "accuracyKnn = accuracy_score(y_test, y_predict)\n",
    "print(\"Accuracy using KNN\", accuracyKnn)"
   ]
  },
  {
   "cell_type": "markdown",
   "metadata": {},
   "source": [
    "# Neural Networks"
   ]
  },
  {
   "cell_type": "code",
   "execution_count": 7,
   "metadata": {},
   "outputs": [
    {
     "name": "stdout",
     "output_type": "stream",
     "text": [
      "Accuracy on training data by Neural Networks:  0.875\n"
     ]
    }
   ],
   "source": [
    "from sklearn.neural_network import MLPClassifier\n",
    "\n",
    "y = df['Popular'] \n",
    "X_train, X_test, y_train, y_test = train_test_split(X, y,test_size = 0.3, random_state=0)\n",
    "\n",
    "clf = MLPClassifier(solver='lbfgs',hidden_layer_sizes=(8), random_state=0)\n",
    "clf.fit(X_train,y_train)\n",
    "\n",
    "predictions = clf.predict(X_test)\n",
    "\n",
    "predictions\n",
    "accuracyNN = accuracy_score(y_test, predictions)\n",
    "\n",
    "print(\"Accuracy on training data by Neural Networks: \", accuracyNN)"
   ]
  },
  {
   "cell_type": "markdown",
   "metadata": {},
   "source": [
    "### Cross Validation with Neural Networks "
   ]
  },
  {
   "cell_type": "code",
   "execution_count": 18,
   "metadata": {},
   "outputs": [
    {
     "name": "stdout",
     "output_type": "stream",
     "text": [
      "Accuracy Using Cross Validation With Neural Networks 0.850136688677\n"
     ]
    }
   ],
   "source": [
    "# importing the method:\n",
    "from sklearn.cross_validation import cross_val_score\n",
    "\n",
    "\n",
    "decisionTree = DecisionTreeClassifier()\n",
    "clf = MLPClassifier(solver='lbfgs',hidden_layer_sizes=(8), random_state=0)\n",
    "\n",
    "\n",
    "accuracy_list = cross_val_score(clf, X, y, cv=10)\n",
    "\n",
    "accuracy_gb = accuracy_list.mean()\n",
    "\n",
    "print(\"Accuracy Using Cross Validation With Neural Networks\",accuracy_gb)"
   ]
  },
  {
   "cell_type": "code",
   "execution_count": null,
   "metadata": {
    "collapsed": true
   },
   "outputs": [],
   "source": []
  }
 ],
 "metadata": {
  "anaconda-cloud": {},
  "kernelspec": {
   "display_name": "Python 3",
   "language": "python",
   "name": "python3"
  },
  "language_info": {
   "codemirror_mode": {
    "name": "ipython",
    "version": 3
   },
   "file_extension": ".py",
   "mimetype": "text/x-python",
   "name": "python",
   "nbconvert_exporter": "python",
   "pygments_lexer": "ipython3",
   "version": "3.6.1"
  }
 },
 "nbformat": 4,
 "nbformat_minor": 1
}
