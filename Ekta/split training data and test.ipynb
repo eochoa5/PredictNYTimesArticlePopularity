{
 "cells": [
  {
   "cell_type": "code",
   "execution_count": 1,
   "metadata": {
    "collapsed": true
   },
   "outputs": [],
   "source": [
    "#### import package and library\n",
    "\n",
    "import numpy as np\n",
    "import pandas as pd\n",
    "\n",
    "\n",
    "from sklearn.model_selection import train_test_split\n",
    "from sklearn.metrics import accuracy_score\n",
    "from sklearn.model_selection import cross_val_score\n",
    "from sklearn.tree import DecisionTreeClassifier\n",
    "import time\n",
    "import datetime\n",
    "from collections import Counter\n",
    "\n",
    "from sklearn.linear_model import LogisticRegression\n",
    "from sklearn.ensemble import RandomForestClassifier\n",
    "from sklearn.ensemble import ExtraTreesClassifier\n",
    "\n",
    "from sklearn import metrics\n",
    "import matplotlib.pyplot as plt"
   ]
  },
  {
   "cell_type": "code",
   "execution_count": 3,
   "metadata": {
    "collapsed": true
   },
   "outputs": [],
   "source": [
    "df = pd.read_csv('E:/CSU LA/TERMS/FALL 2017/CS4660 Artificial Intelligence/PROJECT GITHUB/PredictNYTimesArticlePopularity/Hiroko/data/NYTimesBlogTrain.csv')\n",
    "\n",
    "y = df['Popular'] \n",
    "\n",
    "# convert date to timestamp (milliseconds, divide by a million to get a more readable decimal)\n",
    "df['PubDate'] = df['PubDate'].apply(lambda x: time.mktime(time.strptime(x, '%Y-%m-%d %H:%M:%S'))/1000000)\n",
    "\n",
    "#replace empty values with the middle most common word\n",
    "\n",
    "def nan_to_meaningful(x, col):\n",
    "    if pd.isnull(x):\n",
    "        mc = Counter(col).most_common(8)\n",
    "        mc = [str(i[0]) for i in mc]\n",
    "        if 'nan' in mc:\n",
    "            mc.remove('nan')\n",
    "        rep = mc.pop((len(mc))//2)\n",
    "        return rep\n",
    "        \n",
    "    return x\n",
    "        \n",
    "my_list = [\"NewsDesk\",\"SectionName\",\"SubsectionName\",\"Headline\",\"Snippet\",\"Abstract\"]\n",
    "\n",
    "for f in my_list: \n",
    "    df[f] = df[f].apply(nan_to_meaningful, args=(df[f],))\n",
    "\n",
    "# split sentences into series of words so each word can be a column\n",
    "def string_to_series_of_words(x):    \n",
    "    return pd.Series(x.split(\" \"))\n",
    "\n",
    "\n",
    "for f in my_list[3:]:\n",
    "    df[f] = df[f].apply(string_to_series_of_words)\n",
    "    \n",
    "    \n",
    "df=pd.get_dummies(df,columns=[\"NewsDesk\",\"SectionName\",\"SubsectionName\", \"Headline\",\"Snippet\",\"Abstract\"],\n",
    "                  drop_first=False)\n",
    "\n",
    "new_features = list(df.dtypes.index)\n",
    "new_features.remove('Popular')\n",
    "\n",
    "X = df[new_features]\n",
    "\n",
    "# print(new_features)\n",
    "\n"
   ]
  },
  {
   "cell_type": "markdown",
   "metadata": {},
   "source": [
    "#### Split training data into train and test set"
   ]
  },
  {
   "cell_type": "code",
   "execution_count": 4,
   "metadata": {
    "collapsed": true
   },
   "outputs": [],
   "source": [
    "X_train, X_test, y_train, y_test = train_test_split(X, y, test_size=0.1, random_state=1)"
   ]
  },
  {
   "cell_type": "markdown",
   "metadata": {},
   "source": [
    "#### Logistic Regression"
   ]
  },
  {
   "cell_type": "code",
   "execution_count": 5,
   "metadata": {},
   "outputs": [
    {
     "name": "stdout",
     "output_type": "stream",
     "text": [
      "Logistic Regression:  0.899082568807\n"
     ]
    }
   ],
   "source": [
    "logreg = LogisticRegression()\n",
    "\n",
    "# training\n",
    "logreg.fit(X_train, y_train)\n",
    "\n",
    "# predict label\n",
    "y_predict_lr = logreg.predict(X_test)\n",
    "\n",
    "# calculate accuracy\n",
    "log_accuracy = accuracy_score(y_test, y_predict_lr)\n",
    "\n",
    "print('Logistic Regression: ', log_accuracy)"
   ]
  },
  {
   "cell_type": "markdown",
   "metadata": {},
   "source": [
    "#### calculate the probability of Logistic classification accuracy"
   ]
  },
  {
   "cell_type": "code",
   "execution_count": 6,
   "metadata": {},
   "outputs": [
    {
     "name": "stdout",
     "output_type": "stream",
     "text": [
      "[ 0.04964967  0.07444344  0.00721147  0.76788051  0.0926948   0.06117942\n",
      "  0.12726437  0.01043104  0.13490822  0.01765873  0.01994512  0.82733597\n",
      "  0.03365332  0.7016426   0.06962171  0.89198561  0.19236053  0.07192218\n",
      "  0.14656281  0.09527458  0.05097151  0.05156174  0.81737894  0.01437104\n",
      "  0.01786335  0.06956971  0.02385712  0.04054989  0.02204983  0.10316033\n",
      "  0.08093164  0.06571542  0.00667677  0.01635109  0.08309992  0.03611003\n",
      "  0.06858993  0.04751314  0.67406315  0.04644706  0.04122243  0.01605612\n",
      "  0.06439374  0.00749739  0.04152465  0.04106292  0.01275394  0.05311057\n",
      "  0.00496637  0.11572073  0.21634845  0.10950306  0.08547704  0.69677013\n",
      "  0.57987673  0.05955307  0.03723823  0.75263951  0.03201164  0.01533336\n",
      "  0.24817446  0.21498897  0.03822608  0.68311801  0.23527835  0.0712058\n",
      "  0.04688737  0.01395912  0.05533585  0.02440405  0.22778234  0.01314142\n",
      "  0.07302594  0.10155531  0.04480162  0.03896722  0.05020096  0.08142647\n",
      "  0.03991522  0.05943701  0.01152314  0.01384881  0.09208194  0.73207474\n",
      "  0.00722286  0.00879557  0.04820848  0.32712598  0.07279347  0.12016823\n",
      "  0.02376619  0.54060231  0.04670629  0.01538587  0.05907815  0.25139626\n",
      "  0.05788812  0.09879333  0.00589326  0.05211209  0.0138079   0.04721275\n",
      "  0.03626589  0.0867569   0.13332708  0.01592254  0.01412308  0.03647965\n",
      "  0.00551607  0.07382867  0.6337969   0.03707175  0.02277204  0.87590921\n",
      "  0.01396562  0.74208159  0.06952057  0.1446117   0.06296441  0.12632128\n",
      "  0.69888726  0.04161144  0.01687324  0.01667605  0.07021658  0.04650744\n",
      "  0.03414049  0.03794975  0.05317452  0.40917039  0.01025303  0.10904925\n",
      "  0.67799263  0.05532624  0.01059866  0.05596587  0.92558845  0.6394266\n",
      "  0.03626249  0.12579239  0.07372188  0.01450264  0.12601871  0.08552546\n",
      "  0.46186456  0.06022441  0.6833849   0.01427926  0.70697339  0.04584591\n",
      "  0.01213355  0.04385675  0.00948972  0.61176919  0.04788902  0.06773145\n",
      "  0.05030209  0.01740238  0.07231875  0.08618132  0.11086869  0.02305586\n",
      "  0.06377894  0.09113458  0.07577294  0.04421439  0.06714031  0.034237\n",
      "  0.07736914  0.77836589  0.04974414  0.06873043  0.12694415  0.06531551\n",
      "  0.2256003   0.07669427  0.19200595  0.08877154  0.08184136  0.06496195\n",
      "  0.73841729  0.24582657  0.05397437  0.00863086  0.66177149  0.00496365\n",
      "  0.26454178  0.01028139  0.06546094  0.67386884  0.03882666  0.06337445\n",
      "  0.08046129  0.99207555  0.06907759  0.67551403  0.07169958  0.730519\n",
      "  0.1234253   0.01587119  0.70264473  0.22620955  0.16664767  0.08509219\n",
      "  0.01854619  0.07510476  0.04785871  0.01510724  0.06354319  0.01834508\n",
      "  0.04719904  0.90659642  0.08519044  0.01187284  0.05021913  0.64765413\n",
      "  0.35242187  0.01389984  0.01868707  0.02001854  0.041934    0.01477693\n",
      "  0.03301622  0.10820593  0.02796266  0.63002277  0.05405009  0.16254364\n",
      "  0.26476143  0.06718432  0.01299171  0.27807678  0.01623226  0.0216608\n",
      "  0.75559593  0.6356533   0.10210652  0.02890342  0.04660811  0.09389342\n",
      "  0.00599493  0.05749528  0.24102761  0.04420065  0.094703    0.58063566\n",
      "  0.05161566  0.68417004  0.05558211  0.05048667  0.4012346   0.05540977\n",
      "  0.05067722  0.15371894  0.08661882  0.14363885  0.13479393  0.01751069\n",
      "  0.08278508  0.08082281  0.02082396  0.19016269  0.15525198  0.77738746\n",
      "  0.22850174  0.0417975   0.54550177  0.1432601   0.05455907  0.0354199\n",
      "  0.0553582   0.04659097  0.27424904  0.08159741  0.35832669  0.05743223\n",
      "  0.00522248  0.00533473  0.04357816  0.08664269  0.01332611  0.03961298\n",
      "  0.06247691  0.68723258  0.12660023  0.07945998  0.01801617  0.17062116\n",
      "  0.11804724  0.06923764  0.03036567  0.02034291  0.05751636  0.01066786\n",
      "  0.86213512  0.17761912  0.05729243  0.0219161   0.07965855  0.05019312\n",
      "  0.04998072  0.15487561  0.05758659  0.04303917  0.05331151  0.04943587\n",
      "  0.27309766  0.01966368  0.17722564  0.01293185  0.0982376   0.01582515\n",
      "  0.00613969  0.07540522  0.4979884   0.82111378  0.23288049  0.03947161\n",
      "  0.01439638  0.13718253  0.11867773  0.0568742   0.19259442  0.03472149\n",
      "  0.02142333  0.0300865   0.00491664  0.02140295  0.71747305  0.05661391\n",
      "  0.02066114  0.04180269  0.01504165  0.01681581  0.01259771  0.05154713\n",
      "  0.06810854  0.11296108  0.11173041  0.04480307  0.04631827  0.08338797\n",
      "  0.04565172  0.00944767  0.12731142  0.03765631  0.01395992  0.0500067\n",
      "  0.06031385  0.04446277  0.05594877  0.04471528  0.06062241  0.24123264\n",
      "  0.04003614  0.12521501  0.14403282  0.01842597  0.11120011  0.2483038\n",
      "  0.00642972  0.01319279  0.0461833   0.2798212   0.0107432   0.05122382\n",
      "  0.11932097  0.62282692  0.16671129  0.04727059  0.01635329  0.01525005\n",
      "  0.06055396  0.04989125  0.08267995  0.91764236  0.05821929  0.06883332\n",
      "  0.00496771  0.01354269  0.09911646  0.00951382  0.0991732   0.01340226\n",
      "  0.03586232  0.06890905  0.04595654  0.08333001  0.10071626  0.06145976\n",
      "  0.63697826  0.01474215  0.09526485  0.05226883  0.22607729  0.05368229\n",
      "  0.08183006  0.02719646  0.05284014  0.04858769  0.03733168  0.45358138\n",
      "  0.10222685  0.11006578  0.1266781   0.04667503  0.04565641  0.03126914\n",
      "  0.04008792  0.03546796  0.10347222  0.05654198  0.09926869  0.05413512\n",
      "  0.0972412   0.19536273  0.05992904  0.06193954  0.14434753  0.19761564\n",
      "  0.00724056  0.07738789  0.0635177   0.08662561  0.78558683  0.00702296\n",
      "  0.14855568  0.04841345  0.00513561  0.06076947  0.04336351  0.04385883\n",
      "  0.18981622  0.00561789  0.05382744  0.06071644  0.01446289  0.01429189\n",
      "  0.19209134  0.06416513  0.07034143  0.05088334  0.08432781  0.04838371\n",
      "  0.05975587  0.86247849  0.66559787  0.04432728  0.01057188  0.05261941\n",
      "  0.07182382  0.05534195  0.04778648  0.09612862  0.0494364   0.04292947\n",
      "  0.01680207  0.00515046  0.05822607  0.20106205  0.04628711  0.05521892\n",
      "  0.17462522  0.60712725  0.04520279  0.12537955  0.3460653   0.55185479\n",
      "  0.20858047  0.0913657   0.05462729  0.63567051  0.04970763  0.0443186\n",
      "  0.14149428  0.00689197  0.08083346  0.13768946  0.06167775  0.71058198\n",
      "  0.15535901  0.03572905  0.01648723  0.16468908  0.02904043  0.07928577\n",
      "  0.01834032  0.04293135  0.05399294  0.04841718  0.05176763  0.55312993\n",
      "  0.06155227  0.66487287  0.05260113  0.70641694  0.03947572  0.11737564\n",
      "  0.25621439  0.06026947  0.58444516  0.01025069  0.40212547  0.08106348\n",
      "  0.00987191  0.73881164  0.28105141  0.67463095  0.02151899  0.63481998\n",
      "  0.86753581  0.04230264  0.04590705  0.62296036  0.12319928  0.02069099\n",
      "  0.05117625  0.09683572  0.0120926   0.19243671  0.01005897  0.39746099\n",
      "  0.06627679  0.04424502  0.06972842  0.0615092   0.05138323  0.05433353\n",
      "  0.11293237  0.07060411  0.10217029  0.22933878  0.27240362  0.00686643\n",
      "  0.03648137  0.63000342  0.05213139  0.06562186  0.01634259  0.05811005\n",
      "  0.0246652   0.01395952  0.80280129  0.1070094   0.03121273  0.09071777\n",
      "  0.04428593  0.01683416  0.23129109  0.14080582  0.07392404  0.08542659\n",
      "  0.07947989  0.01621117  0.01497162  0.06107912  0.35030981  0.71972336\n",
      "  0.14123619  0.18997583  0.0883168   0.05488528  0.1219023   0.93258042\n",
      "  0.03977381  0.19073996  0.04509805  0.05068902  0.61501565  0.03242059\n",
      "  0.2183713   0.04363104  0.07335966  0.16357294  0.05538507  0.02785579\n",
      "  0.08732007  0.27585016  0.04938304  0.66028263  0.05898421  0.4504976\n",
      "  0.08780928  0.67740824  0.71938382  0.01025962  0.46138278  0.93444157\n",
      "  0.02245619  0.13397921  0.07258753  0.0579908   0.01388552  0.04128082\n",
      "  0.15711883  0.01730438  0.50424295  0.6959225   0.08799566  0.04560187\n",
      "  0.01561406  0.02835505  0.01844182  0.1148598   0.01356117  0.0087044\n",
      "  0.71365799  0.04891516  0.04547957  0.01697187  0.12023625  0.05345182\n",
      "  0.00726852  0.10923883  0.01344592  0.33379182  0.01442929  0.05392916\n",
      "  0.04931495  0.18429504  0.48621633  0.32919435  0.05537904  0.07671919\n",
      "  0.05706722  0.01046417  0.03407759  0.0307835   0.11657633  0.06411803\n",
      "  0.0403239   0.21523185  0.11654194  0.00662122  0.0606021   0.31103723\n",
      "  0.21445002  0.04919008  0.12864445  0.06632814  0.12829738  0.0474758\n",
      "  0.66072868  0.02005669  0.05262595  0.06741078  0.05420226  0.0424775\n",
      "  0.05292019  0.00752239  0.01827716  0.03985221  0.22947296  0.26426054]\n",
      "AUC:  0.919013551048\n"
     ]
    }
   ],
   "source": [
    "y_predict_prob_lr = logreg.predict_proba(X_test)\n",
    "\n",
    "print(y_predict_prob_lr[:  ,1])\n",
    "\n",
    "\n",
    "# calculate AUC\n",
    "fpr, tpr, thresholds = metrics.roc_curve(y_test, y_predict_prob_lr[:,1], pos_label=1)\n",
    "AUC = metrics.auc(fpr, tpr)\n",
    "print('AUC: ',AUC)"
   ]
  },
  {
   "cell_type": "code",
   "execution_count": 7,
   "metadata": {},
   "outputs": [
    {
     "data": {
      "image/png": "[encoded data removed]",
      "text/plain": [
       "<matplotlib.figure.Figure at 0x2207d44b5f8>"
      ]
     },
     "metadata": {},
     "output_type": "display_data"
    }
   ],
   "source": [
    "%matplotlib inline\n",
    "\n",
    "plt.figure()\n",
    "\n",
    "# Roc Curve:\n",
    "plt.plot(fpr, tpr, color='red', lw=2, \n",
    "         label='ROC Curve (area = %0.2f)' % AUC)\n",
    "\n",
    "# Random Guess line:\n",
    "plt.plot([0, 1], [0, 1], color='blue', lw=1, linestyle='--')\n",
    "\n",
    "# Define X-Axis and Y-Axis:\n",
    "plt.xlim([-0.005, 1.005])\n",
    "plt.ylim([0.0, 1.01])\n",
    "\n",
    "# Labels, Title, Legend:\n",
    "plt.xlabel('False Positive Rate')\n",
    "plt.ylabel('True Positive Rate')\n",
    "\n",
    "plt.legend(loc=\"lower right\")\n",
    "\n",
    "plt.show()"
   ]
  },
  {
   "cell_type": "markdown",
   "metadata": {},
   "source": [
    "#### Randomforest Classifier"
   ]
  },
  {
   "cell_type": "code",
   "execution_count": 8,
   "metadata": {},
   "outputs": [
    {
     "name": "stdout",
     "output_type": "stream",
     "text": [
      "\n",
      "Accuracy:  0.909785932722\n"
     ]
    }
   ],
   "source": [
    "rf =  RandomForestClassifier(n_estimators = 50, bootstrap = True, random_state=0, criterion='entropy')\n",
    "rf.fit(X_train, y_train)\n",
    "\n",
    "y_predict_randF = rf.predict(X_test)\n",
    "\n",
    "accuracy = accuracy_score(y_test, y_predict_randF)\n",
    "\n",
    "print(\"\\nAccuracy: \", accuracy) "
   ]
  },
  {
   "cell_type": "markdown",
   "metadata": {},
   "source": [
    "#### DecisionTree Classifier"
   ]
  },
  {
   "cell_type": "code",
   "execution_count": 9,
   "metadata": {},
   "outputs": [
    {
     "name": "stdout",
     "output_type": "stream",
     "text": [
      "\n",
      "Accuracy Decision Tree:  0.906727828746\n"
     ]
    }
   ],
   "source": [
    "decTree =  DecisionTreeClassifier(criterion='entropy', min_samples_split=4, random_state=0)\n",
    "decTree.fit(X_train, y_train)\n",
    "y_predict_decTree = decTree.predict(X_test)\n",
    "\n",
    "accuracy_decTree = accuracy_score(y_test, y_predict_decTree)\n",
    "\n",
    "print(\"\\nAccuracy Decision Tree: \", accuracy_decTree) \n"
   ]
  },
  {
   "cell_type": "markdown",
   "metadata": {},
   "source": [
    "#### ExtraTreesClassifier"
   ]
  },
  {
   "cell_type": "code",
   "execution_count": 10,
   "metadata": {},
   "outputs": [
    {
     "name": "stdout",
     "output_type": "stream",
     "text": [
      "\n",
      "Accuracy ExtraTreesClassifier:  0.911314984709\n"
     ]
    }
   ],
   "source": [
    "etc = ExtraTreesClassifier(n_estimators=52, max_depth=None, min_samples_split=5, random_state=0, criterion='entropy')\n",
    "etc.fit(X_train,y_train)\n",
    "\n",
    "predictions_etc = etc.predict(X_test)\n",
    "accuracy_etc = accuracy_score(y_test, predictions_etc)\n",
    "\n",
    "print(\"\\nAccuracy ExtraTreesClassifier: \", accuracy_etc) "
   ]
  },
  {
   "cell_type": "markdown",
   "metadata": {},
   "source": [
    "#### Combine Prediction"
   ]
  },
  {
   "cell_type": "code",
   "execution_count": 11,
   "metadata": {},
   "outputs": [
    {
     "name": "stdout",
     "output_type": "stream",
     "text": [
      "\n",
      " Combined Accuracy:  0.915902140673\n"
     ]
    }
   ],
   "source": [
    "combined_predictions=pd.DataFrame([y_predict_randF, y_predict_decTree, predictions_etc])\n",
    "\n",
    "consolidated_predictions = list(combined_predictions.mode().values[0])\n",
    "\n",
    "acc= accuracy_score(y_test, consolidated_predictions)\n",
    "\n",
    "print(\"\\n Combined Accuracy: \", acc) "
   ]
  },
  {
   "cell_type": "code",
   "execution_count": 15,
   "metadata": {},
   "outputs": [
    {
     "name": "stdout",
     "output_type": "stream",
     "text": [
      "Accuracy by Ada Boost Classifier:  0.891437308869\n"
     ]
    }
   ],
   "source": [
    "#Ada boost\n",
    "from sklearn.ensemble import AdaBoostClassifier\n",
    "dt = DecisionTreeClassifier()\n",
    "clf = AdaBoostClassifier(n_estimators=100, base_estimator=dt,learning_rate=1)\n",
    "clf.fit(X_train, y_train)\n",
    "prediction = clf.predict(X_test)\n",
    "acc_score = accuracy_score(y_test, prediction)\n",
    "print(\"Accuracy by Ada Boost Classifier: \", acc_score)"
   ]
  },
  {
   "cell_type": "code",
   "execution_count": 16,
   "metadata": {},
   "outputs": [
    {
     "name": "stdout",
     "output_type": "stream",
     "text": [
      "Accuracy by Gradient Boosting Classifier:  0.899082568807\n"
     ]
    }
   ],
   "source": [
    "#Gradient Boosting Classifier\n",
    "from sklearn.ensemble import GradientBoostingClassifier\n",
    "clf = GradientBoostingClassifier(n_estimators=100, learning_rate=1.0, max_depth=1)\n",
    "clf.fit(X_train, y_train)\n",
    "prediction = clf.predict(X_test)\n",
    "acc_score = accuracy_score(y_test, prediction)\n",
    "print(\"Accuracy by Gradient Boosting Classifier: \", acc_score)"
   ]
  },
  {
   "cell_type": "code",
   "execution_count": null,
   "metadata": {
    "collapsed": true
   },
   "outputs": [],
   "source": []
  },
  {
   "cell_type": "code",
   "execution_count": null,
   "metadata": {
    "collapsed": true
   },
   "outputs": [],
   "source": []
  }
 ],
 "metadata": {
  "kernelspec": {
   "display_name": "Python 3",
   "language": "python",
   "name": "python3"
  },
  "language_info": {
   "codemirror_mode": {
    "name": "ipython",
    "version": 3
   },
   "file_extension": ".py",
   "mimetype": "text/x-python",
   "name": "python",
   "nbconvert_exporter": "python",
   "pygments_lexer": "ipython3",
   "version": "3.6.2"
  }
 },
 "nbformat": 4,
 "nbformat_minor": 2
}
